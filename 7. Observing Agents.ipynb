{
 "cells": [
  {
   "cell_type": "markdown",
   "metadata": {},
   "source": [
    "# Running and Observing Agents"
   ]
  },
  {
   "cell_type": "code",
   "execution_count": 1,
   "metadata": {},
   "outputs": [],
   "source": [
    "from autogen_agentchat.agents import AssistantAgent\n",
    "from autogen_ext.models.openai import OpenAIChatCompletionClient\n",
    "from autogen_agentchat.messages import TextMessage\n",
    "from dotenv import load_dotenv\n",
    "import os\n",
    "\n",
    "load_dotenv()\n",
    "api_key = os.getenv('OPENAI_API_KEY')\n",
    "model_client = OpenAIChatCompletionClient(model='gpt-4o', api_key=api_key)"
   ]
  },
  {
   "cell_type": "code",
   "execution_count": 2,
   "metadata": {},
   "outputs": [],
   "source": [
    "async def web_search(query: str) -> str:\n",
    "    \"\"\"Find information on the web\"\"\"\n",
    "    return \"The Labrador Retriever or simply Labrador is a British breed of retriever gun dog. \""
   ]
  },
  {
   "cell_type": "code",
   "execution_count": 3,
   "metadata": {},
   "outputs": [],
   "source": [
    "agent = AssistantAgent(\n",
    "    name='assistant',\n",
    "    model_client=model_client,\n",
    "    tools=[web_search],\n",
    "    system_message='Use Tools to solve tasks'\n",
    ")"
   ]
  },
  {
   "cell_type": "code",
   "execution_count": 4,
   "metadata": {},
   "outputs": [
    {
     "name": "stdout",
     "output_type": "stream",
     "text": [
      "The Labrador Retriever or simply Labrador is a British breed of retriever gun dog. \n"
     ]
    }
   ],
   "source": [
    "result = await agent.run(task='Find information about Labrador Retriever')\n",
    "print(result.messages[-1].content)"
   ]
  },
  {
   "cell_type": "markdown",
   "metadata": {},
   "source": [
    "### On_message() method"
   ]
  },
  {
   "cell_type": "code",
   "execution_count": 5,
   "metadata": {},
   "outputs": [
    {
     "name": "stdout",
     "output_type": "stream",
     "text": [
      "[ToolCallRequestEvent(id='f0fa0977-40d8-437f-82fa-7c74042a132a', source='assistant', models_usage=RequestUsage(prompt_tokens=115, completion_tokens=18), metadata={}, created_at=datetime.datetime(2025, 10, 24, 23, 58, 15, 150478, tzinfo=datetime.timezone.utc), content=[FunctionCall(id='call_0GTP4F9uOkgI0eGnGiZmMIoP', arguments='{\"query\":\"Labrador Retriever information\"}', name='web_search')], type='ToolCallRequestEvent'), ToolCallExecutionEvent(id='5421278f-ec65-4b61-a034-fe78628c5238', source='assistant', models_usage=None, metadata={}, created_at=datetime.datetime(2025, 10, 24, 23, 58, 15, 160707, tzinfo=datetime.timezone.utc), content=[FunctionExecutionResult(content='The Labrador Retriever or simply Labrador is a British breed of retriever gun dog. ', name='web_search', call_id='call_0GTP4F9uOkgI0eGnGiZmMIoP', is_error=False)], type='ToolCallExecutionEvent')]\n",
      "\n",
      "\n",
      "\n",
      "\n",
      "\n",
      "id='b47baf9f-0e6e-437b-89f6-4347ecf2d7e4' source='assistant' models_usage=None metadata={} created_at=datetime.datetime(2025, 10, 24, 23, 58, 15, 161325, tzinfo=datetime.timezone.utc) content='The Labrador Retriever or simply Labrador is a British breed of retriever gun dog. ' type='ToolCallSummaryMessage' tool_calls=[FunctionCall(id='call_0GTP4F9uOkgI0eGnGiZmMIoP', arguments='{\"query\":\"Labrador Retriever information\"}', name='web_search')] results=[FunctionExecutionResult(content='The Labrador Retriever or simply Labrador is a British breed of retriever gun dog. ', name='web_search', call_id='call_0GTP4F9uOkgI0eGnGiZmMIoP', is_error=False)]\n"
     ]
    }
   ],
   "source": [
    "from autogen_core import CancellationToken\n",
    "\n",
    "async def assistant_run()-> None:\n",
    "    response = await agent.on_messages(\n",
    "        messages= [TextMessage(content='Find information about Labrador Retriever',source='User')],\n",
    "        cancellation_token=CancellationToken()\n",
    "    )\n",
    "\n",
    "    print(response.inner_messages)\n",
    "    print('\\n\\n\\n\\n')\n",
    "    print(response.chat_message)\n",
    "\n",
    "await assistant_run()"
   ]
  },
  {
   "cell_type": "code",
   "execution_count": 6,
   "metadata": {},
   "outputs": [
    {
     "name": "stdout",
     "output_type": "stream",
     "text": [
      "[ToolCallRequestEvent(id='8999614b-1d20-47b7-abb1-6c8403af0a40', source='assistant', models_usage=RequestUsage(prompt_tokens=172, completion_tokens=18), metadata={}, created_at=datetime.datetime(2025, 10, 24, 23, 58, 17, 870524, tzinfo=datetime.timezone.utc), content=[FunctionCall(id='call_maiBSgh0IdvxDAQsWjX5WYVS', arguments='{\"query\":\"Labrador Retriever information\"}', name='web_search')], type='ToolCallRequestEvent'), ToolCallExecutionEvent(id='f7718255-223a-42d7-8187-c2bbf33e933d', source='assistant', models_usage=None, metadata={}, created_at=datetime.datetime(2025, 10, 24, 23, 58, 17, 871907, tzinfo=datetime.timezone.utc), content=[FunctionExecutionResult(content='The Labrador Retriever or simply Labrador is a British breed of retriever gun dog. ', name='web_search', call_id='call_maiBSgh0IdvxDAQsWjX5WYVS', is_error=False)], type='ToolCallExecutionEvent')]\n",
      "\n",
      "\n",
      "\n",
      "\n",
      "\n",
      "id='835264fb-8798-4135-a369-e90296ded1f5' source='assistant' models_usage=None metadata={} created_at=datetime.datetime(2025, 10, 24, 23, 58, 17, 871979, tzinfo=datetime.timezone.utc) content='The Labrador Retriever or simply Labrador is a British breed of retriever gun dog. ' type='ToolCallSummaryMessage' tool_calls=[FunctionCall(id='call_maiBSgh0IdvxDAQsWjX5WYVS', arguments='{\"query\":\"Labrador Retriever information\"}', name='web_search')] results=[FunctionExecutionResult(content='The Labrador Retriever or simply Labrador is a British breed of retriever gun dog. ', name='web_search', call_id='call_maiBSgh0IdvxDAQsWjX5WYVS', is_error=False)]\n"
     ]
    }
   ],
   "source": [
    "from autogen_core import CancellationToken\n",
    "\n",
    "async def assistant_run()-> None:\n",
    "    response = await agent.on_messages(\n",
    "        messages= [TextMessage(content='Find information about Labrador Retriever via the tool',source='User')],\n",
    "        cancellation_token=CancellationToken()\n",
    "    )\n",
    "\n",
    "    print(response.inner_messages)\n",
    "    print('\\n\\n\\n\\n')\n",
    "    print(response.chat_message)\n",
    "\n",
    "await assistant_run()"
   ]
  },
  {
   "cell_type": "markdown",
   "metadata": {},
   "source": [
    "### Streaming Messages\n",
    "\n",
    "#### on_messages_stream()"
   ]
  },
  {
   "cell_type": "code",
   "execution_count": 7,
   "metadata": {},
   "outputs": [
    {
     "name": "stdout",
     "output_type": "stream",
     "text": [
      "---------- ToolCallRequestEvent (assistant) ----------\n",
      "[FunctionCall(id='call_474HnyWunRhtRdstT2MuIOpH', arguments='{\"query\":\"Labrador Retriever information\"}', name='web_search')]\n",
      "[Prompt tokens: 229, Completion tokens: 18]\n",
      "---------- ToolCallExecutionEvent (assistant) ----------\n",
      "[FunctionExecutionResult(content='The Labrador Retriever or simply Labrador is a British breed of retriever gun dog. ', name='web_search', call_id='call_474HnyWunRhtRdstT2MuIOpH', is_error=False)]\n",
      "---------- assistant ----------\n",
      "The Labrador Retriever or simply Labrador is a British breed of retriever gun dog. \n",
      "---------- Summary ----------\n",
      "Number of inner messages: 2\n",
      "Total prompt tokens: 229\n",
      "Total completion tokens: 18\n",
      "Duration: 1.00 seconds\n"
     ]
    }
   ],
   "source": [
    "from autogen_agentchat.ui import Console\n",
    "\n",
    "\n",
    "async def assistant_run_stream() -> None:\n",
    "\n",
    "    await Console(\n",
    "        agent.on_messages_stream(\n",
    "        messages= [TextMessage(content='Find information about Labrador Retriever via the tool',source='User')],\n",
    "        cancellation_token=CancellationToken()\n",
    "    ),\n",
    "    output_stats=True # Enable stats Printing\n",
    "    )\n",
    "\n",
    "\n",
    "await assistant_run_stream()"
   ]
  },
  {
   "cell_type": "code",
   "execution_count": null,
   "metadata": {},
   "outputs": [],
   "source": []
  }
 ],
 "metadata": {
  "kernelspec": {
   "display_name": "autogen",
   "language": "python",
   "name": "python3"
  },
  "language_info": {
   "codemirror_mode": {
    "name": "ipython",
    "version": 3
   },
   "file_extension": ".py",
   "mimetype": "text/x-python",
   "name": "python",
   "nbconvert_exporter": "python",
   "pygments_lexer": "ipython3",
   "version": "3.13.5"
  }
 },
 "nbformat": 4,
 "nbformat_minor": 2
}
