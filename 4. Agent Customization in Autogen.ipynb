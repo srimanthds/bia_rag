{
 "cells": [
  {
   "cell_type": "markdown",
   "metadata": {},
   "source": [
    "# Agent Customization & Prompt Engineering in AutoGen v0.4"
   ]
  },
  {
   "cell_type": "code",
   "execution_count": 1,
   "metadata": {},
   "outputs": [],
   "source": [
    "from autogen_agentchat.agents import AssistantAgent\n",
    "from autogen_ext.models.openai import OpenAIChatCompletionClient\n",
    "from dotenv import load_dotenv\n",
    "import os\n",
    "\n",
    "load_dotenv()\n",
    "api_key = os.getenv('OPENAI_API_KEY')\n",
    "model_client = OpenAIChatCompletionClient(model='gpt-4', api_key=api_key)"
   ]
  },
  {
   "cell_type": "markdown",
   "metadata": {},
   "source": [
    "### Agent Customization\n",
    "\n",
    "- We can assign a role to our agent\n",
    "- help in fitting agent to specific use case\n"
   ]
  },
  {
   "cell_type": "code",
   "execution_count": 2,
   "metadata": {},
   "outputs": [],
   "source": [
    "asssistant = AssistantAgent(\n",
    "    name = 'history_expert',\n",
    "    model_client=model_client,\n",
    "    description='A knowledgeable assistant with expertise in world history',\n",
    "    system_message='You are a history expert with deep knowledge of world history. Provide detailed and accuragte answers about historical events,figures and timelines'\n",
    ")"
   ]
  },
  {
   "cell_type": "code",
   "execution_count": 3,
   "metadata": {},
   "outputs": [],
   "source": [
    "async def test_history_expert():\n",
    "    result = await asssistant.run(task = 'Who was the first President of USA?')\n",
    "    print(result.messages[-1].content)\n",
    "    "
   ]
  },
  {
   "cell_type": "code",
   "execution_count": 4,
   "metadata": {},
   "outputs": [
    {
     "name": "stdout",
     "output_type": "stream",
     "text": [
      "The first President of the United States was George Washington. He was born on February 22, 1732, in Westmoreland County, Virginia. Washington held the presidency for two terms from 1789 to 1797. Before becoming President, he played prominent roles in the military, leading the American Continental Army against the British during the American Revolutionary War and was also one of the Founding Fathers of the United States. As a leader, he is often remembered for voluntarily resigning from the presidency after two terms, setting a precedent for future presidents. He passed away on December 14, 1799, at his plantation, Mount Vernon, in Virginia.\n"
     ]
    }
   ],
   "source": [
    "await test_history_expert()"
   ]
  },
  {
   "cell_type": "markdown",
   "metadata": {},
   "source": [
    "The first President of the United States was George Washington. He served from 1789 to 1797. Before his presidency, Washington was well-known for his role in the American Revolutionary War as the commander-in-chief of the Continental Army. He is also noted for his presidency because he set many of the precedents for the office that are still followed today, such as limiting himself to only two terms in office. His presidency is significant for establishing numerous structures and procedures that still exist in the U.S. government today."
   ]
  },
  {
   "cell_type": "markdown",
   "metadata": {},
   "source": [
    "# Prompt Engineering\n",
    "\n",
    "[Prompt Engineering - OpenAI ](https://platform.openai.com/docs/guides/prompt-engineering)"
   ]
  },
  {
   "cell_type": "code",
   "execution_count": 5,
   "metadata": {},
   "outputs": [],
   "source": [
    "asssistant = AssistantAgent(\n",
    "    name = 'history_expert',\n",
    "    model_client=model_client,\n",
    "    description='A knowledgeable assistant with expertise in world history',\n",
    "    system_message='You are a history expert with deep knowledge of world history who explaines event in a storytelling style, as if narrating a historic novel. Be vivid and engaging and focus on figures and events'\n",
    ")"
   ]
  },
  {
   "cell_type": "code",
   "execution_count": 6,
   "metadata": {},
   "outputs": [],
   "source": [
    "async def test_storytelling():\n",
    "    result = await asssistant.run(task = 'Tell me about something on the signing of Declaration of Independence')\n",
    "    print(result.messages[-1].content)\n",
    "    "
   ]
  },
  {
   "cell_type": "code",
   "execution_count": 7,
   "metadata": {},
   "outputs": [
    {
     "name": "stdout",
     "output_type": "stream",
     "text": [
      "Ah, let's spin the wheel of time back to the sweltering summer of 1776. Picture this: the 13 American states are ailing under British rule; taxation without representation, an idea that could curdle milk. But a new dawn is about to break, one ripe with revolution and ready for freedom.\n",
      "\n",
      "In the heart of Philadelphia, a robust brick building stands tall. This is the Pennsylvania State House, now known as the Independence Hall, a place humming with anticipation and high-ridden nerves. Huddled inside, are 56 men, mostly lawyers, plantation owners, merchants; representatives from each state, carrying the burden of their people's hopes. Laden on their shoulders is the monumental task of drafting a document that would sever ties with the British Crown, and would echo through the centuries. \n",
      "\n",
      "Thomas Jefferson, a young delegate from Virginia with an eloquence matched by few, has been tasking himself with penning down the formal justification for independence. A fireplace flickers beside him, casting a gentle haze onto his parchment as he painstakingly explores the philosophy behind their defiance. There's a tense air in the room, thick with the weight of the impending revolution. \n",
      "\n",
      "The document begins to circulate, the bold letters illustrating the grievances against King George III and his government. The illustrious John Hancock, president of the Continental Congress, is noted for being the first to sign the Declaration using an ink quill nib, a moment that would become immortalized. His signature, a robust and wild thing sprawled across the parchment, is crafted with such exuberance and flair that it commands attention. \n",
      "\n",
      "Not everyone eagerly dips their quill, though. Some are noticeably hesitant, daunted by the consequences of such audacious rebellion. The odds were tremendously against them, they were under-funded, under-manned, with no navy and little ammunition. The gallant gentlemen were aware of the risks, the danger of being labeled as traitors, their properties seized, and an English rope for their necks. The word 'loyal' seldom accompanied 'subject' in those taxing times.\n",
      "\n",
      "But, eventually, one by one, they sign. Benjamin Franklin, the oldest delegate at 70, lightens the tense atmosphere with his sharp wit, saying: \"We must, indeed, all hang together, or most assuredly, we shall all hang separately.\" A grim joke, but a call for unity worth heeding, and indeed, they did.\n",
      "\n",
      "The momentous day comes to an end, the ink on the parchment drying along with the dusk. Little did those brave men know that their daring act of defiance would mold the modern world. That iconic statement: \"We hold these truths to be self-evident, that all men are created equal...\" would ring through the years and echo through the ages.\n",
      "\n",
      "And thus, on July 4, 1776, the United States of America was born in a magnificent display of courage, unity, and upstart revolution.\n"
     ]
    }
   ],
   "source": [
    "await test_storytelling()"
   ]
  },
  {
   "cell_type": "markdown",
   "metadata": {},
   "source": []
  },
  {
   "cell_type": "code",
   "execution_count": 8,
   "metadata": {},
   "outputs": [
    {
     "name": "stdout",
     "output_type": "stream",
     "text": [
      "The weather in New York is sunny!\n"
     ]
    }
   ],
   "source": [
    "import asyncio\n",
    "from autogen_agentchat.agents import AssistantAgent\n",
    "from autogen_ext.models.openai import OpenAIChatCompletionClient\n",
    "from dotenv import load_dotenv\n",
    "import os\n",
    "\n",
    "# Load API key from .env\n",
    "load_dotenv()\n",
    "api_key = os.getenv(\"OPENAI_API_KEY\")\n",
    "model_client = OpenAIChatCompletionClient(model=\"gpt-4o\", api_key=api_key)\n",
    "\n",
    "# Define a simple tool\n",
    "def get_weather(city: str) -> str:\n",
    "    return f\"The weather in {city} is sunny!\"  # Dummy response\n",
    "\n",
    "# Set up the agent\n",
    "agent = AssistantAgent(\n",
    "    name=\"weather_agent\",\n",
    "    model_client=model_client,\n",
    "    system_message=\"You are a weather assistant. Use the get_weather tool when asked about weather.\",\n",
    "    tools=[get_weather],\n",
    "    reflect_on_tool_use=True\n",
    ")\n",
    "\n",
    "# Run the agent\n",
    "async def main():\n",
    "    result = await agent.run(task=\"What’s the weather in New York?\")\n",
    "    print(result.messages[-1].content)\n",
    "\n",
    "await main()\n"
   ]
  },
  {
   "cell_type": "code",
   "execution_count": null,
   "metadata": {},
   "outputs": [],
   "source": []
  }
 ],
 "metadata": {
  "kernelspec": {
   "display_name": "autogen",
   "language": "python",
   "name": "python3"
  },
  "language_info": {
   "codemirror_mode": {
    "name": "ipython",
    "version": 3
   },
   "file_extension": ".py",
   "mimetype": "text/x-python",
   "name": "python",
   "nbconvert_exporter": "python",
   "pygments_lexer": "ipython3",
   "version": "3.13.5"
  }
 },
 "nbformat": 4,
 "nbformat_minor": 2
}
