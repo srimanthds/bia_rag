{
  "nbformat": 4,
  "nbformat_minor": 0,
  "metadata": {
    "colab": {
      "provenance": [],
      "gpuType": "T4"
    },
    "kernelspec": {
      "name": "python3",
      "display_name": "Python 3"
    },
    "language_info": {
      "name": "python"
    },
    "widgets": {
      "application/vnd.jupyter.widget-state+json": {
        "d579350492cd47149a1fed2e393d14f2": {
          "model_module": "@jupyter-widgets/controls",
          "model_name": "HBoxModel",
          "model_module_version": "1.5.0",
          "state": {
            "_dom_classes": [],
            "_model_module": "@jupyter-widgets/controls",
            "_model_module_version": "1.5.0",
            "_model_name": "HBoxModel",
            "_view_count": null,
            "_view_module": "@jupyter-widgets/controls",
            "_view_module_version": "1.5.0",
            "_view_name": "HBoxView",
            "box_style": "",
            "children": [
              "IPY_MODEL_bff579f0bb5348de9cdef7482ebbb9ca",
              "IPY_MODEL_f51d0a35ede745398958426d1fcbf099",
              "IPY_MODEL_84c8d59a1aee496ca51b29ebf5d0f43e"
            ],
            "layout": "IPY_MODEL_96cf64a7915f41f986901b1c96454c76"
          }
        },
        "bff579f0bb5348de9cdef7482ebbb9ca": {
          "model_module": "@jupyter-widgets/controls",
          "model_name": "HTMLModel",
          "model_module_version": "1.5.0",
          "state": {
            "_dom_classes": [],
            "_model_module": "@jupyter-widgets/controls",
            "_model_module_version": "1.5.0",
            "_model_name": "HTMLModel",
            "_view_count": null,
            "_view_module": "@jupyter-widgets/controls",
            "_view_module_version": "1.5.0",
            "_view_name": "HTMLView",
            "description": "",
            "description_tooltip": null,
            "layout": "IPY_MODEL_6ce241b8d48241da90173e458cabcb51",
            "placeholder": "​",
            "style": "IPY_MODEL_c6a8c70e1a384750aceb11cdb0f32b3b",
            "value": "open_clip_model.safetensors: 100%"
          }
        },
        "f51d0a35ede745398958426d1fcbf099": {
          "model_module": "@jupyter-widgets/controls",
          "model_name": "FloatProgressModel",
          "model_module_version": "1.5.0",
          "state": {
            "_dom_classes": [],
            "_model_module": "@jupyter-widgets/controls",
            "_model_module_version": "1.5.0",
            "_model_name": "FloatProgressModel",
            "_view_count": null,
            "_view_module": "@jupyter-widgets/controls",
            "_view_module_version": "1.5.0",
            "_view_name": "ProgressView",
            "bar_style": "success",
            "description": "",
            "description_tooltip": null,
            "layout": "IPY_MODEL_2c8be0eca2e94e26b3ecd197ce8e0f39",
            "max": 605143316,
            "min": 0,
            "orientation": "horizontal",
            "style": "IPY_MODEL_85062bffc70c41cfac25bc1b4b838270",
            "value": 605143316
          }
        },
        "84c8d59a1aee496ca51b29ebf5d0f43e": {
          "model_module": "@jupyter-widgets/controls",
          "model_name": "HTMLModel",
          "model_module_version": "1.5.0",
          "state": {
            "_dom_classes": [],
            "_model_module": "@jupyter-widgets/controls",
            "_model_module_version": "1.5.0",
            "_model_name": "HTMLModel",
            "_view_count": null,
            "_view_module": "@jupyter-widgets/controls",
            "_view_module_version": "1.5.0",
            "_view_name": "HTMLView",
            "description": "",
            "description_tooltip": null,
            "layout": "IPY_MODEL_1b49bc5f90fe4df58b096926d847d593",
            "placeholder": "​",
            "style": "IPY_MODEL_1b87a87296284933bdf77625258cb324",
            "value": " 605M/605M [00:06&lt;00:00, 130MB/s]"
          }
        },
        "96cf64a7915f41f986901b1c96454c76": {
          "model_module": "@jupyter-widgets/base",
          "model_name": "LayoutModel",
          "model_module_version": "1.2.0",
          "state": {
            "_model_module": "@jupyter-widgets/base",
            "_model_module_version": "1.2.0",
            "_model_name": "LayoutModel",
            "_view_count": null,
            "_view_module": "@jupyter-widgets/base",
            "_view_module_version": "1.2.0",
            "_view_name": "LayoutView",
            "align_content": null,
            "align_items": null,
            "align_self": null,
            "border": null,
            "bottom": null,
            "display": null,
            "flex": null,
            "flex_flow": null,
            "grid_area": null,
            "grid_auto_columns": null,
            "grid_auto_flow": null,
            "grid_auto_rows": null,
            "grid_column": null,
            "grid_gap": null,
            "grid_row": null,
            "grid_template_areas": null,
            "grid_template_columns": null,
            "grid_template_rows": null,
            "height": null,
            "justify_content": null,
            "justify_items": null,
            "left": null,
            "margin": null,
            "max_height": null,
            "max_width": null,
            "min_height": null,
            "min_width": null,
            "object_fit": null,
            "object_position": null,
            "order": null,
            "overflow": null,
            "overflow_x": null,
            "overflow_y": null,
            "padding": null,
            "right": null,
            "top": null,
            "visibility": null,
            "width": null
          }
        },
        "6ce241b8d48241da90173e458cabcb51": {
          "model_module": "@jupyter-widgets/base",
          "model_name": "LayoutModel",
          "model_module_version": "1.2.0",
          "state": {
            "_model_module": "@jupyter-widgets/base",
            "_model_module_version": "1.2.0",
            "_model_name": "LayoutModel",
            "_view_count": null,
            "_view_module": "@jupyter-widgets/base",
            "_view_module_version": "1.2.0",
            "_view_name": "LayoutView",
            "align_content": null,
            "align_items": null,
            "align_self": null,
            "border": null,
            "bottom": null,
            "display": null,
            "flex": null,
            "flex_flow": null,
            "grid_area": null,
            "grid_auto_columns": null,
            "grid_auto_flow": null,
            "grid_auto_rows": null,
            "grid_column": null,
            "grid_gap": null,
            "grid_row": null,
            "grid_template_areas": null,
            "grid_template_columns": null,
            "grid_template_rows": null,
            "height": null,
            "justify_content": null,
            "justify_items": null,
            "left": null,
            "margin": null,
            "max_height": null,
            "max_width": null,
            "min_height": null,
            "min_width": null,
            "object_fit": null,
            "object_position": null,
            "order": null,
            "overflow": null,
            "overflow_x": null,
            "overflow_y": null,
            "padding": null,
            "right": null,
            "top": null,
            "visibility": null,
            "width": null
          }
        },
        "c6a8c70e1a384750aceb11cdb0f32b3b": {
          "model_module": "@jupyter-widgets/controls",
          "model_name": "DescriptionStyleModel",
          "model_module_version": "1.5.0",
          "state": {
            "_model_module": "@jupyter-widgets/controls",
            "_model_module_version": "1.5.0",
            "_model_name": "DescriptionStyleModel",
            "_view_count": null,
            "_view_module": "@jupyter-widgets/base",
            "_view_module_version": "1.2.0",
            "_view_name": "StyleView",
            "description_width": ""
          }
        },
        "2c8be0eca2e94e26b3ecd197ce8e0f39": {
          "model_module": "@jupyter-widgets/base",
          "model_name": "LayoutModel",
          "model_module_version": "1.2.0",
          "state": {
            "_model_module": "@jupyter-widgets/base",
            "_model_module_version": "1.2.0",
            "_model_name": "LayoutModel",
            "_view_count": null,
            "_view_module": "@jupyter-widgets/base",
            "_view_module_version": "1.2.0",
            "_view_name": "LayoutView",
            "align_content": null,
            "align_items": null,
            "align_self": null,
            "border": null,
            "bottom": null,
            "display": null,
            "flex": null,
            "flex_flow": null,
            "grid_area": null,
            "grid_auto_columns": null,
            "grid_auto_flow": null,
            "grid_auto_rows": null,
            "grid_column": null,
            "grid_gap": null,
            "grid_row": null,
            "grid_template_areas": null,
            "grid_template_columns": null,
            "grid_template_rows": null,
            "height": null,
            "justify_content": null,
            "justify_items": null,
            "left": null,
            "margin": null,
            "max_height": null,
            "max_width": null,
            "min_height": null,
            "min_width": null,
            "object_fit": null,
            "object_position": null,
            "order": null,
            "overflow": null,
            "overflow_x": null,
            "overflow_y": null,
            "padding": null,
            "right": null,
            "top": null,
            "visibility": null,
            "width": null
          }
        },
        "85062bffc70c41cfac25bc1b4b838270": {
          "model_module": "@jupyter-widgets/controls",
          "model_name": "ProgressStyleModel",
          "model_module_version": "1.5.0",
          "state": {
            "_model_module": "@jupyter-widgets/controls",
            "_model_module_version": "1.5.0",
            "_model_name": "ProgressStyleModel",
            "_view_count": null,
            "_view_module": "@jupyter-widgets/base",
            "_view_module_version": "1.2.0",
            "_view_name": "StyleView",
            "bar_color": null,
            "description_width": ""
          }
        },
        "1b49bc5f90fe4df58b096926d847d593": {
          "model_module": "@jupyter-widgets/base",
          "model_name": "LayoutModel",
          "model_module_version": "1.2.0",
          "state": {
            "_model_module": "@jupyter-widgets/base",
            "_model_module_version": "1.2.0",
            "_model_name": "LayoutModel",
            "_view_count": null,
            "_view_module": "@jupyter-widgets/base",
            "_view_module_version": "1.2.0",
            "_view_name": "LayoutView",
            "align_content": null,
            "align_items": null,
            "align_self": null,
            "border": null,
            "bottom": null,
            "display": null,
            "flex": null,
            "flex_flow": null,
            "grid_area": null,
            "grid_auto_columns": null,
            "grid_auto_flow": null,
            "grid_auto_rows": null,
            "grid_column": null,
            "grid_gap": null,
            "grid_row": null,
            "grid_template_areas": null,
            "grid_template_columns": null,
            "grid_template_rows": null,
            "height": null,
            "justify_content": null,
            "justify_items": null,
            "left": null,
            "margin": null,
            "max_height": null,
            "max_width": null,
            "min_height": null,
            "min_width": null,
            "object_fit": null,
            "object_position": null,
            "order": null,
            "overflow": null,
            "overflow_x": null,
            "overflow_y": null,
            "padding": null,
            "right": null,
            "top": null,
            "visibility": null,
            "width": null
          }
        },
        "1b87a87296284933bdf77625258cb324": {
          "model_module": "@jupyter-widgets/controls",
          "model_name": "DescriptionStyleModel",
          "model_module_version": "1.5.0",
          "state": {
            "_model_module": "@jupyter-widgets/controls",
            "_model_module_version": "1.5.0",
            "_model_name": "DescriptionStyleModel",
            "_view_count": null,
            "_view_module": "@jupyter-widgets/base",
            "_view_module_version": "1.2.0",
            "_view_name": "StyleView",
            "description_width": ""
          }
        }
      }
    },
    "accelerator": "GPU"
  },
  "cells": [
    {
      "cell_type": "markdown",
      "source": [
        "# Realtime multimodal Usecase | Extract Image,Table,Text from Document | MultiModal Summrizer| RAG App"
      ],
      "metadata": {
        "id": "AUeScs9rB6Nk"
      }
    },
    {
      "cell_type": "code",
      "source": [
        "! pip install \"unstructured[all-docs]\" pillow pydantic lxml matplotlib"
      ],
      "metadata": {
        "colab": {
          "base_uri": "https://localhost:8080/",
          "height": 1000
        },
        "id": "M7BsV2KiVRm2",
        "outputId": "a4224504-eaca-473a-eff4-74917ebde1fd"
      },
      "execution_count": 1,
      "outputs": [
        {
          "output_type": "stream",
          "name": "stdout",
          "text": [
            "Requirement already satisfied: pillow in /usr/local/lib/python3.12/dist-packages (11.3.0)\n",
            "Requirement already satisfied: pydantic in /usr/local/lib/python3.12/dist-packages (2.11.9)\n",
            "Requirement already satisfied: lxml in /usr/local/lib/python3.12/dist-packages (5.4.0)\n",
            "Requirement already satisfied: matplotlib in /usr/local/lib/python3.12/dist-packages (3.10.0)\n",
            "Collecting unstructured[all-docs]\n",
            "  Downloading unstructured-0.18.15-py3-none-any.whl.metadata (24 kB)\n",
            "Requirement already satisfied: charset-normalizer in /usr/local/lib/python3.12/dist-packages (from unstructured[all-docs]) (3.4.3)\n",
            "Collecting filetype (from unstructured[all-docs])\n",
            "  Downloading filetype-1.2.0-py2.py3-none-any.whl.metadata (6.5 kB)\n",
            "Collecting python-magic (from unstructured[all-docs])\n",
            "  Downloading python_magic-0.4.27-py2.py3-none-any.whl.metadata (5.8 kB)\n",
            "Requirement already satisfied: nltk in /usr/local/lib/python3.12/dist-packages (from unstructured[all-docs]) (3.9.1)\n",
            "Requirement already satisfied: requests in /usr/local/lib/python3.12/dist-packages (from unstructured[all-docs]) (2.32.4)\n",
            "Requirement already satisfied: beautifulsoup4 in /usr/local/lib/python3.12/dist-packages (from unstructured[all-docs]) (4.13.5)\n",
            "Collecting emoji (from unstructured[all-docs])\n",
            "  Downloading emoji-2.15.0-py3-none-any.whl.metadata (5.7 kB)\n",
            "Collecting dataclasses-json (from unstructured[all-docs])\n",
            "  Downloading dataclasses_json-0.6.7-py3-none-any.whl.metadata (25 kB)\n",
            "Collecting python-iso639 (from unstructured[all-docs])\n",
            "  Downloading python_iso639-2025.2.18-py3-none-any.whl.metadata (14 kB)\n",
            "Collecting langdetect (from unstructured[all-docs])\n",
            "  Downloading langdetect-1.0.9.tar.gz (981 kB)\n",
            "\u001b[2K     \u001b[90m━━━━━━━━━━━━━━━━━━━━━━━━━━━━━━━━━━━━━━\u001b[0m \u001b[32m981.5/981.5 kB\u001b[0m \u001b[31m24.8 MB/s\u001b[0m eta \u001b[36m0:00:00\u001b[0m\n",
            "\u001b[?25h  Preparing metadata (setup.py) ... \u001b[?25l\u001b[?25hdone\n",
            "Requirement already satisfied: numpy in /usr/local/lib/python3.12/dist-packages (from unstructured[all-docs]) (2.0.2)\n",
            "Collecting rapidfuzz (from unstructured[all-docs])\n",
            "  Downloading rapidfuzz-3.14.1-cp312-cp312-manylinux_2_27_x86_64.manylinux_2_28_x86_64.whl.metadata (12 kB)\n",
            "Collecting backoff (from unstructured[all-docs])\n",
            "  Downloading backoff-2.2.1-py3-none-any.whl.metadata (14 kB)\n",
            "Requirement already satisfied: typing-extensions in /usr/local/lib/python3.12/dist-packages (from unstructured[all-docs]) (4.15.0)\n",
            "Collecting unstructured-client (from unstructured[all-docs])\n",
            "  Downloading unstructured_client-0.42.3-py3-none-any.whl.metadata (23 kB)\n",
            "Requirement already satisfied: wrapt in /usr/local/lib/python3.12/dist-packages (from unstructured[all-docs]) (1.17.3)\n",
            "Requirement already satisfied: tqdm in /usr/local/lib/python3.12/dist-packages (from unstructured[all-docs]) (4.67.1)\n",
            "Requirement already satisfied: psutil in /usr/local/lib/python3.12/dist-packages (from unstructured[all-docs]) (5.9.5)\n",
            "Collecting python-oxmsg (from unstructured[all-docs])\n",
            "  Downloading python_oxmsg-0.0.2-py3-none-any.whl.metadata (5.0 kB)\n",
            "Requirement already satisfied: html5lib in /usr/local/lib/python3.12/dist-packages (from unstructured[all-docs]) (1.1)\n",
            "Requirement already satisfied: networkx in /usr/local/lib/python3.12/dist-packages (from unstructured[all-docs]) (3.5)\n",
            "Collecting pypandoc (from unstructured[all-docs])\n",
            "  Downloading pypandoc-1.15-py3-none-any.whl.metadata (16 kB)\n",
            "Collecting effdet (from unstructured[all-docs])\n",
            "  Downloading effdet-0.4.1-py3-none-any.whl.metadata (33 kB)\n",
            "Collecting unstructured.pytesseract>=0.3.12 (from unstructured[all-docs])\n",
            "  Downloading unstructured.pytesseract-0.3.15-py3-none-any.whl.metadata (11 kB)\n",
            "Requirement already satisfied: xlrd in /usr/local/lib/python3.12/dist-packages (from unstructured[all-docs]) (2.0.2)\n",
            "Requirement already satisfied: markdown in /usr/local/lib/python3.12/dist-packages (from unstructured[all-docs]) (3.9)\n",
            "Collecting msoffcrypto-tool (from unstructured[all-docs])\n",
            "  Downloading msoffcrypto_tool-5.4.2-py3-none-any.whl.metadata (10 kB)\n",
            "Collecting python-pptx>=1.0.1 (from unstructured[all-docs])\n",
            "  Downloading python_pptx-1.0.2-py3-none-any.whl.metadata (2.5 kB)\n",
            "Collecting pi-heif (from unstructured[all-docs])\n",
            "  Downloading pi_heif-1.1.1-cp312-cp312-manylinux_2_27_x86_64.manylinux_2_28_x86_64.whl.metadata (6.5 kB)\n",
            "Collecting pdf2image (from unstructured[all-docs])\n",
            "  Downloading pdf2image-1.17.0-py3-none-any.whl.metadata (6.2 kB)\n",
            "Requirement already satisfied: pandas in /usr/local/lib/python3.12/dist-packages (from unstructured[all-docs]) (2.2.2)\n",
            "Collecting pypdf (from unstructured[all-docs])\n",
            "  Downloading pypdf-6.1.1-py3-none-any.whl.metadata (7.1 kB)\n",
            "Collecting google-cloud-vision (from unstructured[all-docs])\n",
            "  Downloading google_cloud_vision-3.10.2-py3-none-any.whl.metadata (9.6 kB)\n",
            "Collecting onnx>=1.17.0 (from unstructured[all-docs])\n",
            "  Downloading onnx-1.19.0-cp312-cp312-manylinux2014_x86_64.manylinux_2_17_x86_64.whl.metadata (7.0 kB)\n",
            "Collecting python-docx>=1.1.2 (from unstructured[all-docs])\n",
            "  Downloading python_docx-1.2.0-py3-none-any.whl.metadata (2.0 kB)\n",
            "Collecting unstructured-inference>=1.0.5 (from unstructured[all-docs])\n",
            "  Downloading unstructured_inference-1.0.5-py3-none-any.whl.metadata (5.3 kB)\n",
            "Collecting pdfminer.six (from unstructured[all-docs])\n",
            "  Downloading pdfminer_six-20250506-py3-none-any.whl.metadata (4.2 kB)\n",
            "Requirement already satisfied: openpyxl in /usr/local/lib/python3.12/dist-packages (from unstructured[all-docs]) (3.1.5)\n",
            "Collecting pikepdf (from unstructured[all-docs])\n",
            "  Downloading pikepdf-9.11.0-cp312-cp312-manylinux_2_27_x86_64.manylinux_2_28_x86_64.whl.metadata (8.2 kB)\n",
            "Collecting onnxruntime>=1.19.0 (from unstructured[all-docs])\n",
            "  Downloading onnxruntime-1.23.0-cp312-cp312-manylinux_2_27_x86_64.manylinux_2_28_x86_64.whl.metadata (4.9 kB)\n",
            "Requirement already satisfied: annotated-types>=0.6.0 in /usr/local/lib/python3.12/dist-packages (from pydantic) (0.7.0)\n",
            "Requirement already satisfied: pydantic-core==2.33.2 in /usr/local/lib/python3.12/dist-packages (from pydantic) (2.33.2)\n",
            "Requirement already satisfied: typing-inspection>=0.4.0 in /usr/local/lib/python3.12/dist-packages (from pydantic) (0.4.2)\n",
            "Requirement already satisfied: contourpy>=1.0.1 in /usr/local/lib/python3.12/dist-packages (from matplotlib) (1.3.3)\n",
            "Requirement already satisfied: cycler>=0.10 in /usr/local/lib/python3.12/dist-packages (from matplotlib) (0.12.1)\n",
            "Requirement already satisfied: fonttools>=4.22.0 in /usr/local/lib/python3.12/dist-packages (from matplotlib) (4.60.1)\n",
            "Requirement already satisfied: kiwisolver>=1.3.1 in /usr/local/lib/python3.12/dist-packages (from matplotlib) (1.4.9)\n",
            "Requirement already satisfied: packaging>=20.0 in /usr/local/lib/python3.12/dist-packages (from matplotlib) (25.0)\n",
            "Requirement already satisfied: pyparsing>=2.3.1 in /usr/local/lib/python3.12/dist-packages (from matplotlib) (3.2.5)\n",
            "Requirement already satisfied: python-dateutil>=2.7 in /usr/local/lib/python3.12/dist-packages (from matplotlib) (2.9.0.post0)\n",
            "Requirement already satisfied: protobuf>=4.25.1 in /usr/local/lib/python3.12/dist-packages (from onnx>=1.17.0->unstructured[all-docs]) (5.29.5)\n",
            "Requirement already satisfied: ml_dtypes in /usr/local/lib/python3.12/dist-packages (from onnx>=1.17.0->unstructured[all-docs]) (0.5.3)\n",
            "Collecting coloredlogs (from onnxruntime>=1.19.0->unstructured[all-docs])\n",
            "  Downloading coloredlogs-15.0.1-py2.py3-none-any.whl.metadata (12 kB)\n",
            "Requirement already satisfied: flatbuffers in /usr/local/lib/python3.12/dist-packages (from onnxruntime>=1.19.0->unstructured[all-docs]) (25.9.23)\n",
            "Requirement already satisfied: sympy in /usr/local/lib/python3.12/dist-packages (from onnxruntime>=1.19.0->unstructured[all-docs]) (1.13.3)\n",
            "Requirement already satisfied: six>=1.5 in /usr/local/lib/python3.12/dist-packages (from python-dateutil>=2.7->matplotlib) (1.17.0)\n",
            "Collecting XlsxWriter>=0.5.7 (from python-pptx>=1.0.1->unstructured[all-docs])\n",
            "  Downloading xlsxwriter-3.2.9-py3-none-any.whl.metadata (2.7 kB)\n",
            "Requirement already satisfied: python-multipart in /usr/local/lib/python3.12/dist-packages (from unstructured-inference>=1.0.5->unstructured[all-docs]) (0.0.20)\n",
            "Requirement already satisfied: huggingface-hub in /usr/local/lib/python3.12/dist-packages (from unstructured-inference>=1.0.5->unstructured[all-docs]) (0.35.3)\n",
            "Requirement already satisfied: opencv-python!=4.7.0.68 in /usr/local/lib/python3.12/dist-packages (from unstructured-inference>=1.0.5->unstructured[all-docs]) (4.12.0.88)\n",
            "Requirement already satisfied: torch in /usr/local/lib/python3.12/dist-packages (from unstructured-inference>=1.0.5->unstructured[all-docs]) (2.8.0+cu126)\n",
            "Requirement already satisfied: timm in /usr/local/lib/python3.12/dist-packages (from unstructured-inference>=1.0.5->unstructured[all-docs]) (1.0.20)\n",
            "Requirement already satisfied: transformers>=4.25.1 in /usr/local/lib/python3.12/dist-packages (from unstructured-inference>=1.0.5->unstructured[all-docs]) (4.56.2)\n",
            "Requirement already satisfied: accelerate in /usr/local/lib/python3.12/dist-packages (from unstructured-inference>=1.0.5->unstructured[all-docs]) (1.10.1)\n",
            "Requirement already satisfied: scipy in /usr/local/lib/python3.12/dist-packages (from unstructured-inference>=1.0.5->unstructured[all-docs]) (1.16.2)\n",
            "Collecting pypdfium2 (from unstructured-inference>=1.0.5->unstructured[all-docs])\n",
            "  Downloading pypdfium2-4.30.0-py3-none-manylinux_2_17_x86_64.manylinux2014_x86_64.whl.metadata (48 kB)\n",
            "\u001b[2K     \u001b[90m━━━━━━━━━━━━━━━━━━━━━━━━━━━━━━━━━━━━━━━━\u001b[0m \u001b[32m48.5/48.5 kB\u001b[0m \u001b[31m4.5 MB/s\u001b[0m eta \u001b[36m0:00:00\u001b[0m\n",
            "\u001b[?25hRequirement already satisfied: soupsieve>1.2 in /usr/local/lib/python3.12/dist-packages (from beautifulsoup4->unstructured[all-docs]) (2.8)\n",
            "Collecting marshmallow<4.0.0,>=3.18.0 (from dataclasses-json->unstructured[all-docs])\n",
            "  Downloading marshmallow-3.26.1-py3-none-any.whl.metadata (7.3 kB)\n",
            "Collecting typing-inspect<1,>=0.4.0 (from dataclasses-json->unstructured[all-docs])\n",
            "  Downloading typing_inspect-0.9.0-py3-none-any.whl.metadata (1.5 kB)\n",
            "Requirement already satisfied: torchvision in /usr/local/lib/python3.12/dist-packages (from effdet->unstructured[all-docs]) (0.23.0+cu126)\n",
            "Requirement already satisfied: pycocotools>=2.0.2 in /usr/local/lib/python3.12/dist-packages (from effdet->unstructured[all-docs]) (2.0.10)\n",
            "Requirement already satisfied: omegaconf>=2.0 in /usr/local/lib/python3.12/dist-packages (from effdet->unstructured[all-docs]) (2.3.0)\n",
            "Requirement already satisfied: google-api-core!=2.0.*,!=2.1.*,!=2.10.*,!=2.2.*,!=2.3.*,!=2.4.*,!=2.5.*,!=2.6.*,!=2.7.*,!=2.8.*,!=2.9.*,<3.0.0,>=1.34.1 in /usr/local/lib/python3.12/dist-packages (from google-api-core[grpc]!=2.0.*,!=2.1.*,!=2.10.*,!=2.2.*,!=2.3.*,!=2.4.*,!=2.5.*,!=2.6.*,!=2.7.*,!=2.8.*,!=2.9.*,<3.0.0,>=1.34.1->google-cloud-vision->unstructured[all-docs]) (2.25.1)\n",
            "Requirement already satisfied: google-auth!=2.24.0,!=2.25.0,<3.0.0,>=2.14.1 in /usr/local/lib/python3.12/dist-packages (from google-cloud-vision->unstructured[all-docs]) (2.38.0)\n",
            "Requirement already satisfied: proto-plus<2.0.0,>=1.22.3 in /usr/local/lib/python3.12/dist-packages (from google-cloud-vision->unstructured[all-docs]) (1.26.1)\n",
            "Requirement already satisfied: webencodings in /usr/local/lib/python3.12/dist-packages (from html5lib->unstructured[all-docs]) (0.5.1)\n",
            "Requirement already satisfied: cryptography>=39.0 in /usr/local/lib/python3.12/dist-packages (from msoffcrypto-tool->unstructured[all-docs]) (43.0.3)\n",
            "Collecting olefile>=0.46 (from msoffcrypto-tool->unstructured[all-docs])\n",
            "  Downloading olefile-0.47-py2.py3-none-any.whl.metadata (9.7 kB)\n",
            "Requirement already satisfied: click in /usr/local/lib/python3.12/dist-packages (from nltk->unstructured[all-docs]) (8.3.0)\n",
            "Requirement already satisfied: joblib in /usr/local/lib/python3.12/dist-packages (from nltk->unstructured[all-docs]) (1.5.2)\n",
            "Requirement already satisfied: regex>=2021.8.3 in /usr/local/lib/python3.12/dist-packages (from nltk->unstructured[all-docs]) (2024.11.6)\n",
            "Requirement already satisfied: et-xmlfile in /usr/local/lib/python3.12/dist-packages (from openpyxl->unstructured[all-docs]) (2.0.0)\n",
            "Requirement already satisfied: pytz>=2020.1 in /usr/local/lib/python3.12/dist-packages (from pandas->unstructured[all-docs]) (2025.2)\n",
            "Requirement already satisfied: tzdata>=2022.7 in /usr/local/lib/python3.12/dist-packages (from pandas->unstructured[all-docs]) (2025.2)\n",
            "Collecting Deprecated (from pikepdf->unstructured[all-docs])\n",
            "  Downloading Deprecated-1.2.18-py2.py3-none-any.whl.metadata (5.7 kB)\n",
            "Requirement already satisfied: idna<4,>=2.5 in /usr/local/lib/python3.12/dist-packages (from requests->unstructured[all-docs]) (3.10)\n",
            "Requirement already satisfied: urllib3<3,>=1.21.1 in /usr/local/lib/python3.12/dist-packages (from requests->unstructured[all-docs]) (2.5.0)\n",
            "Requirement already satisfied: certifi>=2017.4.17 in /usr/local/lib/python3.12/dist-packages (from requests->unstructured[all-docs]) (2025.8.3)\n",
            "Requirement already satisfied: aiofiles>=24.1.0 in /usr/local/lib/python3.12/dist-packages (from unstructured-client->unstructured[all-docs]) (24.1.0)\n",
            "Requirement already satisfied: httpcore>=1.0.9 in /usr/local/lib/python3.12/dist-packages (from unstructured-client->unstructured[all-docs]) (1.0.9)\n",
            "Requirement already satisfied: httpx>=0.27.0 in /usr/local/lib/python3.12/dist-packages (from unstructured-client->unstructured[all-docs]) (0.28.1)\n",
            "Requirement already satisfied: requests-toolbelt>=1.0.0 in /usr/local/lib/python3.12/dist-packages (from unstructured-client->unstructured[all-docs]) (1.0.0)\n",
            "Requirement already satisfied: cffi>=1.12 in /usr/local/lib/python3.12/dist-packages (from cryptography>=39.0->msoffcrypto-tool->unstructured[all-docs]) (2.0.0)\n",
            "Requirement already satisfied: googleapis-common-protos<2.0.0,>=1.56.2 in /usr/local/lib/python3.12/dist-packages (from google-api-core!=2.0.*,!=2.1.*,!=2.10.*,!=2.2.*,!=2.3.*,!=2.4.*,!=2.5.*,!=2.6.*,!=2.7.*,!=2.8.*,!=2.9.*,<3.0.0,>=1.34.1->google-api-core[grpc]!=2.0.*,!=2.1.*,!=2.10.*,!=2.2.*,!=2.3.*,!=2.4.*,!=2.5.*,!=2.6.*,!=2.7.*,!=2.8.*,!=2.9.*,<3.0.0,>=1.34.1->google-cloud-vision->unstructured[all-docs]) (1.70.0)\n",
            "Requirement already satisfied: grpcio<2.0.0,>=1.33.2 in /usr/local/lib/python3.12/dist-packages (from google-api-core[grpc]!=2.0.*,!=2.1.*,!=2.10.*,!=2.2.*,!=2.3.*,!=2.4.*,!=2.5.*,!=2.6.*,!=2.7.*,!=2.8.*,!=2.9.*,<3.0.0,>=1.34.1->google-cloud-vision->unstructured[all-docs]) (1.75.1)\n",
            "Requirement already satisfied: grpcio-status<2.0.0,>=1.33.2 in /usr/local/lib/python3.12/dist-packages (from google-api-core[grpc]!=2.0.*,!=2.1.*,!=2.10.*,!=2.2.*,!=2.3.*,!=2.4.*,!=2.5.*,!=2.6.*,!=2.7.*,!=2.8.*,!=2.9.*,<3.0.0,>=1.34.1->google-cloud-vision->unstructured[all-docs]) (1.71.2)\n",
            "Requirement already satisfied: cachetools<6.0,>=2.0.0 in /usr/local/lib/python3.12/dist-packages (from google-auth!=2.24.0,!=2.25.0,<3.0.0,>=2.14.1->google-cloud-vision->unstructured[all-docs]) (5.5.2)\n",
            "Requirement already satisfied: pyasn1-modules>=0.2.1 in /usr/local/lib/python3.12/dist-packages (from google-auth!=2.24.0,!=2.25.0,<3.0.0,>=2.14.1->google-cloud-vision->unstructured[all-docs]) (0.4.2)\n",
            "Requirement already satisfied: rsa<5,>=3.1.4 in /usr/local/lib/python3.12/dist-packages (from google-auth!=2.24.0,!=2.25.0,<3.0.0,>=2.14.1->google-cloud-vision->unstructured[all-docs]) (4.9.1)\n",
            "Requirement already satisfied: h11>=0.16 in /usr/local/lib/python3.12/dist-packages (from httpcore>=1.0.9->unstructured-client->unstructured[all-docs]) (0.16.0)\n",
            "Requirement already satisfied: anyio in /usr/local/lib/python3.12/dist-packages (from httpx>=0.27.0->unstructured-client->unstructured[all-docs]) (4.11.0)\n",
            "Requirement already satisfied: antlr4-python3-runtime==4.9.* in /usr/local/lib/python3.12/dist-packages (from omegaconf>=2.0->effdet->unstructured[all-docs]) (4.9.3)\n",
            "Requirement already satisfied: PyYAML>=5.1.0 in /usr/local/lib/python3.12/dist-packages (from omegaconf>=2.0->effdet->unstructured[all-docs]) (6.0.3)\n",
            "Requirement already satisfied: safetensors in /usr/local/lib/python3.12/dist-packages (from timm->unstructured-inference>=1.0.5->unstructured[all-docs]) (0.6.2)\n",
            "Requirement already satisfied: filelock in /usr/local/lib/python3.12/dist-packages (from torch->unstructured-inference>=1.0.5->unstructured[all-docs]) (3.19.1)\n",
            "Requirement already satisfied: setuptools in /usr/local/lib/python3.12/dist-packages (from torch->unstructured-inference>=1.0.5->unstructured[all-docs]) (75.2.0)\n",
            "Requirement already satisfied: jinja2 in /usr/local/lib/python3.12/dist-packages (from torch->unstructured-inference>=1.0.5->unstructured[all-docs]) (3.1.6)\n",
            "Requirement already satisfied: fsspec in /usr/local/lib/python3.12/dist-packages (from torch->unstructured-inference>=1.0.5->unstructured[all-docs]) (2025.3.0)\n",
            "Requirement already satisfied: nvidia-cuda-nvrtc-cu12==12.6.77 in /usr/local/lib/python3.12/dist-packages (from torch->unstructured-inference>=1.0.5->unstructured[all-docs]) (12.6.77)\n",
            "Requirement already satisfied: nvidia-cuda-runtime-cu12==12.6.77 in /usr/local/lib/python3.12/dist-packages (from torch->unstructured-inference>=1.0.5->unstructured[all-docs]) (12.6.77)\n",
            "Requirement already satisfied: nvidia-cuda-cupti-cu12==12.6.80 in /usr/local/lib/python3.12/dist-packages (from torch->unstructured-inference>=1.0.5->unstructured[all-docs]) (12.6.80)\n",
            "Requirement already satisfied: nvidia-cudnn-cu12==9.10.2.21 in /usr/local/lib/python3.12/dist-packages (from torch->unstructured-inference>=1.0.5->unstructured[all-docs]) (9.10.2.21)\n",
            "Requirement already satisfied: nvidia-cublas-cu12==12.6.4.1 in /usr/local/lib/python3.12/dist-packages (from torch->unstructured-inference>=1.0.5->unstructured[all-docs]) (12.6.4.1)\n",
            "Requirement already satisfied: nvidia-cufft-cu12==11.3.0.4 in /usr/local/lib/python3.12/dist-packages (from torch->unstructured-inference>=1.0.5->unstructured[all-docs]) (11.3.0.4)\n",
            "Requirement already satisfied: nvidia-curand-cu12==10.3.7.77 in /usr/local/lib/python3.12/dist-packages (from torch->unstructured-inference>=1.0.5->unstructured[all-docs]) (10.3.7.77)\n",
            "Requirement already satisfied: nvidia-cusolver-cu12==11.7.1.2 in /usr/local/lib/python3.12/dist-packages (from torch->unstructured-inference>=1.0.5->unstructured[all-docs]) (11.7.1.2)\n",
            "Requirement already satisfied: nvidia-cusparse-cu12==12.5.4.2 in /usr/local/lib/python3.12/dist-packages (from torch->unstructured-inference>=1.0.5->unstructured[all-docs]) (12.5.4.2)\n",
            "Requirement already satisfied: nvidia-cusparselt-cu12==0.7.1 in /usr/local/lib/python3.12/dist-packages (from torch->unstructured-inference>=1.0.5->unstructured[all-docs]) (0.7.1)\n",
            "Requirement already satisfied: nvidia-nccl-cu12==2.27.3 in /usr/local/lib/python3.12/dist-packages (from torch->unstructured-inference>=1.0.5->unstructured[all-docs]) (2.27.3)\n",
            "Requirement already satisfied: nvidia-nvtx-cu12==12.6.77 in /usr/local/lib/python3.12/dist-packages (from torch->unstructured-inference>=1.0.5->unstructured[all-docs]) (12.6.77)\n",
            "Requirement already satisfied: nvidia-nvjitlink-cu12==12.6.85 in /usr/local/lib/python3.12/dist-packages (from torch->unstructured-inference>=1.0.5->unstructured[all-docs]) (12.6.85)\n",
            "Requirement already satisfied: nvidia-cufile-cu12==1.11.1.6 in /usr/local/lib/python3.12/dist-packages (from torch->unstructured-inference>=1.0.5->unstructured[all-docs]) (1.11.1.6)\n",
            "Requirement already satisfied: triton==3.4.0 in /usr/local/lib/python3.12/dist-packages (from torch->unstructured-inference>=1.0.5->unstructured[all-docs]) (3.4.0)\n",
            "Requirement already satisfied: mpmath<1.4,>=1.1.0 in /usr/local/lib/python3.12/dist-packages (from sympy->onnxruntime>=1.19.0->unstructured[all-docs]) (1.3.0)\n",
            "Requirement already satisfied: tokenizers<=0.23.0,>=0.22.0 in /usr/local/lib/python3.12/dist-packages (from transformers>=4.25.1->unstructured-inference>=1.0.5->unstructured[all-docs]) (0.22.1)\n",
            "Requirement already satisfied: hf-xet<2.0.0,>=1.1.3 in /usr/local/lib/python3.12/dist-packages (from huggingface-hub->unstructured-inference>=1.0.5->unstructured[all-docs]) (1.1.10)\n",
            "Collecting mypy-extensions>=0.3.0 (from typing-inspect<1,>=0.4.0->dataclasses-json->unstructured[all-docs])\n",
            "  Downloading mypy_extensions-1.1.0-py3-none-any.whl.metadata (1.1 kB)\n",
            "Collecting humanfriendly>=9.1 (from coloredlogs->onnxruntime>=1.19.0->unstructured[all-docs])\n",
            "  Downloading humanfriendly-10.0-py2.py3-none-any.whl.metadata (9.2 kB)\n",
            "Requirement already satisfied: pycparser in /usr/local/lib/python3.12/dist-packages (from cffi>=1.12->cryptography>=39.0->msoffcrypto-tool->unstructured[all-docs]) (2.23)\n",
            "Requirement already satisfied: pyasn1<0.7.0,>=0.6.1 in /usr/local/lib/python3.12/dist-packages (from pyasn1-modules>=0.2.1->google-auth!=2.24.0,!=2.25.0,<3.0.0,>=2.14.1->google-cloud-vision->unstructured[all-docs]) (0.6.1)\n",
            "Requirement already satisfied: sniffio>=1.1 in /usr/local/lib/python3.12/dist-packages (from anyio->httpx>=0.27.0->unstructured-client->unstructured[all-docs]) (1.3.1)\n",
            "Requirement already satisfied: MarkupSafe>=2.0 in /usr/local/lib/python3.12/dist-packages (from jinja2->torch->unstructured-inference>=1.0.5->unstructured[all-docs]) (3.0.3)\n",
            "Downloading onnx-1.19.0-cp312-cp312-manylinux2014_x86_64.manylinux_2_17_x86_64.whl (18.2 MB)\n",
            "\u001b[2K   \u001b[90m━━━━━━━━━━━━━━━━━━━━━━━━━━━━━━━━━━━━━━━━\u001b[0m \u001b[32m18.2/18.2 MB\u001b[0m \u001b[31m129.4 MB/s\u001b[0m eta \u001b[36m0:00:00\u001b[0m\n",
            "\u001b[?25hDownloading onnxruntime-1.23.0-cp312-cp312-manylinux_2_27_x86_64.manylinux_2_28_x86_64.whl (17.3 MB)\n",
            "\u001b[2K   \u001b[90m━━━━━━━━━━━━━━━━━━━━━━━━━━━━━━━━━━━━━━━━\u001b[0m \u001b[32m17.3/17.3 MB\u001b[0m \u001b[31m122.2 MB/s\u001b[0m eta \u001b[36m0:00:00\u001b[0m\n",
            "\u001b[?25hDownloading python_docx-1.2.0-py3-none-any.whl (252 kB)\n",
            "\u001b[2K   \u001b[90m━━━━━━━━━━━━━━━━━━━━━━━━━━━━━━━━━━━━━━━━\u001b[0m \u001b[32m253.0/253.0 kB\u001b[0m \u001b[31m26.6 MB/s\u001b[0m eta \u001b[36m0:00:00\u001b[0m\n",
            "\u001b[?25hDownloading python_pptx-1.0.2-py3-none-any.whl (472 kB)\n",
            "\u001b[2K   \u001b[90m━━━━━━━━━━━━━━━━━━━━━━━━━━━━━━━━━━━━━━━━\u001b[0m \u001b[32m472.8/472.8 kB\u001b[0m \u001b[31m39.2 MB/s\u001b[0m eta \u001b[36m0:00:00\u001b[0m\n",
            "\u001b[?25hDownloading unstructured_inference-1.0.5-py3-none-any.whl (48 kB)\n",
            "\u001b[2K   \u001b[90m━━━━━━━━━━━━━━━━━━━━━━━━━━━━━━━━━━━━━━━━\u001b[0m \u001b[32m48.1/48.1 kB\u001b[0m \u001b[31m4.5 MB/s\u001b[0m eta \u001b[36m0:00:00\u001b[0m\n",
            "\u001b[?25hDownloading unstructured.pytesseract-0.3.15-py3-none-any.whl (14 kB)\n",
            "Downloading backoff-2.2.1-py3-none-any.whl (15 kB)\n",
            "Downloading dataclasses_json-0.6.7-py3-none-any.whl (28 kB)\n",
            "Downloading effdet-0.4.1-py3-none-any.whl (112 kB)\n",
            "\u001b[2K   \u001b[90m━━━━━━━━━━━━━━━━━━━━━━━━━━━━━━━━━━━━━━━━\u001b[0m \u001b[32m112.5/112.5 kB\u001b[0m \u001b[31m11.8 MB/s\u001b[0m eta \u001b[36m0:00:00\u001b[0m\n",
            "\u001b[?25hDownloading emoji-2.15.0-py3-none-any.whl (608 kB)\n",
            "\u001b[2K   \u001b[90m━━━━━━━━━━━━━━━━━━━━━━━━━━━━━━━━━━━━━━━━\u001b[0m \u001b[32m608.4/608.4 kB\u001b[0m \u001b[31m54.1 MB/s\u001b[0m eta \u001b[36m0:00:00\u001b[0m\n",
            "\u001b[?25hDownloading filetype-1.2.0-py2.py3-none-any.whl (19 kB)\n",
            "Downloading google_cloud_vision-3.10.2-py3-none-any.whl (527 kB)\n",
            "\u001b[2K   \u001b[90m━━━━━━━━━━━━━━━━━━━━━━━━━━━━━━━━━━━━━━━━\u001b[0m \u001b[32m527.9/527.9 kB\u001b[0m \u001b[31m47.8 MB/s\u001b[0m eta \u001b[36m0:00:00\u001b[0m\n",
            "\u001b[?25hDownloading msoffcrypto_tool-5.4.2-py3-none-any.whl (48 kB)\n",
            "\u001b[2K   \u001b[90m━━━━━━━━━━━━━━━━━━━━━━━━━━━━━━━━━━━━━━━━\u001b[0m \u001b[32m48.7/48.7 kB\u001b[0m \u001b[31m4.7 MB/s\u001b[0m eta \u001b[36m0:00:00\u001b[0m\n",
            "\u001b[?25hDownloading pdf2image-1.17.0-py3-none-any.whl (11 kB)\n",
            "Downloading pdfminer_six-20250506-py3-none-any.whl (5.6 MB)\n",
            "\u001b[2K   \u001b[90m━━━━━━━━━━━━━━━━━━━━━━━━━━━━━━━━━━━━━━━━\u001b[0m \u001b[32m5.6/5.6 MB\u001b[0m \u001b[31m107.3 MB/s\u001b[0m eta \u001b[36m0:00:00\u001b[0m\n",
            "\u001b[?25hDownloading pi_heif-1.1.1-cp312-cp312-manylinux_2_27_x86_64.manylinux_2_28_x86_64.whl (1.4 MB)\n",
            "\u001b[2K   \u001b[90m━━━━━━━━━━━━━━━━━━━━━━━━━━━━━━━━━━━━━━━━\u001b[0m \u001b[32m1.4/1.4 MB\u001b[0m \u001b[31m76.4 MB/s\u001b[0m eta \u001b[36m0:00:00\u001b[0m\n",
            "\u001b[?25hDownloading pikepdf-9.11.0-cp312-cp312-manylinux_2_27_x86_64.manylinux_2_28_x86_64.whl (2.6 MB)\n",
            "\u001b[2K   \u001b[90m━━━━━━━━━━━━━━━━━━━━━━━━━━━━━━━━━━━━━━━━\u001b[0m \u001b[32m2.6/2.6 MB\u001b[0m \u001b[31m96.2 MB/s\u001b[0m eta \u001b[36m0:00:00\u001b[0m\n",
            "\u001b[?25hDownloading pypandoc-1.15-py3-none-any.whl (21 kB)\n",
            "Downloading pypdf-6.1.1-py3-none-any.whl (323 kB)\n",
            "\u001b[2K   \u001b[90m━━━━━━━━━━━━━━━━━━━━━━━━━━━━━━━━━━━━━━━━\u001b[0m \u001b[32m323.5/323.5 kB\u001b[0m \u001b[31m24.7 MB/s\u001b[0m eta \u001b[36m0:00:00\u001b[0m\n",
            "\u001b[?25hDownloading python_iso639-2025.2.18-py3-none-any.whl (167 kB)\n",
            "\u001b[2K   \u001b[90m━━━━━━━━━━━━━━━━━━━━━━━━━━━━━━━━━━━━━━━━\u001b[0m \u001b[32m167.6/167.6 kB\u001b[0m \u001b[31m16.1 MB/s\u001b[0m eta \u001b[36m0:00:00\u001b[0m\n",
            "\u001b[?25hDownloading python_magic-0.4.27-py2.py3-none-any.whl (13 kB)\n",
            "Downloading python_oxmsg-0.0.2-py3-none-any.whl (31 kB)\n",
            "Downloading rapidfuzz-3.14.1-cp312-cp312-manylinux_2_27_x86_64.manylinux_2_28_x86_64.whl (3.2 MB)\n",
            "\u001b[2K   \u001b[90m━━━━━━━━━━━━━━━━━━━━━━━━━━━━━━━━━━━━━━━━\u001b[0m \u001b[32m3.2/3.2 MB\u001b[0m \u001b[31m98.3 MB/s\u001b[0m eta \u001b[36m0:00:00\u001b[0m\n",
            "\u001b[?25hDownloading unstructured-0.18.15-py3-none-any.whl (1.8 MB)\n",
            "\u001b[2K   \u001b[90m━━━━━━━━━━━━━━━━━━━━━━━━━━━━━━━━━━━━━━━━\u001b[0m \u001b[32m1.8/1.8 MB\u001b[0m \u001b[31m50.7 MB/s\u001b[0m eta \u001b[36m0:00:00\u001b[0m\n",
            "\u001b[?25hDownloading unstructured_client-0.42.3-py3-none-any.whl (207 kB)\n",
            "\u001b[2K   \u001b[90m━━━━━━━━━━━━━━━━━━━━━━━━━━━━━━━━━━━━━━━━\u001b[0m \u001b[32m207.8/207.8 kB\u001b[0m \u001b[31m18.4 MB/s\u001b[0m eta \u001b[36m0:00:00\u001b[0m\n",
            "\u001b[?25hDownloading marshmallow-3.26.1-py3-none-any.whl (50 kB)\n",
            "\u001b[2K   \u001b[90m━━━━━━━━━━━━━━━━━━━━━━━━━━━━━━━━━━━━━━━━\u001b[0m \u001b[32m50.9/50.9 kB\u001b[0m \u001b[31m4.3 MB/s\u001b[0m eta \u001b[36m0:00:00\u001b[0m\n",
            "\u001b[?25hDownloading olefile-0.47-py2.py3-none-any.whl (114 kB)\n",
            "\u001b[2K   \u001b[90m━━━━━━━━━━━━━━━━━━━━━━━━━━━━━━━━━━━━━━━━\u001b[0m \u001b[32m114.6/114.6 kB\u001b[0m \u001b[31m12.1 MB/s\u001b[0m eta \u001b[36m0:00:00\u001b[0m\n",
            "\u001b[?25hDownloading typing_inspect-0.9.0-py3-none-any.whl (8.8 kB)\n",
            "Downloading xlsxwriter-3.2.9-py3-none-any.whl (175 kB)\n",
            "\u001b[2K   \u001b[90m━━━━━━━━━━━━━━━━━━━━━━━━━━━━━━━━━━━━━━━\u001b[0m \u001b[32m175.3/175.3 kB\u001b[0m \u001b[31m799.7 kB/s\u001b[0m eta \u001b[36m0:00:00\u001b[0m\n",
            "\u001b[?25hDownloading coloredlogs-15.0.1-py2.py3-none-any.whl (46 kB)\n",
            "\u001b[2K   \u001b[90m━━━━━━━━━━━━━━━━━━━━━━━━━━━━━━━━━━━━━━━━\u001b[0m \u001b[32m46.0/46.0 kB\u001b[0m \u001b[31m3.5 MB/s\u001b[0m eta \u001b[36m0:00:00\u001b[0m\n",
            "\u001b[?25hDownloading Deprecated-1.2.18-py2.py3-none-any.whl (10.0 kB)\n",
            "Downloading pypdfium2-4.30.0-py3-none-manylinux_2_17_x86_64.manylinux2014_x86_64.whl (2.8 MB)\n",
            "\u001b[2K   \u001b[90m━━━━━━━━━━━━━━━━━━━━━━━━━━━━━━━━━━━━━━━━\u001b[0m \u001b[32m2.8/2.8 MB\u001b[0m \u001b[31m68.1 MB/s\u001b[0m eta \u001b[36m0:00:00\u001b[0m\n",
            "\u001b[?25hDownloading humanfriendly-10.0-py2.py3-none-any.whl (86 kB)\n",
            "\u001b[2K   \u001b[90m━━━━━━━━━━━━━━━━━━━━━━━━━━━━━━━━━━━━━━━━\u001b[0m \u001b[32m86.8/86.8 kB\u001b[0m \u001b[31m6.2 MB/s\u001b[0m eta \u001b[36m0:00:00\u001b[0m\n",
            "\u001b[?25hDownloading mypy_extensions-1.1.0-py3-none-any.whl (5.0 kB)\n",
            "Building wheels for collected packages: langdetect\n",
            "  Building wheel for langdetect (setup.py) ... \u001b[?25l\u001b[?25hdone\n",
            "  Created wheel for langdetect: filename=langdetect-1.0.9-py3-none-any.whl size=993223 sha256=553c37d2dc453dca85496527928031137cb91ac48b9047659e598d4b3798fba6\n",
            "  Stored in directory: /root/.cache/pip/wheels/c1/67/88/e844b5b022812e15a52e4eaa38a1e709e99f06f6639d7e3ba7\n",
            "Successfully built langdetect\n",
            "Installing collected packages: filetype, XlsxWriter, unstructured.pytesseract, rapidfuzz, python-magic, python-iso639, python-docx, pypdfium2, pypdf, pypandoc, pi-heif, pdf2image, olefile, mypy-extensions, marshmallow, langdetect, humanfriendly, emoji, Deprecated, backoff, typing-inspect, python-pptx, python-oxmsg, pikepdf, onnx, coloredlogs, unstructured-client, pdfminer.six, onnxruntime, msoffcrypto-tool, dataclasses-json, unstructured, google-cloud-vision, unstructured-inference, effdet\n",
            "Successfully installed Deprecated-1.2.18 XlsxWriter-3.2.9 backoff-2.2.1 coloredlogs-15.0.1 dataclasses-json-0.6.7 effdet-0.4.1 emoji-2.15.0 filetype-1.2.0 google-cloud-vision-3.10.2 humanfriendly-10.0 langdetect-1.0.9 marshmallow-3.26.1 msoffcrypto-tool-5.4.2 mypy-extensions-1.1.0 olefile-0.47 onnx-1.19.0 onnxruntime-1.23.0 pdf2image-1.17.0 pdfminer.six-20250506 pi-heif-1.1.1 pikepdf-9.11.0 pypandoc-1.15 pypdf-6.1.1 pypdfium2-4.30.0 python-docx-1.2.0 python-iso639-2025.2.18 python-magic-0.4.27 python-oxmsg-0.0.2 python-pptx-1.0.2 rapidfuzz-3.14.1 typing-inspect-0.9.0 unstructured-0.18.15 unstructured-client-0.42.3 unstructured-inference-1.0.5 unstructured.pytesseract-0.3.15\n"
          ]
        },
        {
          "output_type": "display_data",
          "data": {
            "application/vnd.colab-display-data+json": {
              "pip_warning": {
                "packages": [
                  "google"
                ]
              },
              "id": "9bb948ee38584c369bfbc0e16139b704"
            }
          },
          "metadata": {}
        }
      ]
    },
    {
      "cell_type": "code",
      "source": [
        "!sudo apt-get update"
      ],
      "metadata": {
        "colab": {
          "base_uri": "https://localhost:8080/"
        },
        "id": "9ERiIOhfeWeJ",
        "outputId": "3b32d437-9f94-42fd-b6bc-825586b064ad"
      },
      "execution_count": 2,
      "outputs": [
        {
          "output_type": "stream",
          "name": "stdout",
          "text": [
            "\r0% [Working]\r            \rGet:1 https://cloud.r-project.org/bin/linux/ubuntu jammy-cran40/ InRelease [3,632 B]\n",
            "\r0% [Connecting to archive.ubuntu.com (185.125.190.83)] [Connecting to security.\r0% [Connecting to archive.ubuntu.com (185.125.190.83)] [Connecting to security.\r                                                                               \rHit:2 https://cli.github.com/packages stable InRelease\n",
            "\r0% [Connecting to archive.ubuntu.com (185.125.190.83)] [Waiting for headers] [C\r                                                                               \rGet:3 https://developer.download.nvidia.com/compute/cuda/repos/ubuntu2204/x86_64  InRelease [1,581 B]\n",
            "Get:4 http://security.ubuntu.com/ubuntu jammy-security InRelease [129 kB]\n",
            "Hit:5 http://archive.ubuntu.com/ubuntu jammy InRelease\n",
            "Get:6 http://archive.ubuntu.com/ubuntu jammy-updates InRelease [128 kB]\n",
            "Get:7 https://r2u.stat.illinois.edu/ubuntu jammy InRelease [6,555 B]\n",
            "Hit:8 https://ppa.launchpadcontent.net/deadsnakes/ppa/ubuntu jammy InRelease\n",
            "Get:9 https://developer.download.nvidia.com/compute/cuda/repos/ubuntu2204/x86_64  Packages [2,065 kB]\n",
            "Hit:10 https://ppa.launchpadcontent.net/graphics-drivers/ppa/ubuntu jammy InRelease\n",
            "Hit:11 https://ppa.launchpadcontent.net/ubuntugis/ppa/ubuntu jammy InRelease\n",
            "Get:12 http://archive.ubuntu.com/ubuntu jammy-backports InRelease [127 kB]\n",
            "Get:13 https://r2u.stat.illinois.edu/ubuntu jammy/main amd64 Packages [2,809 kB]\n",
            "Get:14 https://r2u.stat.illinois.edu/ubuntu jammy/main all Packages [9,322 kB]\n",
            "Get:15 http://archive.ubuntu.com/ubuntu jammy-updates/universe amd64 Packages [1,580 kB]\n",
            "Get:16 http://archive.ubuntu.com/ubuntu jammy-updates/main amd64 Packages [3,738 kB]\n",
            "Get:17 http://archive.ubuntu.com/ubuntu jammy-backports/universe amd64 Packages [35.2 kB]\n",
            "Get:18 http://archive.ubuntu.com/ubuntu jammy-backports/main amd64 Packages [83.9 kB]\n",
            "Fetched 20.0 MB in 3s (5,819 kB/s)\n",
            "Reading package lists... Done\n",
            "W: Skipping acquire of configured file 'main/source/Sources' as repository 'https://r2u.stat.illinois.edu/ubuntu jammy InRelease' does not seem to provide it (sources.list entry misspelt?)\n"
          ]
        }
      ]
    },
    {
      "cell_type": "code",
      "source": [
        "!sudo apt-get install poppler-utils"
      ],
      "metadata": {
        "colab": {
          "base_uri": "https://localhost:8080/"
        },
        "id": "Mu97I46AefNj",
        "outputId": "4c7ba4e8-77dc-41cc-89d9-ffed7c38336a"
      },
      "execution_count": 3,
      "outputs": [
        {
          "output_type": "stream",
          "name": "stdout",
          "text": [
            "Reading package lists... Done\n",
            "Building dependency tree... Done\n",
            "Reading state information... Done\n",
            "The following NEW packages will be installed:\n",
            "  poppler-utils\n",
            "0 upgraded, 1 newly installed, 0 to remove and 40 not upgraded.\n",
            "Need to get 186 kB of archives.\n",
            "After this operation, 697 kB of additional disk space will be used.\n",
            "Get:1 http://archive.ubuntu.com/ubuntu jammy-updates/main amd64 poppler-utils amd64 22.02.0-2ubuntu0.10 [186 kB]\n",
            "Fetched 186 kB in 1s (230 kB/s)\n",
            "debconf: unable to initialize frontend: Dialog\n",
            "debconf: (No usable dialog-like program is installed, so the dialog based frontend cannot be used. at /usr/share/perl5/Debconf/FrontEnd/Dialog.pm line 78, <> line 1.)\n",
            "debconf: falling back to frontend: Readline\n",
            "debconf: unable to initialize frontend: Readline\n",
            "debconf: (This frontend requires a controlling tty.)\n",
            "debconf: falling back to frontend: Teletype\n",
            "dpkg-preconfigure: unable to re-open stdin: \n",
            "Selecting previously unselected package poppler-utils.\n",
            "(Reading database ... 126675 files and directories currently installed.)\n",
            "Preparing to unpack .../poppler-utils_22.02.0-2ubuntu0.10_amd64.deb ...\n",
            "Unpacking poppler-utils (22.02.0-2ubuntu0.10) ...\n",
            "Setting up poppler-utils (22.02.0-2ubuntu0.10) ...\n",
            "Processing triggers for man-db (2.10.2-1) ...\n"
          ]
        }
      ]
    },
    {
      "cell_type": "code",
      "source": [
        "!sudo apt-get install libleptonica-dev tesseract-ocr libtesseract-dev python3-pil tesseract-ocr-eng tesseract-ocr-script-latn"
      ],
      "metadata": {
        "colab": {
          "base_uri": "https://localhost:8080/"
        },
        "id": "BmntZhzTejwH",
        "outputId": "ef220d06-bb60-4ffb-a800-37c8f2186a92"
      },
      "execution_count": 4,
      "outputs": [
        {
          "output_type": "stream",
          "name": "stdout",
          "text": [
            "Reading package lists... Done\n",
            "Building dependency tree... Done\n",
            "Reading state information... Done\n",
            "tesseract-ocr is already the newest version (4.1.1-2.1build1).\n",
            "tesseract-ocr-eng is already the newest version (1:4.00~git30-7274cfa-1.1).\n",
            "tesseract-ocr-eng set to manually installed.\n",
            "The following additional packages will be installed:\n",
            "  libarchive-dev libimagequant0 libraqm0 python3-olefile\n",
            "Suggested packages:\n",
            "  python-pil-doc\n",
            "The following NEW packages will be installed:\n",
            "  libarchive-dev libimagequant0 libleptonica-dev libraqm0 libtesseract-dev\n",
            "  python3-olefile python3-pil tesseract-ocr-script-latn\n",
            "0 upgraded, 8 newly installed, 0 to remove and 40 not upgraded.\n",
            "Need to get 35.1 MB of archives.\n",
            "After this operation, 107 MB of additional disk space will be used.\n",
            "Get:1 http://archive.ubuntu.com/ubuntu jammy-updates/main amd64 libarchive-dev amd64 3.6.0-1ubuntu1.5 [581 kB]\n",
            "Get:2 http://archive.ubuntu.com/ubuntu jammy/main amd64 libimagequant0 amd64 2.17.0-1 [34.6 kB]\n",
            "Get:3 http://archive.ubuntu.com/ubuntu jammy/universe amd64 libleptonica-dev amd64 1.82.0-3build1 [1,562 kB]\n",
            "Get:4 http://archive.ubuntu.com/ubuntu jammy/main amd64 libraqm0 amd64 0.7.0-4ubuntu1 [11.7 kB]\n",
            "Get:5 http://archive.ubuntu.com/ubuntu jammy/universe amd64 libtesseract-dev amd64 4.1.1-2.1build1 [1,600 kB]\n",
            "Get:6 http://archive.ubuntu.com/ubuntu jammy/main amd64 python3-olefile all 0.46-3 [33.8 kB]\n",
            "Get:7 http://archive.ubuntu.com/ubuntu jammy-updates/main amd64 python3-pil amd64 9.0.1-1ubuntu0.3 [419 kB]\n",
            "Get:8 http://archive.ubuntu.com/ubuntu jammy/universe amd64 tesseract-ocr-script-latn all 1:4.00~git30-7274cfa-1.1 [30.9 MB]\n",
            "Fetched 35.1 MB in 3s (13.3 MB/s)\n",
            "debconf: unable to initialize frontend: Dialog\n",
            "debconf: (No usable dialog-like program is installed, so the dialog based frontend cannot be used. at /usr/share/perl5/Debconf/FrontEnd/Dialog.pm line 78, <> line 8.)\n",
            "debconf: falling back to frontend: Readline\n",
            "debconf: unable to initialize frontend: Readline\n",
            "debconf: (This frontend requires a controlling tty.)\n",
            "debconf: falling back to frontend: Teletype\n",
            "dpkg-preconfigure: unable to re-open stdin: \n",
            "Selecting previously unselected package libarchive-dev:amd64.\n",
            "(Reading database ... 126705 files and directories currently installed.)\n",
            "Preparing to unpack .../0-libarchive-dev_3.6.0-1ubuntu1.5_amd64.deb ...\n",
            "Unpacking libarchive-dev:amd64 (3.6.0-1ubuntu1.5) ...\n",
            "Selecting previously unselected package libimagequant0:amd64.\n",
            "Preparing to unpack .../1-libimagequant0_2.17.0-1_amd64.deb ...\n",
            "Unpacking libimagequant0:amd64 (2.17.0-1) ...\n",
            "Selecting previously unselected package libleptonica-dev.\n",
            "Preparing to unpack .../2-libleptonica-dev_1.82.0-3build1_amd64.deb ...\n",
            "Unpacking libleptonica-dev (1.82.0-3build1) ...\n",
            "Selecting previously unselected package libraqm0:amd64.\n",
            "Preparing to unpack .../3-libraqm0_0.7.0-4ubuntu1_amd64.deb ...\n",
            "Unpacking libraqm0:amd64 (0.7.0-4ubuntu1) ...\n",
            "Selecting previously unselected package libtesseract-dev:amd64.\n",
            "Preparing to unpack .../4-libtesseract-dev_4.1.1-2.1build1_amd64.deb ...\n",
            "Unpacking libtesseract-dev:amd64 (4.1.1-2.1build1) ...\n",
            "Selecting previously unselected package python3-olefile.\n",
            "Preparing to unpack .../5-python3-olefile_0.46-3_all.deb ...\n",
            "Unpacking python3-olefile (0.46-3) ...\n",
            "Selecting previously unselected package python3-pil:amd64.\n",
            "Preparing to unpack .../6-python3-pil_9.0.1-1ubuntu0.3_amd64.deb ...\n",
            "Unpacking python3-pil:amd64 (9.0.1-1ubuntu0.3) ...\n",
            "Selecting previously unselected package tesseract-ocr-script-latn.\n",
            "Preparing to unpack .../7-tesseract-ocr-script-latn_1%3a4.00~git30-7274cfa-1.1_all.deb ...\n",
            "Unpacking tesseract-ocr-script-latn (1:4.00~git30-7274cfa-1.1) ...\n",
            "Setting up tesseract-ocr-script-latn (1:4.00~git30-7274cfa-1.1) ...\n",
            "Setting up python3-olefile (0.46-3) ...\n",
            "Setting up libleptonica-dev (1.82.0-3build1) ...\n",
            "Setting up libraqm0:amd64 (0.7.0-4ubuntu1) ...\n",
            "Setting up libimagequant0:amd64 (2.17.0-1) ...\n",
            "Setting up libarchive-dev:amd64 (3.6.0-1ubuntu1.5) ...\n",
            "Setting up libtesseract-dev:amd64 (4.1.1-2.1build1) ...\n",
            "Setting up python3-pil:amd64 (9.0.1-1ubuntu0.3) ...\n",
            "Processing triggers for man-db (2.10.2-1) ...\n",
            "Processing triggers for libc-bin (2.35-0ubuntu3.8) ...\n",
            "/sbin/ldconfig.real: /usr/local/lib/libtcm.so.1 is not a symbolic link\n",
            "\n",
            "/sbin/ldconfig.real: /usr/local/lib/libur_adapter_level_zero.so.0 is not a symbolic link\n",
            "\n",
            "/sbin/ldconfig.real: /usr/local/lib/libur_adapter_opencl.so.0 is not a symbolic link\n",
            "\n",
            "/sbin/ldconfig.real: /usr/local/lib/libtbbmalloc_proxy.so.2 is not a symbolic link\n",
            "\n",
            "/sbin/ldconfig.real: /usr/local/lib/libtbbbind_2_0.so.3 is not a symbolic link\n",
            "\n",
            "/sbin/ldconfig.real: /usr/local/lib/libtbbbind_2_5.so.3 is not a symbolic link\n",
            "\n",
            "/sbin/ldconfig.real: /usr/local/lib/libtbbbind.so.3 is not a symbolic link\n",
            "\n",
            "/sbin/ldconfig.real: /usr/local/lib/libur_loader.so.0 is not a symbolic link\n",
            "\n",
            "/sbin/ldconfig.real: /usr/local/lib/libur_adapter_level_zero_v2.so.0 is not a symbolic link\n",
            "\n",
            "/sbin/ldconfig.real: /usr/local/lib/libumf.so.0 is not a symbolic link\n",
            "\n",
            "/sbin/ldconfig.real: /usr/local/lib/libtbb.so.12 is not a symbolic link\n",
            "\n",
            "/sbin/ldconfig.real: /usr/local/lib/libtbbmalloc.so.2 is not a symbolic link\n",
            "\n",
            "/sbin/ldconfig.real: /usr/local/lib/libhwloc.so.15 is not a symbolic link\n",
            "\n",
            "/sbin/ldconfig.real: /usr/local/lib/libtcm_debug.so.1 is not a symbolic link\n",
            "\n"
          ]
        }
      ]
    },
    {
      "cell_type": "code",
      "source": [
        "!pip install unstructured-pytesseract\n",
        "!pip install tesseract-ocr"
      ],
      "metadata": {
        "colab": {
          "base_uri": "https://localhost:8080/"
        },
        "id": "u7Rrt88Nex_u",
        "outputId": "6a869116-a94e-4cfe-e11a-5ebae3dbdfd7"
      },
      "execution_count": 5,
      "outputs": [
        {
          "output_type": "stream",
          "name": "stdout",
          "text": [
            "Requirement already satisfied: unstructured-pytesseract in /usr/local/lib/python3.12/dist-packages (0.3.15)\n",
            "Requirement already satisfied: packaging>=21.3 in /usr/local/lib/python3.12/dist-packages (from unstructured-pytesseract) (25.0)\n",
            "Requirement already satisfied: Pillow>=8.0.0 in /usr/local/lib/python3.12/dist-packages (from unstructured-pytesseract) (11.3.0)\n",
            "Collecting tesseract-ocr\n",
            "  Downloading tesseract-ocr-0.0.1.tar.gz (33 kB)\n",
            "  Preparing metadata (setup.py) ... \u001b[?25l\u001b[?25hdone\n",
            "Requirement already satisfied: cython in /usr/local/lib/python3.12/dist-packages (from tesseract-ocr) (3.0.12)\n",
            "Building wheels for collected packages: tesseract-ocr\n",
            "  Building wheel for tesseract-ocr (setup.py) ... \u001b[?25l\u001b[?25hdone\n",
            "  Created wheel for tesseract-ocr: filename=tesseract_ocr-0.0.1-cp312-cp312-linux_x86_64.whl size=188046 sha256=0f700b1b5f6cea7123d48c5b6917a2bd9c57baa288d0760f57ad1ae31c5b5df6\n",
            "  Stored in directory: /root/.cache/pip/wheels/c4/96/8d/1e2b502793a5aa288a72ffdc5e96e9ebd22a72be6c0af195b5\n",
            "Successfully built tesseract-ocr\n",
            "Installing collected packages: tesseract-ocr\n",
            "Successfully installed tesseract-ocr-0.0.1\n"
          ]
        }
      ]
    },
    {
      "cell_type": "code",
      "source": [
        "from unstructured.partition.pdf import partition_pdf"
      ],
      "metadata": {
        "id": "GiVgnFmee7M7"
      },
      "execution_count": 6,
      "outputs": []
    },
    {
      "cell_type": "code",
      "source": [
        "raw_pdf_elements=partition_pdf(\n",
        "    filename=\"/content/data/cfg.pdf\",\n",
        "    strategy=\"hi_res\", #Layout Detection Model\n",
        "    extract_images_in_pdf=True,\n",
        "    extract_image_block_types=[\"Image\", \"Table\"],\n",
        "    extract_image_block_to_payload=False,\n",
        "    extract_image_block_output_dir=\"extracted_data\"\n",
        "  )"
      ],
      "metadata": {
        "colab": {
          "base_uri": "https://localhost:8080/"
        },
        "id": "j9uoVggzfWRI",
        "outputId": "54915c53-22b1-4b24-a974-bf65e2606ffa"
      },
      "execution_count": 8,
      "outputs": [
        {
          "output_type": "stream",
          "name": "stdout",
          "text": [
            "Warning: No languages specified, defaulting to English.\n"
          ]
        }
      ]
    },
    {
      "cell_type": "code",
      "source": [
        "\n",
        "raw_pdf_elements"
      ],
      "metadata": {
        "colab": {
          "base_uri": "https://localhost:8080/"
        },
        "id": "U4h0uSdEhIo6",
        "outputId": "82b502ef-09aa-430d-967a-30b898a6275a"
      },
      "execution_count": 10,
      "outputs": [
        {
          "output_type": "execute_result",
          "data": {
            "text/plain": [
              "[<unstructured.documents.elements.Header at 0x7a0bd0923bf0>,\n",
              " <unstructured.documents.elements.Header at 0x7a0b9bf55640>,\n",
              " <unstructured.documents.elements.Title at 0x7a0b9bf57b60>,\n",
              " <unstructured.documents.elements.Text at 0x7a0b9bf56c90>,\n",
              " <unstructured.documents.elements.NarrativeText at 0x7a0b9bf56030>,\n",
              " <unstructured.documents.elements.Text at 0x7a0b9bf544d0>,\n",
              " <unstructured.documents.elements.Text at 0x7a0b9bf56630>,\n",
              " <unstructured.documents.elements.Text at 0x7a0b9bf55bb0>,\n",
              " <unstructured.documents.elements.Text at 0x7a0b9bf559d0>,\n",
              " <unstructured.documents.elements.NarrativeText at 0x7a0b9bf545c0>,\n",
              " <unstructured.documents.elements.Image at 0x7a0b9bf54260>,\n",
              " <unstructured.documents.elements.Title at 0x7a0b9bf56000>,\n",
              " <unstructured.documents.elements.NarrativeText at 0x7a0b9bf56a20>,\n",
              " <unstructured.documents.elements.NarrativeText at 0x7a0b9bf57ef0>,\n",
              " <unstructured.documents.elements.ListItem at 0x7a0b9bf54620>,\n",
              " <unstructured.documents.elements.ListItem at 0x7a0b9bf55d90>,\n",
              " <unstructured.documents.elements.ListItem at 0x7a0b9bf57aa0>,\n",
              " <unstructured.documents.elements.ListItem at 0x7a0b9bf574a0>,\n",
              " <unstructured.documents.elements.ListItem at 0x7a0b9bf55100>,\n",
              " <unstructured.documents.elements.NarrativeText at 0x7a0b9bf56990>,\n",
              " <unstructured.documents.elements.NarrativeText at 0x7a0b9bf57e90>,\n",
              " <unstructured.documents.elements.Text at 0x7a0b9bf56900>,\n",
              " <unstructured.documents.elements.NarrativeText at 0x7a0b9bf54290>,\n",
              " <unstructured.documents.elements.Header at 0x7a0b9bf55850>,\n",
              " <unstructured.documents.elements.Header at 0x7a0b9bf57050>,\n",
              " <unstructured.documents.elements.NarrativeText at 0x7a0b9bf57c50>,\n",
              " <unstructured.documents.elements.NarrativeText at 0x7a0b9bf562a0>,\n",
              " <unstructured.documents.elements.NarrativeText at 0x7a0b9bf55190>,\n",
              " <unstructured.documents.elements.ListItem at 0x7a0b9bf54e30>,\n",
              " <unstructured.documents.elements.ListItem at 0x7a0b9bf54380>,\n",
              " <unstructured.documents.elements.NarrativeText at 0x7a0b9bf557f0>,\n",
              " <unstructured.documents.elements.NarrativeText at 0x7a0b9bf55a30>,\n",
              " <unstructured.documents.elements.NarrativeText at 0x7a0b9bf560c0>,\n",
              " <unstructured.documents.elements.Header at 0x7a0b9bf57fe0>,\n",
              " <unstructured.documents.elements.Header at 0x7a0b9bf54aa0>,\n",
              " <unstructured.documents.elements.NarrativeText at 0x7a0b9bf55c40>,\n",
              " <unstructured.documents.elements.Title at 0x7a0b9bf57f20>,\n",
              " <unstructured.documents.elements.NarrativeText at 0x7a0b9bf57560>,\n",
              " <unstructured.documents.elements.ListItem at 0x7a0b9bf540b0>,\n",
              " <unstructured.documents.elements.ListItem at 0x7a0b9bf56ed0>,\n",
              " <unstructured.documents.elements.ListItem at 0x7a0b9bf576e0>,\n",
              " <unstructured.documents.elements.ListItem at 0x7a0b9bf55f70>,\n",
              " <unstructured.documents.elements.NarrativeText at 0x7a0b9bf57710>,\n",
              " <unstructured.documents.elements.NarrativeText at 0x7a0bcfe64320>,\n",
              " <unstructured.documents.elements.NarrativeText at 0x7a0b9bf55b20>,\n",
              " <unstructured.documents.elements.Header at 0x7a0b9bf54410>,\n",
              " <unstructured.documents.elements.Header at 0x7a0b9bf56e10>,\n",
              " <unstructured.documents.elements.NarrativeText at 0x7a0b9bf56930>,\n",
              " <unstructured.documents.elements.Title at 0x7a0b9bf56bd0>,\n",
              " <unstructured.documents.elements.Table at 0x7a0b9bf57260>,\n",
              " <unstructured.documents.elements.Title at 0x7a0bcfe647d0>,\n",
              " <unstructured.documents.elements.NarrativeText at 0x7a0bcfe64920>,\n",
              " <unstructured.documents.elements.NarrativeText at 0x7a0bcfe645c0>,\n",
              " <unstructured.documents.elements.Header at 0x7a0b9bf577d0>,\n",
              " <unstructured.documents.elements.Header at 0x7a0b9bf571d0>,\n",
              " <unstructured.documents.elements.Table at 0x7a0bcfe64110>,\n",
              " <unstructured.documents.elements.Title at 0x7a0bcfe64890>,\n",
              " <unstructured.documents.elements.Table at 0x7a0bcfbee000>,\n",
              " <unstructured.documents.elements.Title at 0x7a0bcfbef020>,\n",
              " <unstructured.documents.elements.NarrativeText at 0x7a0bcfbee5d0>,\n",
              " <unstructured.documents.elements.NarrativeText at 0x7a0bcfbec080>,\n",
              " <unstructured.documents.elements.NarrativeText at 0x7a0bcfbee330>,\n",
              " <unstructured.documents.elements.Header at 0x7a0b9bf57e00>,\n",
              " <unstructured.documents.elements.Header at 0x7a0b9bf55970>,\n",
              " <unstructured.documents.elements.NarrativeText at 0x7a0bcfbef740>,\n",
              " <unstructured.documents.elements.NarrativeText at 0x7a0bcfbec8f0>,\n",
              " <unstructured.documents.elements.ListItem at 0x7a0bcfbed490>,\n",
              " <unstructured.documents.elements.ListItem at 0x7a0bcfbefcb0>,\n",
              " <unstructured.documents.elements.ListItem at 0x7a0bcfbec140>,\n",
              " <unstructured.documents.elements.Text at 0x7a0bcfbede80>,\n",
              " <unstructured.documents.elements.NarrativeText at 0x7a0bcfbeddf0>,\n",
              " <unstructured.documents.elements.Image at 0x7a0bcfbeffe0>,\n",
              " <unstructured.documents.elements.FigureCaption at 0x7a0bcfbeea20>,\n",
              " <unstructured.documents.elements.NarrativeText at 0x7a0bcfbef860>,\n",
              " <unstructured.documents.elements.Text at 0x7a0bcfbeefc0>,\n",
              " <unstructured.documents.elements.Text at 0x7a0bcfbecf50>,\n",
              " <unstructured.documents.elements.NarrativeText at 0x7a0bcfbeef60>,\n",
              " <unstructured.documents.elements.Header at 0x7a0b9bf55a00>,\n",
              " <unstructured.documents.elements.Header at 0x7a0bcfbef560>,\n",
              " <unstructured.documents.elements.Title at 0x7a0bcfbed460>,\n",
              " <unstructured.documents.elements.Image at 0x7a0bcfbee450>,\n",
              " <unstructured.documents.elements.FigureCaption at 0x7a0bcfbef170>,\n",
              " <unstructured.documents.elements.NarrativeText at 0x7a0bcfbeee10>,\n",
              " <unstructured.documents.elements.Text at 0x7a0bcfbee5a0>,\n",
              " <unstructured.documents.elements.NarrativeText at 0x7a0bcfbec6b0>,\n",
              " <unstructured.documents.elements.ListItem at 0x7a0bcfbee060>,\n",
              " <unstructured.documents.elements.ListItem at 0x7a0bcfbecd10>,\n",
              " <unstructured.documents.elements.Title at 0x7a0bcfbeec60>,\n",
              " <unstructured.documents.elements.Title at 0x7a0bcfbef500>,\n",
              " <unstructured.documents.elements.Image at 0x7a0bcfbeede0>,\n",
              " <unstructured.documents.elements.FigureCaption at 0x7a0bcfbef7d0>,\n",
              " <unstructured.documents.elements.NarrativeText at 0x7a0bcfbecfe0>,\n",
              " <unstructured.documents.elements.Text at 0x7a0bcfbec680>,\n",
              " <unstructured.documents.elements.NarrativeText at 0x7a0bcfbed700>,\n",
              " <unstructured.documents.elements.NarrativeText at 0x7a0bcfbef650>,\n",
              " <unstructured.documents.elements.Header at 0x7a0bcfbec530>,\n",
              " <unstructured.documents.elements.Header at 0x7a0bcfbee7e0>,\n",
              " <unstructured.documents.elements.Text at 0x7a0bcfbec890>,\n",
              " <unstructured.documents.elements.Image at 0x7a0bcfbef0e0>,\n",
              " <unstructured.documents.elements.Title at 0x7a0bcfbee150>,\n",
              " <unstructured.documents.elements.NarrativeText at 0x7a0bcfbee720>,\n",
              " <unstructured.documents.elements.NarrativeText at 0x7a0bcfbec2f0>,\n",
              " <unstructured.documents.elements.Image at 0x7a0bcfbeecc0>,\n",
              " <unstructured.documents.elements.FigureCaption at 0x7a0bcfbef440>,\n",
              " <unstructured.documents.elements.NarrativeText at 0x7a0bcfbecb60>,\n",
              " <unstructured.documents.elements.Text at 0x7a0bcfbec770>,\n",
              " <unstructured.documents.elements.Text at 0x7a0bcfbecad0>,\n",
              " <unstructured.documents.elements.NarrativeText at 0x7a0bcfbecbf0>,\n",
              " <unstructured.documents.elements.Header at 0x7a0bcfbed190>,\n",
              " <unstructured.documents.elements.Header at 0x7a0bcfbef200>,\n",
              " <unstructured.documents.elements.NarrativeText at 0x7a0bcfbedc70>,\n",
              " <unstructured.documents.elements.Image at 0x7a0bcfbec170>,\n",
              " <unstructured.documents.elements.Title at 0x7a0bcfbedbe0>,\n",
              " <unstructured.documents.elements.NarrativeText at 0x7a0bcfbecaa0>,\n",
              " <unstructured.documents.elements.Title at 0x7a0bcfbecda0>,\n",
              " <unstructured.documents.elements.Image at 0x7a0bcfbed400>,\n",
              " <unstructured.documents.elements.Title at 0x7a0b9a0943b0>,\n",
              " <unstructured.documents.elements.Text at 0x7a0b9a096090>,\n",
              " <unstructured.documents.elements.NarrativeText at 0x7a0b9a095340>,\n",
              " <unstructured.documents.elements.Header at 0x7a0bcfbedd60>,\n",
              " <unstructured.documents.elements.Header at 0x7a0bcfbede20>,\n",
              " <unstructured.documents.elements.Text at 0x7a0b9a095ac0>,\n",
              " <unstructured.documents.elements.Image at 0x7a0bcfe64470>,\n",
              " <unstructured.documents.elements.Title at 0x7a0b9a096750>,\n",
              " <unstructured.documents.elements.NarrativeText at 0x7a0b9a094c80>,\n",
              " <unstructured.documents.elements.FigureCaption at 0x7a0b9a094830>,\n",
              " <unstructured.documents.elements.Image at 0x7a0b9a097e60>,\n",
              " <unstructured.documents.elements.Title at 0x7a0b9a096f90>,\n",
              " <unstructured.documents.elements.ListItem at 0x7a0b9a095640>,\n",
              " <unstructured.documents.elements.ListItem at 0x7a0b9a095550>,\n",
              " <unstructured.documents.elements.Text at 0x7a0b9a095f40>,\n",
              " <unstructured.documents.elements.NarrativeText at 0x7a0b9a094800>,\n",
              " <unstructured.documents.elements.Header at 0x7a0b9a094680>,\n",
              " <unstructured.documents.elements.Header at 0x7a0bcfbed820>,\n",
              " <unstructured.documents.elements.ListItem at 0x7a0b9a094500>,\n",
              " <unstructured.documents.elements.ListItem at 0x7a0b9a095c40>,\n",
              " <unstructured.documents.elements.ListItem at 0x7a0b9a0963c0>,\n",
              " <unstructured.documents.elements.ListItem at 0x7a0b9a0969c0>,\n",
              " <unstructured.documents.elements.ListItem at 0x7a0b9a097c50>,\n",
              " <unstructured.documents.elements.ListItem at 0x7a0b9a096600>,\n",
              " <unstructured.documents.elements.ListItem at 0x7a0bcfddd280>,\n",
              " <unstructured.documents.elements.ListItem at 0x7a0bcfbc4770>,\n",
              " <unstructured.documents.elements.Title at 0x7a0bcfbc43b0>,\n",
              " <unstructured.documents.elements.NarrativeText at 0x7a0bcfbc6090>,\n",
              " <unstructured.documents.elements.NarrativeText at 0x7a0bcfbc5490>,\n",
              " <unstructured.documents.elements.Text at 0x7a0bcfbc4830>,\n",
              " <unstructured.documents.elements.Text at 0x7a0bcfbc6990>,\n",
              " <unstructured.documents.elements.Text at 0x7a0bcfbc4710>,\n",
              " <unstructured.documents.elements.Text at 0x7a0bcfbc7110>,\n",
              " <unstructured.documents.elements.Text at 0x7a0bcfbc6ae0>,\n",
              " <unstructured.documents.elements.Text at 0x7a0bcfbc6e70>,\n",
              " <unstructured.documents.elements.Text at 0x7a0bcfbc7a70>,\n",
              " <unstructured.documents.elements.Text at 0x7a0bcfbc7c50>,\n",
              " <unstructured.documents.elements.Text at 0x7a0bcfbc5820>,\n",
              " <unstructured.documents.elements.Text at 0x7a0bcfbc5bb0>,\n",
              " <unstructured.documents.elements.Text at 0x7a0bcfbc5e20>,\n",
              " <unstructured.documents.elements.Table at 0x7a0bcfbc4740>,\n",
              " <unstructured.documents.elements.Text at 0x7a0bcfbc71d0>,\n",
              " <unstructured.documents.elements.Text at 0x7a0bcfbc42c0>,\n",
              " <unstructured.documents.elements.NarrativeText at 0x7a0bcfbc7920>,\n",
              " <unstructured.documents.elements.Header at 0x7a0b9a0965a0>,\n",
              " <unstructured.documents.elements.Header at 0x7a0b9a097050>,\n",
              " <unstructured.documents.elements.Table at 0x7a0b9bf54a70>,\n",
              " <unstructured.documents.elements.Table at 0x7a0bcfbee690>,\n",
              " <unstructured.documents.elements.Title at 0x7a0bcfbc6de0>,\n",
              " <unstructured.documents.elements.NarrativeText at 0x7a0bcfbc7650>,\n",
              " <unstructured.documents.elements.NarrativeText at 0x7a0bcfbc7b00>,\n",
              " <unstructured.documents.elements.NarrativeText at 0x7a0bcfbc6960>,\n",
              " <unstructured.documents.elements.Text at 0x7a0bcfbc5ca0>,\n",
              " <unstructured.documents.elements.Text at 0x7a0bcfbc7e60>,\n",
              " <unstructured.documents.elements.Text at 0x7a0bcfbc5dc0>,\n",
              " <unstructured.documents.elements.Text at 0x7a0bcfbc7470>,\n",
              " <unstructured.documents.elements.Text at 0x7a0bcfbc5310>,\n",
              " <unstructured.documents.elements.NarrativeText at 0x7a0bcfbc5730>,\n",
              " <unstructured.documents.elements.Header at 0x7a0b9a095190>,\n",
              " <unstructured.documents.elements.Header at 0x7a0b9a095a90>,\n",
              " <unstructured.documents.elements.NarrativeText at 0x7a0bcfbc6120>,\n",
              " <unstructured.documents.elements.Text at 0x7a0b9ac8ef90>,\n",
              " <unstructured.documents.elements.Text at 0x7a0b9ac8ec90>,\n",
              " <unstructured.documents.elements.NarrativeText at 0x7a0bcfbc4c20>,\n",
              " <unstructured.documents.elements.Title at 0x7a0bcfbc41a0>,\n",
              " <unstructured.documents.elements.Text at 0x7a0b9ac8c710>,\n",
              " <unstructured.documents.elements.Text at 0x7a0b9ac8e0f0>,\n",
              " <unstructured.documents.elements.Image at 0x7a0bcfbc6330>,\n",
              " <unstructured.documents.elements.NarrativeText at 0x7a0bcfbc4d10>,\n",
              " <unstructured.documents.elements.NarrativeText at 0x7a0bcfbc5880>,\n",
              " <unstructured.documents.elements.Text at 0x7a0b9ac8f650>,\n",
              " <unstructured.documents.elements.NarrativeText at 0x7a0bcfbc71a0>,\n",
              " <unstructured.documents.elements.NarrativeText at 0x7a0bcfbc6540>,\n",
              " <unstructured.documents.elements.NarrativeText at 0x7a0bcfbc5fa0>,\n",
              " <unstructured.documents.elements.NarrativeText at 0x7a0b9ac8ecc0>,\n",
              " <unstructured.documents.elements.NarrativeText at 0x7a0bcfbc7f50>,\n",
              " <unstructured.documents.elements.Header at 0x7a0bcfbc6cc0>,\n",
              " <unstructured.documents.elements.Header at 0x7a0bcfbc7080>,\n",
              " <unstructured.documents.elements.NarrativeText at 0x7a0bcfbc47a0>,\n",
              " <unstructured.documents.elements.Text at 0x7a0b9ac8d5e0>,\n",
              " <unstructured.documents.elements.NarrativeText at 0x7a0bcfbeca70>,\n",
              " <unstructured.documents.elements.NarrativeText at 0x7a0bcfbc7bf0>]"
            ]
          },
          "metadata": {},
          "execution_count": 10
        }
      ]
    },
    {
      "cell_type": "code",
      "source": [
        "Header=[]\n",
        "Footer=[]\n",
        "Title=[]\n",
        "NarrativeText=[]\n",
        "Text=[]\n",
        "ListItem=[]\n",
        "\n",
        "\n",
        "for element in raw_pdf_elements:\n",
        "  if \"unstructured.documents.elements.Header\" in str(type(element)):\n",
        "            Header.append(str(element))\n",
        "  elif \"unstructured.documents.elements.Footer\" in str(type(element)):\n",
        "            Footer.append(str(element))\n",
        "  elif \"unstructured.documents.elements.Title\" in str(type(element)):\n",
        "            Title.append(str(element))\n",
        "  elif \"unstructured.documents.elements.NarrativeText\" in str(type(element)):\n",
        "            NarrativeText.append(str(element))\n",
        "  elif \"unstructured.documents.elements.Text\" in str(type(element)):\n",
        "            Text.append(str(element))\n",
        "  elif \"unstructured.documents.elements.ListItem\" in str(type(element)):\n",
        "            ListItem.append(str(element))\n",
        "\n"
      ],
      "metadata": {
        "id": "0udLgeRzkWzo"
      },
      "execution_count": 11,
      "outputs": []
    },
    {
      "cell_type": "code",
      "source": [
        "NarrativeText"
      ],
      "metadata": {
        "colab": {
          "base_uri": "https://localhost:8080/"
        },
        "id": "U3Qjtbxfkslh",
        "outputId": "54c4f0c5-a37e-4bf9-fe36-2644e810277b"
      },
      "execution_count": 12,
      "outputs": [
        {
          "output_type": "execute_result",
          "data": {
            "text/plain": [
              "['JAMIN BALL',\n",
              " 'Every week I’ll provide updates on the latest trends in cloud software companies. Follow along to stay up to date!',\n",
              " 'OpenAI had their big developer day this week, and I wanted to call out two key announcements (and trends): increasing context windows and decreasing costs.',\n",
              " 'When I think about the monetization of AI (and which “layers” monetize first) I’ve always thought it would follow the below order, with each layer lagging the one th comes before it.',\n",
              " \"We've clearly well underway of the first 3 layers monetizing. Just starting the fourt layer, with the fifth layer showing up in some pockets, but not really widespread monetization (and I should clarify - scalable monetization). The caveat is importar\",\n",
              " 'https://cloudedjudgement.substack.com/p/clouded-judgement-111023',\n",
              " '1/14',\n",
              " 'I’ve heard of a well known company that had an offshore team handling lots of ma customer work (ie responses). And this “product” had a ~50% gross margin. When started using large language models from OpenAI, the gross margin on the same product went to -100%! (yes, that’s negative 100%). While the product was “moneti: I wouldn’t count it as scalable monetization.',\n",
              " \"We haven’t quite yet cracked AI used in production in widespread fashion. There : many limiters here - data security and compliance are big ones. But even more important right now is cost. At the end of the day, these large language models are quite expensive! And as a vendor using them, you can either pass through the cost your end customer (to maintain your gross margins), or eat the costs and lower you gross margins (because the customer isn’t willing to pay the incremental cost for incremental functionality brought about by AI), and hope the model providers low their costs in the future. It seems like every company has been experimenting. Say things like “just build out all the AI functionality now and then we'll evaluate if customers will pay for it.” Now that we're getting through this initial wave of experimentation and AI buildout, there’s quite a bit of sticker shock when the Op: bills come due! People are looking to build in model portability to enable them to switch to lower cost models (or open source).\",\n",
              " 'This brings me back to the initial point - the two announcements from OpenAI I) to highlight here.',\n",
              " 'The cost decrease is very meaningful - it’s lowers the barrier to experiment with A and also lowers the barrier for these AI functionalities to be pushed into producti (because vendors don’t have to increase price nearly as much). Also - As Moin poir',\n",
              " 'https://cloudedjudgement.substack.com/p/clouded-judgement-111023',\n",
              " '2/14',\n",
              " 'out on Twitter / X, as context windows increase the need for task / domain-specifi models (or fine-tuned models) decreases. The counter argument to this is will we t able to find enough high quality long context training data. Either way - it’s clear 1 models are becoming cheaper and more effective, which is an exciting future for think we’re about to see an explosion of good business model AI applications in the future. 2024 will be the year of AI applications!',\n",
              " 'This week software stocks shot up on Tuesday, largely a result of Datadog’s quarte earnings. Datadog in particular was up ~30%. So what happened? They made a nui of comments about optimizations easing up, and the worst being behind us. Here some quotes:',\n",
              " 'Datadog was one of the first companies to really highlight an improving macro environment. And even more important, they called out a great month of October month of Q4 for them). So how do we contrast their positive commentary, with lar neutral commentary from the rest of the software universe? Most likely Datadog i. seeing trends more unique to their own business. As the market puts a greater',\n",
              " 'https://cloudedjudgement.substack.com/p/clouded-judgement-111023',\n",
              " '3/14',\n",
              " 'emphasis on bundled platforms today vs point solutions, they appear to be an incremental winner of market share. Best of breed platforms (with more of a usage based model) will recover first (in terms of revenue growth recovery). Datadog app to be in that bucket and recovering first. This doesn’t mean the rest of the softwar universe will follow suite. There will be many “pretenders” who never recover and themselves bundled into oblivion. However, the positive commentary from Datadc the first sign that we’re starting to turn a corner. So while the rest of the software universe may not be at that corner today, we’re starting to see the light at the end « the tunnel.',\n",
              " 'https://cloudedjudgement.substack.com/p/clouded-judgement-111023',\n",
              " '4/14',\n",
              " 'SaaS businesses are generally valued on a multiple of their revenue - in most cases projected revenue for the next 12 months. Revenue multiples are a shorthand valu: framework. Given most software companies are not profitable, or not generating meaningful FCF, it’s the only metric to compare the entire industry against. Even',\n",
              " 'https://cloudedjudgement.substack.com/p/clouded-judgement-111023',\n",
              " '5/14',\n",
              " 'DCF is riddled with long term assumptions. The promise of SaaS is that growth ir early years leads to profits in the mature years. Multiples shown below are calcula by taking the Enterprise Value (market cap + debt - cash) / NTM revenue.',\n",
              " 'Overall Stats:',\n",
              " '25.0x',\n",
              " 'Clouded Judgement @jaminball',\n",
              " '6/14',\n",
              " 'Clouded Judgement @jaminball',\n",
              " 'Bucketed by Growth. In the buckets below I consider high growth >30% projected NTM growth, mid growth 15%-30% and low growth <15%',\n",
              " 'Clouded Judgement @jaminball',\n",
              " 'https://cloudedjudgement.substack.com/p/clouded-judgement-111023',\n",
              " '7/14',\n",
              " 'The below chart shows the EV / NTM revenue multiple divided by NTM consensu growth expectations. So a company trading at 20x NTM revenue that is projected grow 100% would be trading at 0.2x. The goal of this graph is to show how relative cheap / expensive each stock is relative to their growth expectations',\n",
              " 'Median EV / NTM Revenue / NTM Growth Multiples',\n",
              " 'Clouded Judgement @jaminball',\n",
              " '8/14',\n",
              " 'Growth Adjusted EV / NTM Revenue (EV / NTM Rev / NTM Growth)',\n",
              " 'The line chart shows the median of all companies with a FCF multiple >0x and <1( created this subset to show companies where FCF is a relevant valuation metric.',\n",
              " '9/14',\n",
              " 'How correlated is growth to valuation multiple?',\n",
              " '10/14',\n",
              " 'Rule of 40 shows rev growth + FCF margin (both LTM and NTM for growth + margins). FCF calculated as Cash Flow from Operations - Capital Expenditures',\n",
              " 'GM Adjusted Payback is calculated as: (Previous Q S&M) / (Net New ARR in Q x C Margin) x 12 . It shows the number of months it takes for a SaaS business to payba their fully burdened CAC on a gross profit basis. Most public companies don’t rep net new ARR, so I’m taking an implied ARR metric (quarterly subscription revenu 4). Net new ARR is simply the ARR of the current quarter, minus the ARR of the previous quarter. Companies that do not disclose subscription rev have been left o the analysis and are listed as NA.',\n",
              " '11/14',\n",
              " 'The information presented in this newsletter is the opinion of the author and doe: necessarily reflect the view of any other person or entity, including Altimeter Cap: Management, LP (‘Altimeter’). The information provided is believed to be from reliable sources but no liability is accepted for any inaccuracies. This is for information purposes and should not be construed as an investment recommenda: Past performance is no guarantee of future performance. Altimeter is an investme adviser registered with the U.S. Securities and Exchange Commission. Registratio does not imply a certain level of skill or training.',\n",
              " 'This post and the information presented are intended for informational purpose only. The views expressed herein are the author’s alone and do not constitute an o to sell, or a recommendation to purchase, or a solicitation of an offer to buy, any security, nor a recommendation for any investment product or service. While certé information contained herein has been obtained from sources believed to be relial',\n",
              " 'https://cloudedjudgement.substack.com/p/clouded-judgement-111023',\n",
              " '12/14',\n",
              " 'neither the author nor any of his employers or their affiliates have independently verified this information, and its accuracy and completeness cannot be guaranteec Accordingly, no representation or warranty, express or implied, is made as to, and reliance should be placed on, the fairness, accuracy, timeliness or completeness of information. The author and all employers and their affiliated persons assume no liability for this information and no obligation to update the information or analys contained herein in the future.',\n",
              " '42 Likes - 4 Restacks',\n",
              " 'Stefan Waldhauser © 12 Nov 2023',\n",
              " 'Thank you for your interesting thoughts regarding the monetization layers of Al. Really inspirin Q UKE”) (© REPLY',\n",
              " 'Matthew Harris 11 Nov 2023',\n",
              " 'Good stuff as always. Your point about the reduced costs per token is interesting and hopefully companies to experiment with Al more in their workflows',\n",
              " 'Q LUKE (1) (© REPLY',\n",
              " 'https://cloudedjudgement.substack.com/p/clouded-judgement-111023',\n",
              " '13/14',\n",
              " '2025 Jamin Ball - Privacy - Terms - Collection notice Substack is the home for great culture',\n",
              " 'https://cloudedjudgement.substack.com/p/clouded-judgement-111023',\n",
              " '14/14']"
            ]
          },
          "metadata": {},
          "execution_count": 12
        }
      ]
    },
    {
      "cell_type": "code",
      "source": [
        "Text"
      ],
      "metadata": {
        "colab": {
          "base_uri": "https://localhost:8080/"
        },
        "id": "QhPQPxRLvzK9",
        "outputId": "812595f4-5940-4b49-b270-c5e0fbbb9bc1"
      },
      "execution_count": 70,
      "outputs": [
        {
          "output_type": "execute_result",
          "data": {
            "text/plain": [
              "['8',\n",
              " 'NOV 10, 2023',\n",
              " 'Q 42',\n",
              " 'D2',\n",
              " '4',\n",
              " 'Ss',\n",
              " 'EV / NTM Revenue Multiples',\n",
              " 'https://cloudedjudgement.substack.com/p/clouded-judgement-111023',\n",
              " 'ALTIME',\n",
              " 'ALTIME',\n",
              " 'ALTIME',\n",
              " 'EV / NTM Revenue',\n",
              " 'ALTIME',\n",
              " 'https://cloudedjudgement.substack.com/p/clouded-judgement-111023',\n",
              " 'https://cloudedjudgement.substack.com/p/clouded-judgement-111023',\n",
              " 'EV / NTM FCF',\n",
              " 'https://cloudedjudgement.substack.com/p/clouded-judgement-111023',\n",
              " 'Valuation',\n",
              " 'Rev Multiple',\n",
              " 'FCF Multipie',\n",
              " 'Rev Growth',\n",
              " 'FCF Margin',\n",
              " 'Net',\n",
              " 'LTM Operating Expenses % Rev',\n",
              " 'Rule of 40',\n",
              " 'Gross Operating',\n",
              " 'GM Adj.',\n",
              " 'LT™',\n",
              " 'https://cloudedjudgement.substack.com/p/clouded-judgement-111023',\n",
              " 'Share Price Per',\n",
              " '‘%3',\n",
              " '(',\n",
              " '(',\n",
              " '¢',\n",
              " '(',\n",
              " '| Type your email...',\n",
              " \"' one: @)D_D\",\n",
              " 'Comments _ Restacks',\n",
              " 'Write a comment...',\n",
              " 'ats',\n",
              " '©']"
            ]
          },
          "metadata": {},
          "execution_count": 70
        }
      ]
    },
    {
      "cell_type": "code",
      "source": [
        "ListItem"
      ],
      "metadata": {
        "colab": {
          "base_uri": "https://localhost:8080/"
        },
        "id": "eXxg4HwvkwtB",
        "outputId": "af90d648-04b0-4bbc-8583-cd2568b38373"
      },
      "execution_count": 13,
      "outputs": [
        {
          "output_type": "execute_result",
          "data": {
            "text/plain": [
              "['1. Raw silicon (chips like Nvidia bought in large quantities to build out infra to service upcoming demand).',\n",
              " '2. Model providers (OpenAI, Anthropic, etc as companies start building out AI).',\n",
              " '3. Hyperscalers (AWS, Azure, GCP as companies look for cloud GPUs who aren’ building out their own data centers)',\n",
              " '4. Infra (Data layer, orchestration, monitoring, ops, etc)',\n",
              " '5. Durable Applications',\n",
              " '1. Context length: Context window of GPT 4 Turbo went from 8k tokens to 128k tokens (think of this as ~300 pages of text worth of input). This means what yo can put into a prompt just went up dramatically',\n",
              " '2. Costs decreasing: GPT 4 Turbo is 3x cheaper for input tokens (think of this as roughly the length of the prompt) and 2x cheaper for output tokens. This equa to $0.01 per 1k input tokens, and $0.03 per 1k output tokens. On a blended ba: GPT 4 Turbo is roughly 2.5-3x cheaper than GPT 4.',\n",
              " \"e “It looks like we've hit an inflection point. It looks like there's a lot less overhang now in terms of what needs to be optimized or could be optimize customers. It looks like also optimization is less intense and less widesprea across the customer base.”\",\n",
              " \"e “We had a very healthy start to Q4 in October...the trends we see in early Q stronger than they've been for the past year.”\",\n",
              " 'e “As we look at our overall customer activity, we continue to see customers optimizing but with less impact than we experienced in Q2, contributing t: usage growth with existing customers improving in Q3 relative to Q2.”',\n",
              " 'e “Asa reminder, last quarter, we discussed a cohort of customers who begar optimizing about a year ago and we said that they appear to stabilize their growth at the end of Q2. That trend has held for the past several months w that cohorts usage remaining stable throughout Q3.”',\n",
              " 'e Overall Median: 5.0x',\n",
              " '¢ Top 5 Median: 14.5x',\n",
              " 'e 10Y: 4.6%',\n",
              " 'e¢ High Growth Median: 11.8x',\n",
              " 'e Mid Growth Median: 7.4x',\n",
              " '° Median NTM growth rate: 15%',\n",
              " 'e Median LTM growth rate: 21%',\n",
              " 'e Median Gross Margin: 75%',\n",
              " 'e Median Operating Margin (18%)',\n",
              " 'e Median FCF Margin: 8%',\n",
              " 'e Median Net Retention: 114%',\n",
              " 'e Median CAC Payback: 35 months',\n",
              " 'e Median S&M % Revenue: 42%',\n",
              " 'e Median R&D % Revenue: 26%',\n",
              " 'e Median G&A % Revenue: 17%']"
            ]
          },
          "metadata": {},
          "execution_count": 13
        }
      ]
    },
    {
      "cell_type": "code",
      "source": [
        "img=[]\n",
        "for element in raw_pdf_elements:\n",
        "  if \"unstructured.documents.elements.Image\" in str(type(element)):\n",
        "            img.append(str(element))"
      ],
      "metadata": {
        "id": "QRsiXMKEkqjl"
      },
      "execution_count": 14,
      "outputs": []
    },
    {
      "cell_type": "code",
      "source": [
        "len(img)"
      ],
      "metadata": {
        "colab": {
          "base_uri": "https://localhost:8080/"
        },
        "id": "iigEOLZEjoGR",
        "outputId": "6f3146f9-1f9c-405e-88b0-02bd2190b07e"
      },
      "execution_count": 18,
      "outputs": [
        {
          "output_type": "execute_result",
          "data": {
            "text/plain": [
              "11"
            ]
          },
          "metadata": {},
          "execution_count": 18
        }
      ]
    },
    {
      "cell_type": "code",
      "source": [
        "img[7]"
      ],
      "metadata": {
        "colab": {
          "base_uri": "https://localhost:8080/",
          "height": 53
        },
        "id": "-idYwDsQlCYy",
        "outputId": "762a1ee7-c568-4222-e4a1-17da565750e1"
      },
      "execution_count": 23,
      "outputs": [
        {
          "output_type": "execute_result",
          "data": {
            "text/plain": [
              "'70.0x 60.0x 50.0x 40.0x 30.0x : 20.0x 10.0x .Ox 1/1/15 1/1/16 1/1/17 1/1/18 1/1/19 1/1/20 1/1/21 1/1/22 1/1/23 === FCF Positive & <100x Multiple Median ——=LT Average Clouded Judgement @jaminball ALTIME'"
            ],
            "application/vnd.google.colaboratory.intrinsic+json": {
              "type": "string"
            }
          },
          "metadata": {},
          "execution_count": 23
        }
      ]
    },
    {
      "cell_type": "code",
      "source": [
        "raw_pdf_elements2=partition_pdf(\n",
        "    filename=\"/content/data2/research_paper.pdf\",\n",
        "    strategy=\"hi_res\",\n",
        "    extract_images_in_pdf=True,\n",
        "    extract_image_block_types=[\"Image\", \"Table\"],\n",
        "    extract_image_block_to_payload=False,\n",
        "    extract_image_block_output_dir=\"extracted_data2\"\n",
        "  )"
      ],
      "metadata": {
        "colab": {
          "base_uri": "https://localhost:8080/"
        },
        "id": "wxEKH9xWk9SP",
        "outputId": "aee6b079-36f7-4d9d-b8c1-204638a32bd1"
      },
      "execution_count": 25,
      "outputs": [
        {
          "output_type": "stream",
          "name": "stderr",
          "text": [
            "WARNING:pdfminer.pdfinterp:Cannot set gray stroke color because /'P8' is an invalid float value\n",
            "WARNING:pdfminer.pdfinterp:Cannot set gray non-stroke color because /'P8' is an invalid float value\n"
          ]
        },
        {
          "output_type": "stream",
          "name": "stdout",
          "text": [
            "Warning: No languages specified, defaulting to English.\n"
          ]
        },
        {
          "output_type": "stream",
          "name": "stderr",
          "text": [
            "WARNING:pdfminer.pdfinterp:Cannot set gray stroke color because /'P8' is an invalid float value\n",
            "WARNING:pdfminer.pdfinterp:Cannot set gray non-stroke color because /'P8' is an invalid float value\n"
          ]
        }
      ]
    },
    {
      "cell_type": "code",
      "source": [
        "raw_pdf_elements2"
      ],
      "metadata": {
        "colab": {
          "base_uri": "https://localhost:8080/"
        },
        "id": "fk8hSSbZlBhM",
        "outputId": "ae09dcc6-1bfc-411f-d948-d6c8ade9fe29"
      },
      "execution_count": 26,
      "outputs": [
        {
          "output_type": "execute_result",
          "data": {
            "text/plain": [
              "[<unstructured.documents.elements.Text at 0x7a0bcfd5c3b0>,\n",
              " <unstructured.documents.elements.Text at 0x7a0b884d7d40>,\n",
              " <unstructured.documents.elements.Text at 0x7a0bcfd5c2c0>,\n",
              " <unstructured.documents.elements.Text at 0x7a0bcfd5cbf0>,\n",
              " <unstructured.documents.elements.Header at 0x7a0b9a422db0>,\n",
              " <unstructured.documents.elements.Text at 0x7a0b884d4f50>,\n",
              " <unstructured.documents.elements.Text at 0x7a0b884d42f0>,\n",
              " <unstructured.documents.elements.Text at 0x7a0b884d4230>,\n",
              " <unstructured.documents.elements.Text at 0x7a0b884d44a0>,\n",
              " <unstructured.documents.elements.Text at 0x7a0b884d5040>,\n",
              " <unstructured.documents.elements.Text at 0x7a0b884d4320>,\n",
              " <unstructured.documents.elements.Title at 0x7a0bcfca2930>,\n",
              " <unstructured.documents.elements.NarrativeText at 0x7a0bcfca23f0>,\n",
              " <unstructured.documents.elements.NarrativeText at 0x7a0bcfd5c110>,\n",
              " <unstructured.documents.elements.NarrativeText at 0x7a0b9a4219a0>,\n",
              " <unstructured.documents.elements.NarrativeText at 0x7a0b9a421670>,\n",
              " <unstructured.documents.elements.NarrativeText at 0x7a0b9a422870>,\n",
              " <unstructured.documents.elements.Title at 0x7a0b884d6270>,\n",
              " <unstructured.documents.elements.NarrativeText at 0x7a0b884d52b0>,\n",
              " <unstructured.documents.elements.Title at 0x7a0b884d6de0>,\n",
              " <unstructured.documents.elements.NarrativeText at 0x7a0b884d41d0>,\n",
              " <unstructured.documents.elements.Image at 0x7a0b9a423590>,\n",
              " <unstructured.documents.elements.NarrativeText at 0x7a0bcfca2f00>,\n",
              " <unstructured.documents.elements.NarrativeText at 0x7a0b9a4211c0>,\n",
              " <unstructured.documents.elements.NarrativeText at 0x7a0b9a4214f0>,\n",
              " <unstructured.documents.elements.NarrativeText at 0x7a0b884d5a90>,\n",
              " <unstructured.documents.elements.NarrativeText at 0x7a0b884d50a0>,\n",
              " <unstructured.documents.elements.Title at 0x7a0b884d5250>,\n",
              " <unstructured.documents.elements.NarrativeText at 0x7a0b884d46e0>,\n",
              " <unstructured.documents.elements.NarrativeText at 0x7a0b884d6bd0>,\n",
              " <unstructured.documents.elements.Footer at 0x7a0b884d6cc0>,\n",
              " <unstructured.documents.elements.NarrativeText at 0x7a0b9a288c20>,\n",
              " <unstructured.documents.elements.NarrativeText at 0x7a0b884d6db0>,\n",
              " <unstructured.documents.elements.Title at 0x7a0b884d5af0>,\n",
              " <unstructured.documents.elements.NarrativeText at 0x7a0b884d5bb0>,\n",
              " <unstructured.documents.elements.Text at 0x7a0b884d62a0>,\n",
              " <unstructured.documents.elements.Formula at 0x7a0b884d43b0>,\n",
              " <unstructured.documents.elements.NarrativeText at 0x7a0b884d4980>,\n",
              " <unstructured.documents.elements.Formula at 0x7a0b9b3e86b0>,\n",
              " <unstructured.documents.elements.NarrativeText at 0x7a0b884d4cb0>,\n",
              " <unstructured.documents.elements.Title at 0x7a0b884d4bf0>,\n",
              " <unstructured.documents.elements.NarrativeText at 0x7a0b9ac8f7d0>,\n",
              " <unstructured.documents.elements.Text at 0x7a0b9a42c980>,\n",
              " <unstructured.documents.elements.Formula at 0x7a0b9a42d550>,\n",
              " <unstructured.documents.elements.NarrativeText at 0x7a0b9a42e720>,\n",
              " <unstructured.documents.elements.Title at 0x7a0b9a42f4d0>,\n",
              " <unstructured.documents.elements.NarrativeText at 0x7a0b9a42d1f0>,\n",
              " <unstructured.documents.elements.Title at 0x7a0b9a42c920>,\n",
              " <unstructured.documents.elements.NarrativeText at 0x7a0b88431a30>,\n",
              " <unstructured.documents.elements.Footer at 0x7a0b9a42e1b0>,\n",
              " <unstructured.documents.elements.Text at 0x7a0b885f4a40>,\n",
              " <unstructured.documents.elements.NarrativeText at 0x7a0b884d6d80>,\n",
              " <unstructured.documents.elements.Title at 0x7a0b9a42f530>,\n",
              " <unstructured.documents.elements.Text at 0x7a0b9bed78c0>,\n",
              " <unstructured.documents.elements.NarrativeText at 0x7a0b9a422c00>,\n",
              " <unstructured.documents.elements.NarrativeText at 0x7a0bcfbeee70>,\n",
              " <unstructured.documents.elements.Title at 0x7a0b884d5310>,\n",
              " <unstructured.documents.elements.NarrativeText at 0x7a0b88352390>,\n",
              " <unstructured.documents.elements.Title at 0x7a0b9a42c410>,\n",
              " <unstructured.documents.elements.NarrativeText at 0x7a0b8845df70>,\n",
              " <unstructured.documents.elements.Title at 0x7a0b88352750>,\n",
              " <unstructured.documents.elements.NarrativeText at 0x7a0b9a401b80>,\n",
              " <unstructured.documents.elements.Footer at 0x7a0b88350230>,\n",
              " <unstructured.documents.elements.NarrativeText at 0x7a0b9a42e030>,\n",
              " <unstructured.documents.elements.Title at 0x7a0b884d4d70>,\n",
              " <unstructured.documents.elements.NarrativeText at 0x7a0b9a42d2b0>,\n",
              " <unstructured.documents.elements.NarrativeText at 0x7a0b9b3e8b30>,\n",
              " <unstructured.documents.elements.Title at 0x7a0b9a400e90>,\n",
              " <unstructured.documents.elements.NarrativeText at 0x7a0b9a402000>,\n",
              " <unstructured.documents.elements.Title at 0x7a0b88352c90>,\n",
              " <unstructured.documents.elements.Title at 0x7a0b9a40c890>,\n",
              " <unstructured.documents.elements.NarrativeText at 0x7a0b884f70e0>,\n",
              " <unstructured.documents.elements.NarrativeText at 0x7a0b884f6030>,\n",
              " <unstructured.documents.elements.Footer at 0x7a0b884f40b0>,\n",
              " <unstructured.documents.elements.FigureCaption at 0x7a0b9a4024b0>,\n",
              " <unstructured.documents.elements.Text at 0x7a0b884308f0>,\n",
              " <unstructured.documents.elements.Text at 0x7a0b9a4020c0>,\n",
              " <unstructured.documents.elements.Text at 0x7a0b884f6a50>,\n",
              " <unstructured.documents.elements.Table at 0x7a0b884f79e0>,\n",
              " <unstructured.documents.elements.Text at 0x7a0b884f5370>,\n",
              " <unstructured.documents.elements.Text at 0x7a0b884f7fe0>,\n",
              " <unstructured.documents.elements.NarrativeText at 0x7a0b884f7ad0>,\n",
              " <unstructured.documents.elements.Title at 0x7a0b884f5a60>,\n",
              " <unstructured.documents.elements.NarrativeText at 0x7a0b884f4e30>,\n",
              " <unstructured.documents.elements.Title at 0x7a0b884f5460>,\n",
              " <unstructured.documents.elements.NarrativeText at 0x7a0b884f5fa0>,\n",
              " <unstructured.documents.elements.NarrativeText at 0x7a0b884f5a90>,\n",
              " <unstructured.documents.elements.Title at 0x7a0b884f4320>,\n",
              " <unstructured.documents.elements.NarrativeText at 0x7a0b884f4590>,\n",
              " <unstructured.documents.elements.Text at 0x7a0b884f6960>,\n",
              " <unstructured.documents.elements.Text at 0x7a0b884f5580>,\n",
              " <unstructured.documents.elements.Text at 0x7a0b884f4080>,\n",
              " <unstructured.documents.elements.Text at 0x7a0b884f60f0>,\n",
              " <unstructured.documents.elements.Image at 0x7a0b8845e3f0>,\n",
              " <unstructured.documents.elements.Text at 0x7a0b884e05c0>,\n",
              " <unstructured.documents.elements.NarrativeText at 0x7a0b884f47a0>,\n",
              " <unstructured.documents.elements.NarrativeText at 0x7a0b884f76b0>,\n",
              " <unstructured.documents.elements.Table at 0x7a0b884f6840>,\n",
              " <unstructured.documents.elements.NarrativeText at 0x7a0b884f6ea0>,\n",
              " <unstructured.documents.elements.Title at 0x7a0b884f7f20>,\n",
              " <unstructured.documents.elements.NarrativeText at 0x7a0b884f6db0>,\n",
              " <unstructured.documents.elements.NarrativeText at 0x7a0b884f56a0>,\n",
              " <unstructured.documents.elements.NarrativeText at 0x7a0b884f7b30>,\n",
              " <unstructured.documents.elements.NarrativeText at 0x7a0b884f7d70>,\n",
              " <unstructured.documents.elements.Footer at 0x7a0b884f6d20>,\n",
              " <unstructured.documents.elements.NarrativeText at 0x7a0b884f7cb0>,\n",
              " <unstructured.documents.elements.Text at 0x7a0b884f4740>,\n",
              " <unstructured.documents.elements.Text at 0x7a0b9a411c70>,\n",
              " <unstructured.documents.elements.Table at 0x7a0b884f6f90>,\n",
              " <unstructured.documents.elements.FigureCaption at 0x7a0b884f59d0>,\n",
              " <unstructured.documents.elements.Table at 0x7a0b884f4290>,\n",
              " <unstructured.documents.elements.Text at 0x7a0b884e2180>,\n",
              " <unstructured.documents.elements.Text at 0x7a0b884e3b30>,\n",
              " <unstructured.documents.elements.NarrativeText at 0x7a0b884e0350>,\n",
              " <unstructured.documents.elements.NarrativeText at 0x7a0b884e3ec0>,\n",
              " <unstructured.documents.elements.Image at 0x7a0b884e2690>,\n",
              " <unstructured.documents.elements.FigureCaption at 0x7a0b884e0c50>,\n",
              " <unstructured.documents.elements.Title at 0x7a0b884e3c80>,\n",
              " <unstructured.documents.elements.NarrativeText at 0x7a0b884e2ff0>,\n",
              " <unstructured.documents.elements.Footer at 0x7a0b884e0170>,\n",
              " <unstructured.documents.elements.NarrativeText at 0x7a0b884f64e0>,\n",
              " <unstructured.documents.elements.NarrativeText at 0x7a0bcfcab680>,\n",
              " <unstructured.documents.elements.NarrativeText at 0x7a0b884e2630>,\n",
              " <unstructured.documents.elements.NarrativeText at 0x7a0b884e3d70>,\n",
              " <unstructured.documents.elements.Title at 0x7a0b884e1790>,\n",
              " <unstructured.documents.elements.NarrativeText at 0x7a0b884e2e40>,\n",
              " <unstructured.documents.elements.Text at 0x7a0b884e1910>,\n",
              " <unstructured.documents.elements.Title at 0x7a0b884f7bf0>,\n",
              " <unstructured.documents.elements.NarrativeText at 0x7a0b884e3da0>,\n",
              " <unstructured.documents.elements.NarrativeText at 0x7a0b884e13d0>,\n",
              " <unstructured.documents.elements.Title at 0x7a0b884e14f0>,\n",
              " <unstructured.documents.elements.NarrativeText at 0x7a0b884e07a0>,\n",
              " <unstructured.documents.elements.Title at 0x7a0b884e0470>,\n",
              " <unstructured.documents.elements.ListItem at 0x7a0b884e3110>,\n",
              " <unstructured.documents.elements.ListItem at 0x7a0b884e3410>,\n",
              " <unstructured.documents.elements.ListItem at 0x7a0b884e0710>,\n",
              " <unstructured.documents.elements.ListItem at 0x7a0b884e03e0>,\n",
              " <unstructured.documents.elements.ListItem at 0x7a0b884e2750>,\n",
              " <unstructured.documents.elements.ListItem at 0x7a0b884e0a40>,\n",
              " <unstructured.documents.elements.Footer at 0x7a0b884e2a20>,\n",
              " <unstructured.documents.elements.ListItem at 0x7a0b884e1c70>,\n",
              " <unstructured.documents.elements.ListItem at 0x7a0b884e2ba0>,\n",
              " <unstructured.documents.elements.ListItem at 0x7a0b884e0740>,\n",
              " <unstructured.documents.elements.ListItem at 0x7a0b884e1130>,\n",
              " <unstructured.documents.elements.ListItem at 0x7a0b884e06b0>,\n",
              " <unstructured.documents.elements.ListItem at 0x7a0b884e1e50>,\n",
              " <unstructured.documents.elements.ListItem at 0x7a0b884e3ef0>,\n",
              " <unstructured.documents.elements.ListItem at 0x7a0b884e1250>,\n",
              " <unstructured.documents.elements.ListItem at 0x7a0b8849a060>,\n",
              " <unstructured.documents.elements.ListItem at 0x7a0b88499d60>,\n",
              " <unstructured.documents.elements.ListItem at 0x7a0b8849a7b0>,\n",
              " <unstructured.documents.elements.ListItem at 0x7a0b88498050>,\n",
              " <unstructured.documents.elements.ListItem at 0x7a0b8849ae70>,\n",
              " <unstructured.documents.elements.Footer at 0x7a0b8849aa80>,\n",
              " <unstructured.documents.elements.ListItem at 0x7a0b884e3530>,\n",
              " <unstructured.documents.elements.ListItem at 0x7a0b9a400170>,\n",
              " <unstructured.documents.elements.ListItem at 0x7a0b884e3470>,\n",
              " <unstructured.documents.elements.ListItem at 0x7a0b8849a7e0>,\n",
              " <unstructured.documents.elements.ListItem at 0x7a0b88499070>,\n",
              " <unstructured.documents.elements.ListItem at 0x7a0b88499820>,\n",
              " <unstructured.documents.elements.ListItem at 0x7a0b8849a900>,\n",
              " <unstructured.documents.elements.ListItem at 0x7a0b8849ab70>,\n",
              " <unstructured.documents.elements.ListItem at 0x7a0b88499190>,\n",
              " <unstructured.documents.elements.ListItem at 0x7a0b8849a510>,\n",
              " <unstructured.documents.elements.ListItem at 0x7a0b88498260>,\n",
              " <unstructured.documents.elements.ListItem at 0x7a0b88498710>,\n",
              " <unstructured.documents.elements.Footer at 0x7a0b884990a0>,\n",
              " <unstructured.documents.elements.NarrativeText at 0x7a0b884e3ce0>,\n",
              " <unstructured.documents.elements.ListItem at 0x7a0b88498cb0>,\n",
              " <unstructured.documents.elements.ListItem at 0x7a0b8849b5f0>,\n",
              " <unstructured.documents.elements.ListItem at 0x7a0b8849be90>,\n",
              " <unstructured.documents.elements.ListItem at 0x7a0b884998b0>,\n",
              " <unstructured.documents.elements.ListItem at 0x7a0b884981d0>,\n",
              " <unstructured.documents.elements.ListItem at 0x7a0b88498590>,\n",
              " <unstructured.documents.elements.ListItem at 0x7a0b88498620>,\n",
              " <unstructured.documents.elements.ListItem at 0x7a0b88498a70>,\n",
              " <unstructured.documents.elements.ListItem at 0x7a0b8849b2c0>,\n",
              " <unstructured.documents.elements.ListItem at 0x7a0b8849ac90>,\n",
              " <unstructured.documents.elements.ListItem at 0x7a0b88499520>,\n",
              " <unstructured.documents.elements.ListItem at 0x7a0b88499940>,\n",
              " <unstructured.documents.elements.Footer at 0x7a0b8849b740>,\n",
              " <unstructured.documents.elements.NarrativeText at 0x7a0b884e1fa0>,\n",
              " <unstructured.documents.elements.ListItem at 0x7a0b88498650>,\n",
              " <unstructured.documents.elements.ListItem at 0x7a0b88499df0>,\n",
              " <unstructured.documents.elements.ListItem at 0x7a0b8849b8c0>,\n",
              " <unstructured.documents.elements.ListItem at 0x7a0b8849bf50>,\n",
              " <unstructured.documents.elements.ListItem at 0x7a0b8849b200>,\n",
              " <unstructured.documents.elements.ListItem at 0x7a0b88498e00>,\n",
              " <unstructured.documents.elements.ListItem at 0x7a0b88498890>,\n",
              " <unstructured.documents.elements.ListItem at 0x7a0b9aef9d00>,\n",
              " <unstructured.documents.elements.ListItem at 0x7a0b9aef85f0>,\n",
              " <unstructured.documents.elements.ListItem at 0x7a0b9aefab40>,\n",
              " <unstructured.documents.elements.ListItem at 0x7a0b9aef94c0>,\n",
              " <unstructured.documents.elements.ListItem at 0x7a0b9aefacc0>,\n",
              " <unstructured.documents.elements.Footer at 0x7a0b9aef8770>,\n",
              " <unstructured.documents.elements.ListItem at 0x7a0b8849aff0>,\n",
              " <unstructured.documents.elements.ListItem at 0x7a0b884e2540>,\n",
              " <unstructured.documents.elements.ListItem at 0x7a0b88499130>,\n",
              " <unstructured.documents.elements.ListItem at 0x7a0b9aefaff0>,\n",
              " <unstructured.documents.elements.ListItem at 0x7a0b9aefb5c0>,\n",
              " <unstructured.documents.elements.ListItem at 0x7a0b9aef9070>,\n",
              " <unstructured.documents.elements.ListItem at 0x7a0b9aefbe90>,\n",
              " <unstructured.documents.elements.ListItem at 0x7a0b9aefb620>,\n",
              " <unstructured.documents.elements.ListItem at 0x7a0b9aefb650>,\n",
              " <unstructured.documents.elements.ListItem at 0x7a0b9aef8740>,\n",
              " <unstructured.documents.elements.Footer at 0x7a0b9aef90d0>,\n",
              " <unstructured.documents.elements.ListItem at 0x7a0b8849a480>,\n",
              " <unstructured.documents.elements.ListItem at 0x7a0b9aef9310>,\n",
              " <unstructured.documents.elements.ListItem at 0x7a0b9aefb710>,\n",
              " <unstructured.documents.elements.Header at 0x7a0b9aef97f0>,\n",
              " <unstructured.documents.elements.Title at 0x7a0b9aef97c0>,\n",
              " <unstructured.documents.elements.Title at 0x7a0b9aef86b0>,\n",
              " <unstructured.documents.elements.NarrativeText at 0x7a0b9aefb0b0>,\n",
              " <unstructured.documents.elements.Title at 0x7a0b9aefbce0>,\n",
              " <unstructured.documents.elements.Image at 0x7a0b9aef98e0>,\n",
              " <unstructured.documents.elements.NarrativeText at 0x7a0b9aef8f20>,\n",
              " <unstructured.documents.elements.NarrativeText at 0x7a0b9aef8380>,\n",
              " <unstructured.documents.elements.Title at 0x7a0b9aefa6f0>,\n",
              " <unstructured.documents.elements.NarrativeText at 0x7a0b9aef8bc0>,\n",
              " <unstructured.documents.elements.NarrativeText at 0x7a0b9aef8ad0>,\n",
              " <unstructured.documents.elements.Footer at 0x7a0b9aefab10>,\n",
              " <unstructured.documents.elements.Title at 0x7a0b9aefba40>,\n",
              " <unstructured.documents.elements.NarrativeText at 0x7a0b9aef82c0>,\n",
              " <unstructured.documents.elements.NarrativeText at 0x7a0b9aef9160>,\n",
              " <unstructured.documents.elements.NarrativeText at 0x7a0b9aefa690>,\n",
              " <unstructured.documents.elements.Title at 0x7a0b9a42bfb0>,\n",
              " <unstructured.documents.elements.NarrativeText at 0x7a0b9a42a2a0>,\n",
              " <unstructured.documents.elements.Title at 0x7a0b9a428ad0>,\n",
              " <unstructured.documents.elements.NarrativeText at 0x7a0b9a42a840>,\n",
              " <unstructured.documents.elements.Title at 0x7a0b9a429c10>,\n",
              " <unstructured.documents.elements.NarrativeText at 0x7a0b9a42bce0>,\n",
              " <unstructured.documents.elements.Footer at 0x7a0b9a42aea0>,\n",
              " <unstructured.documents.elements.FigureCaption at 0x7a0b9b3e8f20>,\n",
              " <unstructured.documents.elements.Table at 0x7a0b88498410>,\n",
              " <unstructured.documents.elements.NarrativeText at 0x7a0b9a429280>,\n",
              " <unstructured.documents.elements.Title at 0x7a0b9a429310>,\n",
              " <unstructured.documents.elements.NarrativeText at 0x7a0b9a4291f0>,\n",
              " <unstructured.documents.elements.Title at 0x7a0b9a429b50>,\n",
              " <unstructured.documents.elements.NarrativeText at 0x7a0b9a428e60>,\n",
              " <unstructured.documents.elements.Header at 0x7a0b9a42b950>]"
            ]
          },
          "metadata": {},
          "execution_count": 26
        }
      ]
    },
    {
      "cell_type": "code",
      "source": [
        "img=[]\n",
        "for element in raw_pdf_elements2:\n",
        "  if \"unstructured.documents.elements.Image\" in str(type(element)):\n",
        "            img.append(str(element))"
      ],
      "metadata": {
        "id": "K-NxyHd2mc_n"
      },
      "execution_count": 27,
      "outputs": []
    },
    {
      "cell_type": "code",
      "source": [
        "img"
      ],
      "metadata": {
        "colab": {
          "base_uri": "https://localhost:8080/"
        },
        "id": "ZyheLpbZnDnm",
        "outputId": "2e785abf-0971-43c8-f43c-88f35c0dbc6a"
      },
      "execution_count": 28,
      "outputs": [
        {
          "output_type": "execute_result",
          "data": {
            "text/plain": [
              "['@--- ee ee ee ee ee ee ee ee ee ee eee The middle ear includes End-to-End Backprop through q and pe the tympanic cavity and the three ossicles. (y) Define \"middle ear\" (x) Question Answering: Question Query Retriever py Document Generator pg “fnower Generation Index. (Non-Parametric) (Parametric) d(z) supports (y) Barack Obama was born in Hawaii. (x) q(x) Fact Verification: Fact Query Fact Verification: Label Generation The Divine This 14th century work Comedy (x) is divided into 3 Jeopardy Question Generation: Answer Query sections: \"Inferno\", \"purgatorio\" & \"Paradiso\" @) Question Generation',\n",
              " '| | | |',\n",
              " 'Bee TT % 80 Porm Sa SRS nana ga g / Z fr = 70 2 | / 3 RAG TORRE 2 nf |! g <= RAG-Tok B-1 Ba Ze H=- RAGSeq RL a ; 3 Zs == RAG-Seq BA Q 50 > 50 ZO — reactor | & 3 soft === RAGSeq | Z 40 2 4s rr rr rr nr) rr nr K Retrieved Docs K Retrieved Docs K Retrieved Docs',\n",
              " 'View full instructions Which sentence is more factually true? View tool guide Select an option Subject : Hemingway eI Note: Some questions are Sentence Ais more 1 control questions. We require Sentence A : \"The Sun Also Rises\" is a novel by this author of \"A true good accuracy on our control Farewell to Arms\" Sentence Bis more 2 questions to accept true responses. Sentence B : This author of \"The Sun Also Rises\" was born in Both sentences are 8 Havana, Cuba, the son of Spanish immigrants ‘rue Indicate which one of the P a following sentences is more Both sentences are factually true with respect to completely untrue the subject. Using the internet to check whether the sentences are true is encouraged.']"
            ]
          },
          "metadata": {},
          "execution_count": 28
        }
      ]
    },
    {
      "cell_type": "code",
      "source": [
        "tab=[]\n",
        "for element in raw_pdf_elements2:\n",
        "  if \"unstructured.documents.elements.Table\" in str(type(element)):\n",
        "            tab.append(str(element))"
      ],
      "metadata": {
        "id": "EJXbI-qnmiqh"
      },
      "execution_count": 29,
      "outputs": []
    },
    {
      "cell_type": "code",
      "source": [
        "tab[0]"
      ],
      "metadata": {
        "id": "ggmzHxN_nGbQ",
        "outputId": "389510b5-79a9-4f73-f1da-2e3e7d6e2d67",
        "colab": {
          "base_uri": "https://localhost:8080/",
          "height": 87
        }
      },
      "execution_count": 30,
      "outputs": [
        {
          "output_type": "execute_result",
          "data": {
            "text/plain": [
              "'Closed Book T5-11B [52] 34.5 T5-11B+SSM[52] 36.6 - - /50.1 37.4 /60.5 44.7 - - Model B-1 QB-1 R-L B-1 Label Acc. Open REALM [20] 40.4 - / - 40.7 46.8 SotA - - 49.8* 49.9* 76.8 Book DPR [26] 41.5 57.9/ - 41.1 50.6 BART 15.1 19.7 38.2 41.6 64.0 81.1 RAG-Token RAG-Seq. 44.1 55.2/66.1 45.5 50.0 44.5 56.8/68.0 45.2 52.2 RAG-Tok. 17.3 22.2 RAG-Seq. 14.7 21.4 40.1 40.8 41.5 44.2 72.5 89.5'"
            ],
            "application/vnd.google.colaboratory.intrinsic+json": {
              "type": "string"
            }
          },
          "metadata": {},
          "execution_count": 30
        }
      ]
    },
    {
      "cell_type": "code",
      "source": [
        "NarrativeText=[]\n",
        "for element in raw_pdf_elements2:\n",
        "  if \"unstructured.documents.elements.NarrativeText\" in str(type(element)):\n",
        "            NarrativeText.append(str(element))"
      ],
      "metadata": {
        "id": "Q_HPBYJUmki8"
      },
      "execution_count": 31,
      "outputs": []
    },
    {
      "cell_type": "code",
      "source": [
        "ListItem=[]\n",
        "for element in raw_pdf_elements2:\n",
        "  if \"unstructured.documents.elements.ListItem\" in str(type(element)):\n",
        "            ListItem.append(str(element))"
      ],
      "metadata": {
        "id": "BEQ3vkYjmnER"
      },
      "execution_count": 32,
      "outputs": []
    },
    {
      "cell_type": "code",
      "source": [
        "NarrativeText\n"
      ],
      "metadata": {
        "id": "NqS75kwYnF84",
        "colab": {
          "base_uri": "https://localhost:8080/"
        },
        "outputId": "698eba57-39e3-4299-b591-d2e19bf444d0"
      },
      "execution_count": 33,
      "outputs": [
        {
          "output_type": "execute_result",
          "data": {
            "text/plain": [
              "[\"Patrick Lewis't, Ethan Perez*,\",\n",
              " 'Aleksandra Piktus†, Fabio Petroni†, Vladimir Karpukhin†, Naman Goyal†, Heinrich Küttler†,',\n",
              " 'Mike Lewis†, Wen-tau Yih†, Tim Rocktäschel†‡, Sebastian Riedel†‡, Douwe Kiela†',\n",
              " '+Racebook AI Research; *University College London; *New York University;',\n",
              " 'plewis@fb.com',\n",
              " 'Large pre-trained language models have been shown to store factual knowledge in their parameters, and achieve state-of-the-art results when ﬁne-tuned on down- stream NLP tasks. However, their ability to access and precisely manipulate knowl- edge is still limited, and hence on knowledge-intensive tasks, their performance lags behind task-speciﬁc architectures. Additionally, providing provenance for their decisions and updating their world knowledge remain open research problems. Pre- trained models with a differentiable access mechanism to explicit non-parametric memory have so far been only investigated for extractive downstream tasks. We explore a general-purpose ﬁne-tuning recipe for retrieval-augmented generation (RAG) — models which combine pre-trained parametric and non-parametric mem- ory for language generation. We introduce RAG models where the parametric memory is a pre-trained seq2seq model and the non-parametric memory is a dense vector index of Wikipedia, accessed with a pre-trained neural retriever. We com- pare two RAG formulations, one which conditions on the same retrieved passages across the whole generated sequence, and another which can use different passages per token. We ﬁne-tune and evaluate our models on a wide range of knowledge- intensive NLP tasks and set the state of the art on three open domain QA tasks, outperforming parametric seq2seq models and task-speciﬁc retrieve-and-extract architectures. For language generation tasks, we ﬁnd that RAG models generate more speciﬁc, diverse and factual language than a state-of-the-art parametric-only seq2seq baseline.',\n",
              " 'Pre-trained neural language models have been shown to learn a substantial amount of in-depth knowl- edge from data [47]. They can do so without any access to an external memory, as a parameterized implicit knowledge base [51, 52]. While this development is exciting, such models do have down- sides: They cannot easily expand or revise their memory, can’t straightforwardly provide insight into their predictions, and may produce “hallucinations” [38]. Hybrid models that combine parametric memory with non-parametric (i.e., retrieval-based) memories [20, 26, 48] can address some of these issues because knowledge can be directly revised and expanded, and accessed knowledge can be inspected and interpreted. REALM [20] and ORQA [31], two recently introduced models that combine masked language models [8] with a differentiable retriever, have shown promising results,',\n",
              " 'Figure 1: Overview of our approach. We combine a pre-trained retriever (Query Encoder + Document Index) with a pre-trained seq2seq model (Generator) and ﬁne-tune end-to-end. For query x, we use Maximum Inner Product Search (MIPS) to ﬁnd the top-K documents zi. For ﬁnal prediction y, we treat z as a latent variable and marginalize over seq2seq predictions given different documents.',\n",
              " 'but have only explored open-domain extractive question answering. Here, we bring hybrid parametric and non-parametric memory to the “workhorse of NLP,” i.e. sequence-to-sequence (seq2seq) models.',\n",
              " 'We endow pre-trained, parametric-memory generation models with a non-parametric memory through a general-purpose ﬁne-tuning approach which we refer to as retrieval-augmented generation (RAG). We build RAG models where the parametric memory is a pre-trained seq2seq transformer, and the non-parametric memory is a dense vector index of Wikipedia, accessed with a pre-trained neural retriever. We combine these components in a probabilistic model trained end-to-end (Fig. 1). The retriever (Dense Passage Retriever [26], henceforth DPR) provides latent documents conditioned on the input, and the seq2seq model (BART [32]) then conditions on these latent documents together with the input to generate the output. We marginalize the latent documents with a top-K approximation, either on a per-output basis (assuming the same document is responsible for all tokens) or a per-token basis (where different documents are responsible for different tokens). Like T5 [51] or BART, RAG can be ﬁne-tuned on any seq2seq task, whereby both the generator and retriever are jointly learned.',\n",
              " 'There has been extensive previous work proposing architectures to enrich systems with non-parametric memory which are trained from scratch for speciﬁc tasks, e.g. memory networks [64, 55], stack- augmented networks [25] and memory layers [30]. In contrast, we explore a setting where both parametric and non-parametric memory components are pre-trained and pre-loaded with extensive knowledge. Crucially, by using pre-trained access mechanisms, the ability to access knowledge is present without additional training.',\n",
              " 'Our results highlight the beneﬁts of combining parametric and non-parametric memory with genera- tion for knowledge-intensive tasks—tasks that humans could not reasonably be expected to perform without access to an external knowledge source. Our RAG models achieve state-of-the-art results on open Natural Questions [29], WebQuestions [3] and CuratedTrec [2] and strongly outperform recent approaches that use specialised pre-training objectives on TriviaQA [24]. Despite these being extractive tasks, we ﬁnd that unconstrained generation outperforms previous extractive approaches. For knowledge-intensive generation, we experiment with MS-MARCO [1] and Jeopardy question generation, and we ﬁnd that our models generate responses that are more factual, speciﬁc, and diverse than a BART baseline. For FEVER [56] fact veriﬁcation, we achieve results within 4.3% of state-of-the-art pipeline models which use strong retrieval supervision. Finally, we demonstrate that the non-parametric memory can be replaced to update the models’ knowledge as the world changes.1',\n",
              " 'We explore RAG models, which use the input sequence x to retrieve text documents z and use them as additional context when generating the target sequence y. As shown in Figure 1, our models leverage two components: (i) a retriever pη(z|x) with parameters η that returns (top-K truncated) distributions over text passages given a query x and (ii) a generator pθ(yi|x,z,y1:i−1) parametrized',\n",
              " '1Code to run experiments with RAG has been open-sourced as part of the HuggingFace Transform- ers Library [66] and can be found at https://github.com/huggingface/transformers/blob/master/ examples/rag/. An interactive demo of RAG models can be found at https://huggingface.co/rag/',\n",
              " 'by θ that generates a current token based on a context of the previous i − 1 tokens y1:i−1, the original input x and a retrieved passage z.',\n",
              " 'To train the retriever and generator end-to-end, we treat the retrieved document as a latent variable. We propose two models that marginalize over the latent documents in different ways to produce a distribution over generated text. In one approach, RAG-Sequence, the model uses the same document to predict each target token. The second approach, RAG-Token, can predict each target token based on a different document. In the following, we formally introduce both models and then describe the pη and pθ components, as well as the training and decoding procedure.',\n",
              " 'RAG-Sequence Model The RAG-Sequence model uses the same retrieved document to generate the complete sequence. Technically, it treats the retrieved document as a single latent variable that is marginalized to get the seq2seq probability p(y|x) via a top-K approximation. Concretely, the top K documents are retrieved using the retriever, and the generator produces the output sequence probability for each document, which are then marginalized,',\n",
              " 'RAG-Token Model In the RAG-Token model we can draw a different latent document for each target token and marginalize accordingly. This allows the generator to choose content from several documents when producing an answer. Concretely, the top K documents are retrieved using the retriever, and then the generator produces a distribution for the next output token for each document, before marginalizing, and repeating the process with the following output token, Formally, we deﬁne:',\n",
              " 'Finally, we note that RAG can be used for sequence classiﬁcation tasks by considering the target class as a target sequence of length one, in which case RAG-Sequence and RAG-Token are equivalent.',\n",
              " 'The retrieval component pη(z|x) is based on DPR [26]. DPR follows a bi-encoder architecture:',\n",
              " 'where d(z) is a dense representation of a document produced by a BERTBASE document encoder [8], and q(x) a query representation produced by a query encoder, also based on BERTBASE. Calculating top-k(pη(·|x)), the list of k documents z with highest prior probability pη(z|x), is a Maximum Inner Product Search (MIPS) problem, which can be approximately solved in sub-linear time [23]. We use a pre-trained bi-encoder from DPR to initialize our retriever and to build the document index. This retriever was trained to retrieve documents which contain answers to TriviaQA [24] questions and Natural Questions [29]. We refer to the document index as the non-parametric memory.',\n",
              " 'The generator component pθ(yi|x,z,y1:i−1) could be modelled using any encoder-decoder. We use BART-large [32], a pre-trained seq2seq transformer [58] with 400M parameters. To combine the input x with the retrieved content z when generating from BART, we simply concatenate them. BART was pre-trained using a denoising objective and a variety of different noising functions. It has obtained state-of-the-art results on a diverse set of generation tasks and outperforms comparably-sized T5 models [32]. We refer to the BART generator parameters θ as the parametric memory henceforth.',\n",
              " 'We jointly train the retriever and generator components without any direct supervision on what document should be retrieved. Given a ﬁne-tuning training corpus of input/output pairs (xj,yj), we',\n",
              " 'j −logp(yj|xj) using stochastic gradient descent with Adam [28]. Updating the document encoder BERTd during training is costly as it requires the document index to be periodically updated as REALM does during pre-training [20]. We do not ﬁnd this step necessary for strong performance, and keep the document encoder (and index) ﬁxed, only ﬁne-tuning the query encoder BERTq and the BART generator.',\n",
              " 'RAG-Token The RAG-Token model can be seen as a standard, autoregressive seq2seq genera- tor with transition probability: pj (yi|z, yii—1) = zetop-k(p(-|2)) Pn (zil@)po(yil@, Zi, Y1e—1) To decode, we can plug Po(yi |x, y1i—1) into a standard beam decoder.',\n",
              " 'RAG-Sequence For RAG-Sequence, the likelihood p(y|x) does not break into a conventional per- token likelihood, hence we cannot solve it with a single beam search. Instead, we run beam search for each document z, scoring each hypothesis using pθ(yi|x,z,y1:i−1). This yields a set of hypotheses Y , some of which may not have appeared in the beams of all documents. To estimate the probability of an hypothesis y we run an additional forward pass for each document z for which y does not appear in the beam, multiply generator probability with pη(z|x) and then sum the probabilities across beams for the marginals. We refer to this decoding procedure as “Thorough Decoding.” For longer output sequences, |Y | can become large, requiring many forward passes. For more efﬁcient decoding, we can make a further approximation that pθ(y|x,zi) ≈ 0 where y was not generated during beam search from x,zi. This avoids the need to run additional forward passes once the candidate set Y has been generated. We refer to this decoding procedure as “Fast Decoding.”',\n",
              " 'We experiment with RAG in a wide range of knowledge-intensive tasks. For all experiments, we use a single Wikipedia dump for our non-parametric knowledge source. Following Lee et al. [31] and Karpukhin et al. [26], we use the December 2018 dump. Each Wikipedia article is split into disjoint 100-word chunks, to make a total of 21M documents. We use the document encoder to compute an embedding for each document, and build a single MIPS index using FAISS [23] with a Hierarchical Navigable Small World approximation for fast retrieval [37]. During training, we retrieve the top k documents for each query. We consider k ∈ {5,10} for training and set k for test time using dev data. We now discuss experimental details for each task.',\n",
              " 'Open-domain question answering (QA) is an important real-world application and common testbed for knowledge-intensive tasks [20]. We treat questions and answers as input-output text pairs (x,y) and train RAG by directly minimizing the negative log-likelihood of answers. We compare RAG to the popular extractive QA paradigm [5, 7, 31, 26], where answers are extracted spans from retrieved documents, relying primarily on non-parametric knowledge. We also compare to “Closed-Book QA” approaches [52], which, like RAG, generate answers, but which do not exploit retrieval, instead relying purely on parametric knowledge. We consider four popular open-domain QA datasets: Natural Questions (NQ) [29], TriviaQA (TQA) [24]. WebQuestions (WQ) [3] and CuratedTrec (CT) [2]. As CT and WQ are small, we follow DPR [26] by initializing CT and WQ models with our NQ RAG model. We use the same train/dev/test splits as prior work [31, 26] and report Exact Match (EM) scores. For TQA, to compare with T5 [52], we also evaluate on the TQA Wiki test set.',\n",
              " 'RAG models can go beyond simple extractive QA and answer questions with free-form, abstractive text generation. To test RAG’s natural language generation (NLG) in a knowledge-intensive setting, we use the MSMARCO NLG task v2.1 [43]. The task consists of questions, ten gold passages retrieved from a search engine for each question, and a full sentence answer annotated from the retrieved passages. We do not use the supplied passages, only the questions and answers, to treat',\n",
              " 'MSMARCO as an open-domain abstractive QA task. MSMARCO has some questions that cannot be answered in a way that matches the reference answer without access to the gold passages, such as “What is the weather in Volcano, CA?” so performance will be lower without using gold passages. We also note that some MSMARCO questions cannot be answered using Wikipedia alone. Here, RAG can rely on parametric knowledge to generate reasonable responses.',\n",
              " 'To evaluate RAG’s generation abilities in a non-QA setting, we study open-domain question gen- eration. Rather than use questions from standard open-domain QA tasks, which typically consist of short, simple questions, we propose the more demanding task of generating Jeopardy questions. Jeopardy is an unusual format that consists of trying to guess an entity from a fact about that entity. For example, “The World Cup” is the answer to the question “In 1986 Mexico scored as the ﬁrst country to host this international sports competition twice.” As Jeopardy questions are precise, factual statements, generating Jeopardy questions conditioned on their answer entities constitutes a challenging knowledge-intensive generation task.',\n",
              " 'We use the splits from SearchQA [10], with 100K train, 14K dev, and 27K test examples. As this is a new task, we train a BART model for comparison. Following [67], we evaluate using the SQuAD-tuned Q-BLEU-1 metric [42]. Q-BLEU is a variant of BLEU with a higher weight for matching entities and has higher correlation with human judgment for question generation than standard metrics. We also perform two human evaluations, one to assess generation factuality, and one for speciﬁcity. We deﬁne factuality as whether a statement can be corroborated by trusted external sources, and speciﬁcity as high mutual dependence between the input and output [33]. We follow best practice and use pairwise comparative evaluation [34]. Evaluators are shown an answer and two generated questions, one from BART and one from RAG. They are then asked to pick one of four options—quuestion A is better, question B is better, both are good, or neither is good.',\n",
              " 'FEVER [56] requires classifying whether a natural language claim is supported or refuted by Wikipedia, or whether there is not enough information to decide. The task requires retrieving evidence from Wikipedia relating to the claim and then reasoning over this evidence to classify whether the claim is true, false, or unveriﬁable from Wikipedia alone. FEVER is a retrieval problem coupled with an challenging entailment reasoning task. It also provides an appropriate testbed for exploring the RAG models’ ability to handle classiﬁcation rather than generation. We map FEVER class labels (supports, refutes, or not enough info) to single output tokens and directly train with claim-class pairs. Crucially, unlike most other approaches to FEVER, we do not use supervision on retrieved evidence. In many real-world applications, retrieval supervision signals aren’t available, and models that do not require such supervision will be applicable to a wider range of tasks. We explore two variants: the standard 3-way classiﬁcation task (supports/refutes/not enough info) and the 2-way (supports/refutes) task studied in Thorne and Vlachos [57]. In both cases we report label accuracy.',\n",
              " 'Table 1 shows results for RAG along with state-of-the-art models. On all four open-domain QA tasks, RAG sets a new state of the art (only on the T5-comparable split for TQA). RAG combines the generation ﬂexibility of the “closed-book” (parametric only) approaches and the performance of \"open-book\" retrieval-based approaches. Unlike REALM and T5+SSM, RAG enjoys strong results without expensive, specialized “salient span masking” pre-training [20]. It is worth noting that RAG’s retriever is initialized using DPR’s retriever, which uses retrieval supervision on Natural Questions and TriviaQA. RAG compares favourably to the DPR QA system, which uses a BERT-based “cross- encoder” to re-rank documents, along with an extractive reader. RAG demonstrates that neither a re-ranker nor extractive reader is necessary for state-of-the-art performance.',\n",
              " 'There are several advantages to generating answers even when it is possible to extract them. Docu- ments with clues about the answer but do not contain the answer verbatim can still contribute towards a correct answer being generated, which is not possible with standard extractive approaches, leading',\n",
              " 'to more effective marginalization over documents. Furthermore, RAG can generate correct answers even when the correct answer is not in any retrieved document, achieving 11.8% accuracy in such cases for NQ, where an extractive model would score 0%.',\n",
              " 'As shown in Table 2, RAG-Sequence outperforms BART on Open MS-MARCO NLG by 2.6 Bleu points and 2.6 Rouge-L points. RAG approaches state-of-the-art model performance, which is impressive given that (i) those models access gold passages with speciﬁc information required to generate the reference answer , (ii) many questions are unanswerable without the gold passages, and (iii) not all questions are answerable from Wikipedia alone. Table 3 shows some generated answers from our models. Qualitatively, we ﬁnd that RAG models hallucinate less and generate factually correct text more often than BART. Later, we also show that RAG generations are more diverse than BART generations (see §4.5).',\n",
              " 'Table 2 shows that RAG-Token performs better than RAG-Sequence on Jeopardy question generation, with both models outperforming BART on Q-BLEU-1. 4 shows human evaluation results, over 452 pairs of generations from BART and RAG-Token. Evaluators indicated that BART was more factual than RAG in only 7.1% of cases, while RAG was more factual in 42.7% of cases, and both RAG and BART were factual in a further 17% of cases, clearly demonstrating the effectiveness of RAG on the task over a state-of-the-art generation model. Evaluators also ﬁnd RAG generations to be more speciﬁc by a large margin. Table 3 shows typical generations from each model.',\n",
              " 'Jeopardy questions often contain two separate pieces of information, and RAG-Token may perform best because it can generate responses that combine content from several documents. Figure 2 shows an example. When generating “Sun”, the posterior is high for document 2 which mentions “The Sun Also Rises”. Similarly, document 1 dominates the posterior when “A Farewell to Arms” is generated. Intriguingly, after the ﬁrst token of each book is generated, the document posterior ﬂattens. This observation suggests that the generator can complete the titles without depending on speciﬁc documents. In other words, the model’s parametric knowledge is sufﬁcient to complete the titles. We ﬁnd evidence for this hypothesis by feeding the BART-only baseline with the partial decoding \"The Sun. BART completes the generation \"The Sun Also Rises\" is a novel by this author of \"The Sun Also Rises\" indicating the title \"The Sun Also Rises\" is stored in BART’s parameters. Similarly, BART will complete the partial decoding \"The Sun Also Rises\" is a novel by this author of \"A with \"The Sun Also Rises\" is a novel by this author of \"A Farewell to Arms\". This example shows how parametric and non-parametric memories work together—the non-parametric component helps to guide the generation, drawing out speciﬁc knowledge stored in the parametric memory.',\n",
              " 'Table 2 shows our results on FEVER. For 3-way classiﬁcation, RAG scores are within 4.3% of state-of-the-art models, which are complex pipeline systems with domain-speciﬁc architectures and substantial engineering, trained using intermediate retrieval supervision, which RAG does not require.',\n",
              " 'Figure 2: RAG-Token document posterior p(zi|x,yi,y−i) for each generated token for input “Hem- ingway\" for Jeopardy generation with 5 retrieved documents. The posterior for document 1 is high when generating “A Farewell to Arms\" and for document 2 when generating “The Sun Also Rises\".',\n",
              " 'Table 3: Examples from generation tasks. RAG models generate more speciﬁc and factually accurate responses. ‘?’ indicates factually incorrect responses, * indicates partially correct responses.',\n",
              " 'For 2-way classiﬁcation, we compare against Thorne and Vlachos [57], who train RoBERTa [35] to classify the claim as true or false given the gold evidence sentence. RAG achieves an accuracy within 2.7% of this model, despite being supplied with only the claim and retrieving its own evidence. We also analyze whether documents retrieved by RAG correspond to documents annotated as gold evidence in FEVER. We calculate the overlap in article titles between the top k documents retrieved by RAG and gold evidence annotations. We ﬁnd that the top retrieved document is from a gold article in 71% of cases, and a gold article is present in the top 10 retrieved articles in 90% of cases.',\n",
              " 'Generation Diversity Section 4.3 shows that RAG models are more factual and speciﬁc than BART for Jeopardy question generation. Following recent work on diversity-promoting decoding [33, 59, 39], we also investigate generation diversity by calculating the ratio of distinct ngrams to total ngrams generated by different models. Table 5 shows that RAG-Sequence’s generations are more diverse than RAG-Token’s, and both are signiﬁcantly more diverse than BART without needing any diversity-promoting decoding.',\n",
              " 'Retrieval Ablations A key feature of RAG is learning to retrieve relevant information for the task. To assess the effectiveness of the retrieval mechanism, we run ablations where we freeze the retriever during training. As shown in Table 6, learned retrieval improves results for all tasks.',\n",
              " 'We compare RAG’s dense retriever to a word overlap-based BM25 retriever [53]. Here, we replace RAG’s retriever with a ﬁxed BM25 system, and use BM25 retrieval scores as logits when calculating p(z|x). Table 6 shows the results. For FEVER, BM25 performs best, perhaps since FEVER claims are heavily entity-centric and thus well-suited for word overlap-based retrieval. Differentiable retrieval improves results on all other tasks, especially for Open-Domain QA, where it is crucial.',\n",
              " 'Index hot-swapping An advantage of non-parametric memory models like RAG is that knowledge can be easily updated at test time. Parametric-only models like T5 or BART need further training to update their behavior as the world changes. To demonstrate, we build an index using the DrQA [5] Wikipedia dump from December 2016 and compare outputs from RAG using this index to the newer index from our main results (December 2018). We prepare a list of 82 world leaders who had changed',\n",
              " 'Table 4: Human assessments for the Jeopardy Question Generation Task.',\n",
              " 'between these dates and use a template “Who is {position}?” (e.g. “Who is the President of Peru?”) to query our NQ RAG model with each index. RAG answers 70% correctly using the 2016 index for 2016 world leaders and 68% using the 2018 index for 2018 world leaders. Accuracy with mismatched indices is low (12% with the 2018 index and 2016 leaders, 4% with the 2016 index and 2018 leaders). This shows we can update RAG’s world knowledge by simply replacing its non-parametric memory.',\n",
              " 'Effect of Retrieving more documents Models are trained with either 5 or 10 retrieved latent documents, and we do not observe signiﬁcant differences in performance between them. We have the ﬂexibility to adjust the number of retrieved documents at test time, which can affect performance and runtime. Figure 3 (left) shows that retrieving more documents at test time monotonically improves Open-domain QA results for RAG-Sequence, but performance peaks for RAG-Token at 10 retrieved documents. Figure 3 (right) shows that retrieving more documents leads to higher Rouge-L for RAG-Token at the expense of Bleu-1, but the effect is less pronounced for RAG-Sequence.',\n",
              " 'Single-Task Retrieval Prior work has shown that retrieval improves performance across a variety of NLP tasks when considered in isolation. Such tasks include open-domain question answering [5, 29], fact checking [56], fact completion [48], long-form question answering [12], Wikipedia article generation [36], dialogue [41, 65, 9, 13], translation [17], and language modeling [19, 27]. Our work uniﬁes previous successes in incorporating retrieval into individual tasks, showing that a single retrieval-based architecture is capable of achieving strong performance across several tasks.',\n",
              " 'General-Purpose Architectures for NLP Prior work on general-purpose architectures for NLP tasks has shown great success without the use of retrieval. A single, pre-trained language model has been shown to achieve strong performance on various classiﬁcation tasks in the GLUE bench- marks [60, 61] after ﬁne-tuning [49, 8]. GPT-2 [50] later showed that a single, left-to-right, pre-trained language model could achieve strong performance across both discriminative and generative tasks. For further improvement, BART [32] and T5 [51, 52] propose a single, pre-trained encoder-decoder model that leverages bi-directional attention to achieve stronger performance on discriminative and generative tasks. Our work aims to expand the space of possible tasks with a single, uniﬁed architecture, by learning a retrieval module to augment pre-trained, generative language models.',\n",
              " 'Learned Retrieval There is signiﬁcant work on learning to retrieve documents in information retrieval, more recently with pre-trained, neural language models [44, 26] similar to ours. Some work optimizes the retrieval module to aid in a speciﬁc, downstream task such as question answering, using search [46], reinforcement learning [6, 63, 62], or a latent variable approach [31, 20] as in our work. These successes leverage different retrieval-based architectures and optimization techniques to achieve strong performance on a single task, while we show that a single retrieval-based architecture can be ﬁne-tuned for strong performance on a variety of tasks.',\n",
              " 'Memory-based Architectures Our document index can be seen as a large external memory for neural networks to attend to, analogous to memory networks [64, 55]. Concurrent work [14] learns to retrieve a trained embedding for each entity in the input, rather than to retrieve raw text as in our work. Other work improves the ability of dialog models to generate factual text by attending over fact embeddings [15, 13]. A key feature of our memory is that it is comprised of raw text rather distributed representations, which makes the memory both (i) human-readable, lending a form of interpretability to our model, and (ii) human-writable, enabling us to dynamically update the model’s memory by editing the document index. This approach has also been used in knowledge-intensive dialog, where generators have been conditioned on retrieved text directly, albeit obtained via TF-IDF rather than end-to-end learnt retrieval [9].',\n",
              " 'Retrieve-and-Edit approaches Our method shares some similarities with retrieve-and-edit style approaches, where a similar training input-output pair is retrieved for a given input, and then edited to provide a ﬁnal output. These approaches have proved successful in a number of domains including Machine Translation [18, 22] and Semantic Parsing [21]. Our approach does have several differences, including less of emphasis on lightly editing a retrieved item, but on aggregating content from several pieces of retrieved content, as well as learning latent retrieval, and retrieving evidence documents rather than related training pairs. This said, RAG techniques may work well in these settings, and could represent promising future work.',\n",
              " 'In this work, we presented hybrid generation models with access to parametric and non-parametric memory. We showed that our RAG models obtain state of the art results on open-domain QA. We found that people prefer RAG’s generation over purely parametric BART, ﬁnding RAG more factual and speciﬁc. We conducted an thorough investigation of the learned retrieval component, validating its effectiveness, and we illustrated how the retrieval index can be hot-swapped to update the model without requiring any retraining. In future work, it may be fruitful to investigate if the two components can be jointly pre-trained from scratch, either with a denoising objective similar to BART or some another objective. Our work opens up new research directions on how parametric and non-parametric memories interact and how to most effectively combine them, showing promise in being applied to a wide variety of NLP tasks.',\n",
              " 'This work offers several positive societal beneﬁts over previous work: the fact that it is more strongly grounded in real factual knowledge (in this case Wikipedia) makes it “hallucinate” less with generations that are more factual, and offers more control and interpretability. RAG could be employed in a wide variety of scenarios with direct beneﬁt to society, for example by endowing it with a medical index and asking it open-domain questions on that topic, or by helping people be more effective at their jobs.',\n",
              " 'With these advantages also come potential downsides: Wikipedia, or any potential external knowledge source, will probably never be entirely factual and completely devoid of bias. Since RAG can be employed as a language model, similar concerns as for GPT-2 [50] are valid here, although arguably to a lesser extent, including that it might be used to generate abuse, faked or misleading content in the news or on social media; to impersonate others; or to automate the production of spam/phishing content [54]. Advanced language models may also lead to the automation of various jobs in the coming decades [16]. In order to mitigate these risks, AI systems could be employed to ﬁght against misleading content and automated spam/phishing.',\n",
              " 'The authors would like to thank the reviewers for their thoughtful and constructive feedback on this paper, as well as HuggingFace for their help in open-sourcing code to run RAG models. The authors would also like to thank Kyunghyun Cho and Sewon Min for productive discussions and advice. EP thanks supports from the NSF Graduate Research Fellowship. PL is supported by the FAIR PhD program.',\n",
              " 'for Computational Linguistics, pages 6086–6096, Florence, Italy, July 2019. Association for Computational Linguistics. doi: 10.18653/v1/P19-1612. URL https://www.aclweb.org/ anthology/P19-1612.',\n",
              " 'approaches 2016 co-located with the 30th Annual Conference on Neural Information Processing Systems (NIPS 2016), Barcelona, Spain, December 9, 2016, volume 1773 of CEUR Workshop Proceedings. CEUR-WS.org, 2016. URL http://ceur-ws.org/Vol-1773/CoCoNIPS_ 2016_paper9.pdf.',\n",
              " 'For Open-domain QA we report test numbers using 15 retrieved documents for RAG-Token models. For RAG-Sequence models, we report test results using 50 retrieved documents, and we use the Thorough Decoding approach since answers are generally short. We use greedy decoding for QA as we did not ﬁnd beam search improved results. For Open-MSMarco and Jeopardy question generation, we report test numbers using ten retrieved documents for both RAG-Token and RAG-Sequence, and we also train a BART-large model as a baseline. We use a beam size of four, and use the Fast Decoding approach for RAG-Sequence models, as Thorough Decoding did not improve performance.',\n",
              " 'Figure 4: Annotation interface for human evaluation of factuality. A pop-out for detailed instructions and a worked example appear when clicking \"view tool guide\".',\n",
              " 'Figure 4 shows the user interface for human evaluation. To avoid any biases for screen position, which model corresponded to sentence A and sentence B was randomly selected for each example. Annotators were encouraged to research the topic using the internet, and were given detailed instruc- tions and worked examples in a full instructions tab. We included some gold sentences in order to assess the accuracy of the annotators. Two annotators did not perform well on these examples and their annotations were removed from the results.',\n",
              " 'We train all RAG models and BART baselines using Fairseq [45].2 We train with mixed precision ﬂoating point arithmetic [40], distributing training across 8, 32GB NVIDIA V100 GPUs, though training and inference can be run on one GPU. We ﬁnd that doing Maximum Inner Product Search with FAISS is sufﬁciently fast on CPU, so we store document index vectors on CPU, requiring ∼ 100 GB of CPU memory for all of Wikipedia. After submission, We have ported our code to HuggingFace Transformers [66]3, which achieves equivalent performance to the previous version but is a cleaner and easier to use implementation. This version is also open-sourced. We also compress the document index using FAISS’s compression tools, reducing the CPU memory requirement to 36GB. Scripts to run experiments with RAG can be found at https://github.com/huggingface/transformers/ blob/master/examples/rag/README.md and an interactive demo of a RAG model can be found at https://huggingface.co/rag/',\n",
              " '2https://github.com/pytorch/fairseq 3https://github.com/huggingface/transformers',\n",
              " 'For open-domain QA, multiple answer annotations are often available for a given question. These answer annotations are exploited by extractive models during training as typically all the answer annotations are used to ﬁnd matches within documents when preparing training data. For RAG, we also make use of multiple annotation examples for Natural Questions and WebQuestions by training the model with each (q,a) pair separately, leading to a small increase in accuracy. For TriviaQA, there are often many valid answers to a given question, some of which are not suitable training targets, such as emoji or spelling variants. For TriviaQA, we ﬁlter out answer candidates if they do not occur in top 1000 documents for the query.',\n",
              " 'CuratedTrec preprocessing The answers for CuratedTrec are given in the form of regular expres- sions, which has been suggested as a reason why it is unsuitable for answer-generation models [20]. To overcome this, we use a pre-processing step where we ﬁrst retrieve the top 1000 documents for each query, and use the answer that most frequently matches the regex pattern as the supervision target. If no matches are found, we resort to a simple heuristic: generate all possible permutations for each regex, replacing non-deterministic symbols in the regex nested tree structure with a whitespace.',\n",
              " 'TriviaQA Evaluation setups The open-domain QA community customarily uses public develop- ment datasets as test datasets, as test data for QA datasets is often restricted and dedicated to reading compehension purposes. We report our results using the datasets splits used in DPR [26], which are consistent with common practice in Open-domain QA. For TriviaQA, this test dataset is the public TriviaQA Web Development split. Roberts et al. [52] used the TriviaQA ofﬁcial Wikipedia test set instead. Févry et al. [14] follow this convention in order to compare with Roberts et al. [52] (See appendix of [14]). We report results on both test sets to enable fair comparison to both approaches. We ﬁnd that our performance is much higher using the ofﬁcial Wiki test set, rather than the more conventional open-domain test set, which we attribute to the ofﬁcial Wiki test set questions being simpler to answer from Wikipedia.',\n",
              " 'For FEVER classiﬁcation, we follow the practice from [32], and ﬁrst re-generate the claim, and then classify using the representation of the ﬁnal hidden state, before ﬁnally marginalizing across documents to obtain the class probabilities. The FEVER task traditionally has two sub-tasks. The ﬁrst is to classify the claim as either \"Supported\", \"Refuted\" or \"Not Enough Info\", which is the task we explore in the main paper. FEVER’s other sub-task involves extracting sentences from Wikipedia as evidence supporting the classiﬁcation prediction. As FEVER uses a different Wikipedia dump to us, directly tackling this task is not straightforward. We hope to address this in future work.',\n",
              " 'We experimented with adding \"Null document\" mechanism to RAG, similar to REALM [20] in order to model cases where no useful information could be retrieved for a given input. Here, if k documents were retrieved, we would additionally \"retrieve\" an empty document and predict a logit for the null document, before marginalizing over k + 1 predictions. We explored modelling this null document logit by learning (i) a document embedding for the null document, (ii) a static learnt bias term, or (iii) a neural network to predict the logit. We did not ﬁnd that these improved performance, so in the interests of simplicity, we omit them. For Open MS-MARCO, where useful retrieved documents cannot always be retrieved, we observe that the model learns to always retrieve a particular set of documents for questions that are less likely to beneﬁt from retrieval, suggesting that null document mechanisms may not be necessary for RAG.',\n",
              " 'Our RAG models contain the trainable parameters for the BERT-base query and document encoder of DPR, with 110M parameters each (although we do not train the document encoder ourselves) and 406M trainable parameters from BART-large, 406M parameters, making a total of 626M trainable',\n",
              " 'parameters. The best performing \"closed-book\" (parametric only) open-domain QA model is T5-11B with 11 Billion trainable parameters. The T5 model with the closest number of parameters to our models is T5-large (770M parameters), which achieves a score of 28.9 EM on Natural Questions [52], substantially below the 44.5 that RAG-Sequence achieves, indicating that hybrid parametric/non- parametric models require far fewer trainable parameters for strong open-domain QA performance. The non-parametric memory index does not consist of trainable parameters, but does consists of 21M 728 dimensional vectors, consisting of 15.3B values. These can be easily be stored at 8-bit ﬂoating point precision to manage memory and disk footprints.',\n",
              " 'In preliminary experiments, we observed that for some tasks such as story generation [11], the retrieval component would “collapse” and learn to retrieve the same documents regardless of the input. In these cases, once retrieval had collapsed, the generator would learn to ignore the documents, and the RAG model would perform equivalently to BART. The collapse could be due to a less-explicit requirement for factual knowledge in some tasks, or the longer target sequences, which could result in less informative gradients for the retriever. Perez et al. [46] also found spurious retrieval results when optimizing a retrieval component in order to improve performance on downstream tasks.',\n",
              " 'The number of training, development and test datapoints in each of our datasets is shown in Table 7.']"
            ]
          },
          "metadata": {},
          "execution_count": 33
        }
      ]
    },
    {
      "cell_type": "code",
      "source": [
        "ListItem"
      ],
      "metadata": {
        "colab": {
          "base_uri": "https://localhost:8080/"
        },
        "id": "AiKLLrmfv_D_",
        "outputId": "58f21896-94e7-41bf-a22c-8df4afca9a91"
      },
      "execution_count": 34,
      "outputs": [
        {
          "output_type": "execute_result",
          "data": {
            "text/plain": [
              "['[1] Payal Bajaj, Daniel Campos, Nick Craswell, Li Deng, Jianfeng Gao, Xiaodong Liu, Rangan Majumder, Andrew McNamara, Bhaskar Mitra, Tri Nguyen, Mir Rosenberg, Xia Song, Alina Stoica, Saurabh Tiwary, and Tong Wang. MS MARCO: A Human Generated MAchine Reading COmprehension Dataset. arXiv:1611.09268 [cs], November 2016. URL http: //arxiv.org/abs/1611.09268. arXiv: 1611.09268.',\n",
              " '[2] Petr Baudiš and Jan Šediv`y. Modeling of the question answering task in the yodaqa system. In International Conference of the Cross-Language Evaluation Forum for European Languages, pages 222–228. Springer, 2015. URL https://link.springer.com/chapter/10.1007% 2F978-3-319-24027-5_20.',\n",
              " '[3] Jonathan Berant, Andrew Chou, Roy Frostig, and Percy Liang. Semantic Parsing on Freebase from Question-Answer Pairs. In Proceedings of the 2013 Conference on Empirical Methods in Natural Language Processing, pages 1533–1544, Seattle, Washington, USA, October 2013. Association for Computational Linguistics. URL http://www.aclweb.org/anthology/ D13-1160.',\n",
              " '[4] Bin Bi, Chenliang Li, Chen Wu, Ming Yan, and Wei Wang. Palm: Pre-training an autoencod- ing&autoregressive language model for context-conditioned generation. ArXiv, abs/2004.07159, 2020. URL https://arxiv.org/abs/2004.07159.',\n",
              " '[5] Danqi Chen, Adam Fisch, Jason Weston, and Antoine Bordes. Reading Wikipedia to Answer Open-Domain Questions. In Proceedings of the 55th Annual Meeting of the Association for Computational Linguistics (Volume 1: Long Papers), pages 1870–1879, Vancouver, Canada, July 2017. Association for Computational Linguistics. doi: 10.18653/v1/P17-1171. URL https://www.aclweb.org/anthology/P17-1171.',\n",
              " '[6] Eunsol Choi, Daniel Hewlett, Jakob Uszkoreit, Illia Polosukhin, Alexandre Lacoste, and Jonathan Berant. Coarse-to-ﬁne question answering for long documents. In Proceedings of the 55th Annual Meeting of the Association for Computational Linguistics (Volume 1: Long Papers), pages 209–220, Vancouver, Canada, July 2017. Association for Computational Linguistics. doi: 10.18653/v1/P17-1020. URL https://www.aclweb.org/anthology/P17-1020.',\n",
              " '[7] Christopher Clark and Matt Gardner. Simple and Effective Multi-Paragraph Reading Compre- hension. arXiv:1710.10723 [cs], October 2017. URL http://arxiv.org/abs/1710.10723. arXiv: 1710.10723.',\n",
              " '[8] Jacob Devlin, Ming-Wei Chang, Kenton Lee, and Kristina Toutanova. BERT: Pre-training of Deep Bidirectional Transformers for Language Understanding. In Proceedings of the 2019 Con- ference of the North American Chapter of the Association for Computational Linguistics: Human Language Technologies, Volume 1 (Long and Short Papers), pages 4171–4186, Minneapolis, Minnesota, June 2019. Association for Computational Linguistics. doi: 10.18653/v1/N19-1423. URL https://www.aclweb.org/anthology/N19-1423.',\n",
              " '[9] Emily Dinan, Stephen Roller, Kurt Shuster, Angela Fan, Michael Auli, and Jason Weston. Wiz- ard of wikipedia: Knowledge-powered conversational agents. In International Conference on Learning Representations, 2019. URL https://openreview.net/forum?id=r1l73iRqKm.',\n",
              " '[10] Matthew Dunn, Levent Sagun, Mike Higgins, V. Ugur Guney, Volkan Cirik, and Kyunghyun Cho. SearchQA: A New Q&A Dataset Augmented with Context from a Search Engine. arXiv:1704.05179 [cs], April 2017. URL http://arxiv.org/abs/1704.05179. arXiv: 1704.05179.',\n",
              " '[11] Angela Fan, Mike Lewis, and Yann Dauphin. Hierarchical neural story generation. In Proceed- ings of the 56th Annual Meeting of the Association for Computational Linguistics (Volume 1: Long Papers), pages 889–898, Melbourne, Australia, July 2018. Association for Computational Linguistics. doi: 10.18653/v1/P18-1082. URL https://www.aclweb.org/anthology/ P18-1082.',\n",
              " '[12] Angela Fan, Yacine Jernite, Ethan Perez, David Grangier, Jason Weston, and Michael Auli. ELI5: Long form question answering. In Proceedings of the 57th Annual Meeting of the Association for Computational Linguistics, pages 3558–3567, Florence, Italy, July 2019. Association for Computational Linguistics. doi: 10.18653/v1/P19-1346. URL https://www.aclweb.org/ anthology/P19-1346.',\n",
              " '[13] Angela Fan, Claire Gardent, Chloe Braud, and Antoine Bordes. Augmenting transformers with KNN-based composite memory, 2020. URL https://openreview.net/forum?id= H1gx1CNKPH.',\n",
              " '[14] Thibault Févry, Livio Baldini Soares, Nicholas FitzGerald, Eunsol Choi, and Tom Kwiatkowski. Entities as experts: Sparse memory access with entity supervision. ArXiv, abs/2004.07202, 2020. URL https://arxiv.org/abs/2004.07202.',\n",
              " '[15] Marjan Ghazvininejad, Chris Brockett, Ming-Wei Chang, Bill Dolan, Jianfeng Gao, Wen tau Yih, and Michel Galley. A knowledge-grounded neural conversation model. In AAAI Conference on Artiﬁcial Intelligence, 2018. URL https://www.aaai.org/ocs/index.php/ AAAI/AAAI18/paper/view/16710.',\n",
              " '[16] Katja Grace, John Salvatier, Allan Dafoe, Baobao Zhang, and Owain Evans. When will AI exceed human performance? evidence from AI experts. CoRR, abs/1705.08807, 2017. URL http://arxiv.org/abs/1705.08807.',\n",
              " '[17] Jiatao Gu, Yong Wang, Kyunghyun Cho, and Victor O.K. Li. Search engine guided neural machine translation. In AAAI Conference on Artiﬁcial Intelligence, 2018. URL https: //www.aaai.org/ocs/index.php/AAAI/AAAI18/paper/view/17282.',\n",
              " '[18] Jiatao Gu, Yong Wang, Kyunghyun Cho, and Victor O.K. Li. Search engine guided neural machine translation. In 32nd AAAI Conference on Artiﬁcial Intelligence, AAAI 2018, 32nd AAAI Conference on Artiﬁcial Intelligence, AAAI 2018, pages 5133–5140. AAAI press, 2018. 32nd AAAI Conference on Artiﬁcial Intelligence, AAAI 2018 ; Conference date: 02-02-2018 Through 07-02-2018.',\n",
              " '[19] Kelvin Guu, Tatsunori B. Hashimoto, Yonatan Oren, and Percy Liang. Generating sentences by editing prototypes. Transactions of the Association for Computational Linguistics, 6:437–450, 2018. doi: 10.1162/tacl_a_00030. URL https://www.aclweb.org/anthology/Q18-1031.',\n",
              " '[20] Kelvin Guu, Kenton Lee, Zora Tung, Panupong Pasupat, and Ming-Wei Chang. REALM: Retrieval-augmented language model pre-training. ArXiv, abs/2002.08909, 2020. URL https: //arxiv.org/abs/2002.08909.',\n",
              " '[21] Tatsunori B Hashimoto, Kelvin Guu, Yonatan Oren, and Percy S Liang. A retrieve-and-edit framework for predicting structured outputs. In S. Bengio, H. Wallach, H. Larochelle, K. Grauman, N. Cesa-Bianchi, and R. Garnett, ed- itors, Advances in Neural Information Processing Systems 31, pages 10052– 10062. Curran Associates, Inc., 2018. URL http://papers.nips.cc/paper/ 8209-a-retrieve-and-edit-framework-for-predicting-structured-outputs. pdf.',\n",
              " '[22] Nabil Hossain, Marjan Ghazvininejad, and Luke Zettlemoyer. Simple and effective retrieve- edit-rerank text generation. In Proceedings of the 58th Annual Meeting of the Association for Computational Linguistics, pages 2532–2538, Online, July 2020. Association for Computa- tional Linguistics. doi: 10.18653/v1/2020.acl-main.228. URL https://www.aclweb.org/ anthology/2020.acl-main.228.',\n",
              " '[23] Jeff Johnson, Matthijs Douze, and Hervé Jégou. Billion-scale similarity search with gpus. arXiv preprint arXiv:1702.08734, 2017. URL https://arxiv.org/abs/1702.08734.',\n",
              " '[24] Mandar Joshi, Eunsol Choi, Daniel Weld, and Luke Zettlemoyer. TriviaQA: A Large Scale Distantly Supervised Challenge Dataset for Reading Comprehension. In Proceedings of the 55th Annual Meeting of the Association for Computational Linguistics (Volume 1: Long Papers), pages 1601–1611, Vancouver, Canada, July 2017. Association for Computational Linguistics. doi: 10.18653/v1/P17-1147. URL https://www.aclweb.org/anthology/P17-1147.',\n",
              " '[25] Armand Joulin and Tomas Mikolov. Inferring algorithmic patterns with stack- augmented recurrent nets. In Proceedings of the 28th International Conference on Neural Information Processing Systems - Volume 1, NIPS’15, page 190–198, Cam- bridge, MA, USA, 2015. MIT Press. URL https://papers.nips.cc/paper/ 5857-inferring-algorithmic-patterns-with-stack-augmented-recurrent-nets.',\n",
              " '[26] Vladimir Karpukhin, Barlas Oguz, Sewon Min, Ledell Wu, Sergey Edunov, Danqi Chen, and Wen-tau Yih. Dense passage retrieval for open-domain question answering. arXiv preprint arXiv:2004.04906, 2020. URL https://arxiv.org/abs/2004.04906.',\n",
              " '[27] Urvashi Khandelwal, Omer Levy, Dan Jurafsky, Luke Zettlemoyer, and Mike Lewis. Generaliza- tion through memorization: Nearest neighbor language models. In International Conference on Learning Representations, 2020. URL https://openreview.net/forum?id=HklBjCEKvH.',\n",
              " '[28] Diederik P. Kingma and Jimmy Ba. Adam: A method for stochastic optimization. In Yoshua Bengio and Yann LeCun, editors, 3rd International Conference on Learning Representations, ICLR 2015, San Diego, CA, USA, May 7-9, 2015, Conference Track Proceedings, 2015. URL http://arxiv.org/abs/1412.6980.',\n",
              " '[29] Tom Kwiatkowski, Jennimaria Palomaki, Olivia Redﬁeld, Michael Collins, Ankur Parikh, Chris Alberti, Danielle Epstein, Illia Polosukhin, Matthew Kelcey, Jacob Devlin, Ken- ton Lee, Kristina N. Toutanova, Llion Jones, Ming-Wei Chang, Andrew Dai, Jakob Uszkoreit, Quoc Le, and Slav Petrov. Natural Questions: a Benchmark for Ques- tion Answering Research. Transactions of the Association of Computational Lin- guistics, 2019. URL https://tomkwiat.users.x20web.corp.google.com/papers/ natural-questions/main-1455-kwiatkowski.pdf.',\n",
              " '[30] Guillaume Lample, Alexandre Sablayrolles, Marc’ Aurelio Ranzato, Ludovic Denoyer, and Herve Jegou. Large memory layers with product keys. In H. Wallach, H. Larochelle, A. Beygelzimer, F. d’ Alché-Buc, E. Fox, and R. Garnett, editors, Advances in Neural In- formation Processing Systems 32, pages 8548–8559. Curran Associates, Inc., 2019. URL http: //papers.nips.cc/paper/9061-large-memory-layers-with-product-keys.pdf.',\n",
              " '[31] Kenton Lee, Ming-Wei Chang, and Kristina Toutanova. Latent retrieval for weakly supervised open domain question answering. In Proceedings of the 57th Annual Meeting of the Association',\n",
              " '[32] Mike Lewis, Yinhan Liu, Naman Goyal, Marjan Ghazvininejad, Abdelrahman Mohamed, Omer Levy, Veselin Stoyanov, and Luke Zettlemoyer. BART: Denoising sequence-to-sequence pre-training for natural language generation, translation, and comprehension. arXiv preprint arXiv:1910.13461, 2019. URL https://arxiv.org/abs/1910.13461.',\n",
              " '[33] Jiwei Li, Michel Galley, Chris Brockett, Jianfeng Gao, and Bill Dolan. A diversity-promoting objective function for neural conversation models. In Proceedings of the 2016 Conference of the North American Chapter of the Association for Computational Linguistics: Human Language Technologies, pages 110–119, San Diego, California, June 2016. Association for Computational Linguistics. doi: 10.18653/v1/N16-1014. URL https://www.aclweb.org/anthology/ N16-1014.',\n",
              " '[34] Margaret Li, Jason Weston, and Stephen Roller. Acute-eval: Improved dialogue evaluation with optimized questions and multi-turn comparisons. ArXiv, abs/1909.03087, 2019. URL https://arxiv.org/abs/1909.03087.',\n",
              " '[35] Hairong Liu, Mingbo Ma, Liang Huang, Hao Xiong, and Zhongjun He. Robust neural machine translation with joint textual and phonetic embedding. In Proceedings of the 57th Annual Meeting of the Association for Computational Linguistics, pages 3044–3049, Florence, Italy, July 2019. Association for Computational Linguistics. doi: 10.18653/v1/P19-1291. URL https://www.aclweb.org/anthology/P19-1291.',\n",
              " '[36] Peter J. Liu*, Mohammad Saleh*, Etienne Pot, Ben Goodrich, Ryan Sepassi, Lukasz Kaiser, and Noam Shazeer. Generating wikipedia by summarizing long sequences. In International Conference on Learning Representations, 2018. URL https://openreview.net/forum? id=Hyg0vbWC-.',\n",
              " '[37] Yury A. Malkov and D. A. Yashunin. Efﬁcient and robust approximate nearest neighbor search using hierarchical navigable small world graphs. IEEE Transactions on Pattern Analysis and Machine Intelligence, 42:824–836, 2016. URL https://arxiv.org/abs/1603.09320.',\n",
              " '[38] Gary Marcus. The next decade in ai: four steps towards robust artiﬁcial intelligence. arXiv preprint arXiv:2002.06177, 2020. URL https://arxiv.org/abs/2002.06177.',\n",
              " '[39] Luca Massarelli, Fabio Petroni, Aleksandra Piktus, Myle Ott, Tim Rocktäschel, Vassilis Plachouras, Fabrizio Silvestri, and Sebastian Riedel. How decoding strategies affect the veriﬁability of generated text. arXiv preprint arXiv:1911.03587, 2019. URL https: //arxiv.org/abs/1911.03587.',\n",
              " '[40] Paulius Micikevicius, Sharan Narang, Jonah Alben, Gregory Diamos, Erich Elsen, David Garcia, Boris Ginsburg, Michael Houston, Oleksii Kuchaiev, Ganesh Venkatesh, and Hao Wu. Mixed precision training. In ICLR, 2018. URL https://openreview.net/forum?id=r1gs9JgRZ.',\n",
              " '[41] Nikita Moghe, Siddhartha Arora, Suman Banerjee, and Mitesh M. Khapra. Towards exploit- ing background knowledge for building conversation systems. In Proceedings of the 2018 Conference on Empirical Methods in Natural Language Processing, pages 2322–2332, Brus- sels, Belgium, October-November 2018. Association for Computational Linguistics. doi: 10.18653/v1/D18-1255. URL https://www.aclweb.org/anthology/D18-1255.',\n",
              " '[42] Preksha Nema and Mitesh M. Khapra. Towards a better metric for evaluating question generation systems. In Proceedings of the 2018 Conference on Empirical Methods in Natural Language Processing, pages 3950–3959, Brussels, Belgium, October-November 2018. Association for Computational Linguistics. doi: 10.18653/v1/D18-1429. URL https://www.aclweb.org/ anthology/D18-1429.',\n",
              " '[43] Tri Nguyen, Mir Rosenberg, Xia Song, Jianfeng Gao, Saurabh Tiwary, Rangan Majumder, and Li Deng. MS MARCO: A human generated machine reading comprehension dataset. In Tarek Richard Besold, Antoine Bordes, Artur S. d’Avila Garcez, and Greg Wayne, editors, Proceedings of the Workshop on Cognitive Computation: Integrating neural and symbolic',\n",
              " '[44] Rodrigo Nogueira and Kyunghyun Cho. Passage re-ranking with BERT. arXiv preprint arXiv:1901.04085, 2019. URL https://arxiv.org/abs/1901.04085.',\n",
              " '[45] Myle Ott, Sergey Edunov, Alexei Baevski, Angela Fan, Sam Gross, Nathan Ng, David Grangier, and Michael Auli. fairseq: A fast, extensible toolkit for sequence modeling. In Proceedings of the 2019 Conference of the North American Chapter of the Association for Computational Linguistics (Demonstrations), pages 48–53, Minneapolis, Minnesota, June 2019. Association for Computational Linguistics. doi: 10.18653/v1/N19-4009. URL https://www.aclweb. org/anthology/N19-4009.',\n",
              " '[46] Ethan Perez, Siddharth Karamcheti, Rob Fergus, Jason Weston, Douwe Kiela, and Kyunghyun Cho. Finding generalizable evidence by learning to convince q&a models. In Proceedings of the 2019 Conference on Empirical Methods in Natural Language Processing and the 9th International Joint Conference on Natural Language Processing (EMNLP-IJCNLP), pages 2402–2411, Hong Kong, China, November 2019. Association for Computational Linguistics. doi: 10.18653/v1/D19-1244. URL https://www.aclweb.org/anthology/D19-1244.',\n",
              " '[47] Fabio Petroni, Tim Rocktäschel, Sebastian Riedel, Patrick Lewis, Anton Bakhtin, Yuxiang Wu, and Alexander Miller. Language models as knowledge bases? In Proceedings of the 2019 Conference on Empirical Methods in Natural Language Processing and the 9th International Joint Conference on Natural Language Processing (EMNLP-IJCNLP), pages 2463–2473, Hong Kong, China, November 2019. Association for Computational Linguistics. doi: 10.18653/v1/ D19-1250. URL https://www.aclweb.org/anthology/D19-1250.',\n",
              " '[48] Fabio Petroni, Patrick Lewis, Aleksandra Piktus, Tim Rocktäschel, Yuxiang Wu, Alexander H. Miller, and Sebastian Riedel. How context affects language models’ factual predictions. In Automated Knowledge Base Construction, 2020. URL https://openreview.net/forum? id=025X0zPfn.',\n",
              " '[49] Alec Radford, Karthik Narasimhan, Tim Salimans, and Ilya Sutskever. Im- proving Language Understanding by Generative Pre-Training, 2018. URL https://s3-us-west-2.amazonaws.com/openai-assets/research-covers/ language-unsupervised/language_understanding_paper.pdf.',\n",
              " '[50] Alec Radford, Jeff Wu, Rewon Child, David Luan, Dario Amodei, and Ilya Sutskever. Language models are unsupervised multitask learners, 2019. URL https://d4mucfpksywv.cloudfront.net/better-language-models/language_ models_are_unsupervised_multitask_learners.pdf.',\n",
              " '[51] Colin Raffel, Noam Shazeer, Adam Roberts, Katherine Lee, Sharan Narang, Michael Matena, Yanqi Zhou, Wei Li, and Peter J. Liu. Exploring the limits of transfer learning with a uniﬁed text-to-text transformer. arXiv e-prints, 2019. URL https://arxiv.org/abs/1910.10683.',\n",
              " '[52] Adam Roberts, Colin Raffel, and Noam Shazeer. How much knowledge can you pack into the parameters of a language model? arXiv e-prints, 2020. URL https://arxiv.org/abs/ 2002.08910.',\n",
              " '[53] Stephen Robertson and Hugo Zaragoza. The probabilistic relevance framework: Bm25 and beyond. Found. Trends Inf. Retr., 3(4):333–389, April 2009. ISSN 1554-0669. doi: 10.1561/ 1500000019. URL https://doi.org/10.1561/1500000019.',\n",
              " '[54] Irene Solaiman, Miles Brundage, Jack Clark, Amanda Askell, Ariel Herbert-Voss, Jeff Wu, Alec Radford, and Jian-Bing Wang. Release strategies and the social impacts of language models. ArXiv, abs/1908.09203, 2019.',\n",
              " '[55] Sainbayar Sukhbaatar, Arthur Szlam, Jason Weston, and Rob Fergus. End-to-end memory net- works. In C. Cortes, N. D. Lawrence, D. D. Lee, M. Sugiyama, and R. Garnett, editors, Advances in Neural Information Processing Systems 28, pages 2440–2448. Curran Associates, Inc., 2015. URL http://papers.nips.cc/paper/5846-end-to-end-memory-networks.pdf.',\n",
              " '[56] James Thorne, Andreas Vlachos, Christos Christodoulopoulos, and Arpit Mittal. FEVER: a large-scale dataset for fact extraction and VERiﬁcation. In Proceedings of the 2018 Conference of the North American Chapter of the Association for Computational Linguistics: Human Language Technologies, Volume 1 (Long Papers), pages 809–819, New Orleans, Louisiana, June 2018. Association for Computational Linguistics. doi: 10.18653/v1/N18-1074. URL https://www.aclweb.org/anthology/N18-1074.',\n",
              " '[57] James H. Thorne and Andreas Vlachos. Avoiding catastrophic forgetting in mitigating model biases in sentence-pair classiﬁcation with elastic weight consolidation. ArXiv, abs/2004.14366, 2020. URL https://arxiv.org/abs/2004.14366.',\n",
              " '[58] Ashish Vaswani, Noam Shazeer, Niki Parmar, Jakob Uszkoreit, Llion Jones, Aidan N Gomez, Ł ukasz Kaiser, and Illia Polosukhin. Attention is all you need. In I. Guyon, U. V. Luxburg, S. Bengio, H. Wallach, R. Fergus, S. Vishwanathan, and R. Garnett, editors, Advances in Neural Information Processing Systems 30, pages 5998–6008. Curran Associates, Inc., 2017. URL http://papers.nips.cc/paper/7181-attention-is-all-you-need.pdf.',\n",
              " '[59] Ashwin Vijayakumar, Michael Cogswell, Ramprasaath Selvaraju, Qing Sun, Stefan Lee, David Crandall, and Dhruv Batra. Diverse beam search for improved description of complex scenes. AAAI Conference on Artiﬁcial Intelligence, 2018. URL https://www.aaai.org/ocs/index. php/AAAI/AAAI18/paper/view/17329.',\n",
              " '[60] Alex Wang, Amanpreet Singh, Julian Michael, Felix Hill, Omer Levy, and Samuel Bowman. GLUE: A multi-task benchmark and analysis platform for natural language understanding. In Proceedings of the 2018 EMNLP Workshop BlackboxNLP: Analyzing and Interpreting Neural Networks for NLP, pages 353–355, Brussels, Belgium, November 2018. Association for Computational Linguistics. doi: 10.18653/v1/W18-5446. URL https://www.aclweb.org/ anthology/W18-5446.',\n",
              " '[61] Alex Wang, Yada Pruksachatkun, Nikita Nangia, Amanpreet Singh, Julian Michael, Felix Hill, Omer Levy, and Samuel Bowman. SuperGLUE: A Stickier Benchmark for General- Purpose Language Understanding Systems. In H. Wallach, H. Larochelle, A. Beygelzimer, F. d\\\\textquotesingle Alché-Buc, E. Fox, and R. Garnett, editors, Advances in Neural Information Processing Systems 32, pages 3261–3275. Curran Associates, Inc., 2019. URL https:// arxiv.org/abs/1905.00537.',\n",
              " '[62] Shuohang Wang, Mo Yu, Xiaoxiao Guo, Zhiguo Wang, Tim Klinger, Wei Zhang, Shiyu Chang, Gerry Tesauro, Bowen Zhou, and Jing Jiang. R3: Reinforced ranker-reader for open-domain question answering. In Sheila A. McIlraith and Kilian Q. Weinberger, editors, Proceedings of the Thirty-Second AAAI Conference on Artiﬁcial Intelligence, (AAAI-18), the 30th innovative Applications of Artiﬁcial Intelligence (IAAI-18), and the 8th AAAI Symposium on Educational Advances in Artiﬁcial Intelligence (EAAI-18), New Orleans, Louisiana, USA, February 2-7, 2018, pages 5981–5988. AAAI Press, 2018. URL https://www.aaai.org/ocs/index. php/AAAI/AAAI18/paper/view/16712.',\n",
              " '[63] Shuohang Wang, Mo Yu, Jing Jiang, Wei Zhang, Xiaoxiao Guo, Shiyu Chang, Zhiguo Wang, Tim Klinger, Gerald Tesauro, and Murray Campbell. Evidence aggregation for answer re- ranking in open-domain question answering. In ICLR, 2018. URL https://openreview. net/forum?id=rJl3yM-Ab.',\n",
              " '[64] Jason Weston, Sumit Chopra, and Antoine Bordes. Memory networks. In Yoshua Bengio and Yann LeCun, editors, 3rd International Conference on Learning Representations, ICLR 2015, San Diego, CA, USA, May 7-9, 2015, Conference Track Proceedings, 2015. URL http://arxiv.org/abs/1410.3916.',\n",
              " '[65] Jason Weston, Emily Dinan, and Alexander Miller. Retrieve and reﬁne: Improved sequence generation models for dialogue. In Proceedings of the 2018 EMNLP Workshop SCAI: The 2nd International Workshop on Search-Oriented Conversational AI, pages 87–92, Brussels, Belgium, October 2018. Association for Computational Linguistics. doi: 10.18653/v1/W18-5713. URL https://www.aclweb.org/anthology/W18-5713.',\n",
              " '[66] Thomas Wolf, Lysandre Debut, Victor Sanh, Julien Chaumond, Clement Delangue, Anthony Moi, Pierric Cistac, Tim Rault, Rémi Louf, Morgan Funtowicz, Joe Davison, Sam Shleifer, Patrick von Platen, Clara Ma, Yacine Jernite, Julien Plu, Canwen Xu, Teven Le Scao, Sylvain Gugger, Mariama Drame, Quentin Lhoest, and Alexander M. Rush. Huggingface’s transformers: State-of-the-art natural language processing. ArXiv, abs/1910.03771, 2019.',\n",
              " '[67] Shiyue Zhang and Mohit Bansal. Addressing semantic drift in question generation for semi- supervised question answering. In Proceedings of the 2019 Conference on Empirical Meth- ods in Natural Language Processing and the 9th International Joint Conference on Natural Language Processing (EMNLP-IJCNLP), pages 2495–2509, Hong Kong, China, Novem- ber 2019. Association for Computational Linguistics. doi: 10.18653/v1/D19-1253. URL https://www.aclweb.org/anthology/D19-1253.',\n",
              " '[68] Wanjun Zhong, Jingjing Xu, Duyu Tang, Zenan Xu, Nan Duan, Ming Zhou, Jiahai Wang, and Jian Yin. Reasoning over semantic-level graph for fact checking. ArXiv, abs/1909.03745, 2019. URL https://arxiv.org/abs/1909.03745.']"
            ]
          },
          "metadata": {},
          "execution_count": 34
        }
      ]
    },
    {
      "cell_type": "code",
      "source": [
        "!pip install langchain_core"
      ],
      "metadata": {
        "id": "-_OkfkQH3Y2s",
        "colab": {
          "base_uri": "https://localhost:8080/"
        },
        "outputId": "f7d2f541-844e-46d2-e90c-6724edb26371"
      },
      "execution_count": 35,
      "outputs": [
        {
          "output_type": "stream",
          "name": "stdout",
          "text": [
            "Requirement already satisfied: langchain_core in /usr/local/lib/python3.12/dist-packages (0.3.77)\n",
            "Requirement already satisfied: langsmith<1.0.0,>=0.3.45 in /usr/local/lib/python3.12/dist-packages (from langchain_core) (0.4.31)\n",
            "Requirement already satisfied: tenacity!=8.4.0,<10.0.0,>=8.1.0 in /usr/local/lib/python3.12/dist-packages (from langchain_core) (8.5.0)\n",
            "Requirement already satisfied: jsonpatch<2.0.0,>=1.33.0 in /usr/local/lib/python3.12/dist-packages (from langchain_core) (1.33)\n",
            "Requirement already satisfied: PyYAML<7.0.0,>=5.3.0 in /usr/local/lib/python3.12/dist-packages (from langchain_core) (6.0.3)\n",
            "Requirement already satisfied: typing-extensions<5.0.0,>=4.7.0 in /usr/local/lib/python3.12/dist-packages (from langchain_core) (4.15.0)\n",
            "Requirement already satisfied: packaging<26.0.0,>=23.2.0 in /usr/local/lib/python3.12/dist-packages (from langchain_core) (25.0)\n",
            "Requirement already satisfied: pydantic<3.0.0,>=2.7.4 in /usr/local/lib/python3.12/dist-packages (from langchain_core) (2.11.9)\n",
            "Requirement already satisfied: jsonpointer>=1.9 in /usr/local/lib/python3.12/dist-packages (from jsonpatch<2.0.0,>=1.33.0->langchain_core) (3.0.0)\n",
            "Requirement already satisfied: httpx<1,>=0.23.0 in /usr/local/lib/python3.12/dist-packages (from langsmith<1.0.0,>=0.3.45->langchain_core) (0.28.1)\n",
            "Requirement already satisfied: orjson>=3.9.14 in /usr/local/lib/python3.12/dist-packages (from langsmith<1.0.0,>=0.3.45->langchain_core) (3.11.3)\n",
            "Requirement already satisfied: requests-toolbelt>=1.0.0 in /usr/local/lib/python3.12/dist-packages (from langsmith<1.0.0,>=0.3.45->langchain_core) (1.0.0)\n",
            "Requirement already satisfied: requests>=2.0.0 in /usr/local/lib/python3.12/dist-packages (from langsmith<1.0.0,>=0.3.45->langchain_core) (2.32.4)\n",
            "Requirement already satisfied: zstandard>=0.23.0 in /usr/local/lib/python3.12/dist-packages (from langsmith<1.0.0,>=0.3.45->langchain_core) (0.25.0)\n",
            "Requirement already satisfied: annotated-types>=0.6.0 in /usr/local/lib/python3.12/dist-packages (from pydantic<3.0.0,>=2.7.4->langchain_core) (0.7.0)\n",
            "Requirement already satisfied: pydantic-core==2.33.2 in /usr/local/lib/python3.12/dist-packages (from pydantic<3.0.0,>=2.7.4->langchain_core) (2.33.2)\n",
            "Requirement already satisfied: typing-inspection>=0.4.0 in /usr/local/lib/python3.12/dist-packages (from pydantic<3.0.0,>=2.7.4->langchain_core) (0.4.2)\n",
            "Requirement already satisfied: anyio in /usr/local/lib/python3.12/dist-packages (from httpx<1,>=0.23.0->langsmith<1.0.0,>=0.3.45->langchain_core) (4.11.0)\n",
            "Requirement already satisfied: certifi in /usr/local/lib/python3.12/dist-packages (from httpx<1,>=0.23.0->langsmith<1.0.0,>=0.3.45->langchain_core) (2025.8.3)\n",
            "Requirement already satisfied: httpcore==1.* in /usr/local/lib/python3.12/dist-packages (from httpx<1,>=0.23.0->langsmith<1.0.0,>=0.3.45->langchain_core) (1.0.9)\n",
            "Requirement already satisfied: idna in /usr/local/lib/python3.12/dist-packages (from httpx<1,>=0.23.0->langsmith<1.0.0,>=0.3.45->langchain_core) (3.10)\n",
            "Requirement already satisfied: h11>=0.16 in /usr/local/lib/python3.12/dist-packages (from httpcore==1.*->httpx<1,>=0.23.0->langsmith<1.0.0,>=0.3.45->langchain_core) (0.16.0)\n",
            "Requirement already satisfied: charset_normalizer<4,>=2 in /usr/local/lib/python3.12/dist-packages (from requests>=2.0.0->langsmith<1.0.0,>=0.3.45->langchain_core) (3.4.3)\n",
            "Requirement already satisfied: urllib3<3,>=1.21.1 in /usr/local/lib/python3.12/dist-packages (from requests>=2.0.0->langsmith<1.0.0,>=0.3.45->langchain_core) (2.5.0)\n",
            "Requirement already satisfied: sniffio>=1.1 in /usr/local/lib/python3.12/dist-packages (from anyio->httpx<1,>=0.23.0->langsmith<1.0.0,>=0.3.45->langchain_core) (1.3.1)\n"
          ]
        }
      ]
    },
    {
      "cell_type": "code",
      "source": [
        "!pip install langchain_openai"
      ],
      "metadata": {
        "colab": {
          "base_uri": "https://localhost:8080/"
        },
        "id": "rbRMkWGOefZm",
        "outputId": "b18dff73-1299-4161-8f9d-50df1de696cc"
      },
      "execution_count": 36,
      "outputs": [
        {
          "output_type": "stream",
          "name": "stdout",
          "text": [
            "Collecting langchain_openai\n",
            "  Downloading langchain_openai-0.3.34-py3-none-any.whl.metadata (2.4 kB)\n",
            "Requirement already satisfied: langchain-core<2.0.0,>=0.3.77 in /usr/local/lib/python3.12/dist-packages (from langchain_openai) (0.3.77)\n",
            "Requirement already satisfied: openai<3.0.0,>=1.104.2 in /usr/local/lib/python3.12/dist-packages (from langchain_openai) (1.109.1)\n",
            "Requirement already satisfied: tiktoken<1.0.0,>=0.7.0 in /usr/local/lib/python3.12/dist-packages (from langchain_openai) (0.11.0)\n",
            "Requirement already satisfied: langsmith<1.0.0,>=0.3.45 in /usr/local/lib/python3.12/dist-packages (from langchain-core<2.0.0,>=0.3.77->langchain_openai) (0.4.31)\n",
            "Requirement already satisfied: tenacity!=8.4.0,<10.0.0,>=8.1.0 in /usr/local/lib/python3.12/dist-packages (from langchain-core<2.0.0,>=0.3.77->langchain_openai) (8.5.0)\n",
            "Requirement already satisfied: jsonpatch<2.0.0,>=1.33.0 in /usr/local/lib/python3.12/dist-packages (from langchain-core<2.0.0,>=0.3.77->langchain_openai) (1.33)\n",
            "Requirement already satisfied: PyYAML<7.0.0,>=5.3.0 in /usr/local/lib/python3.12/dist-packages (from langchain-core<2.0.0,>=0.3.77->langchain_openai) (6.0.3)\n",
            "Requirement already satisfied: typing-extensions<5.0.0,>=4.7.0 in /usr/local/lib/python3.12/dist-packages (from langchain-core<2.0.0,>=0.3.77->langchain_openai) (4.15.0)\n",
            "Requirement already satisfied: packaging<26.0.0,>=23.2.0 in /usr/local/lib/python3.12/dist-packages (from langchain-core<2.0.0,>=0.3.77->langchain_openai) (25.0)\n",
            "Requirement already satisfied: pydantic<3.0.0,>=2.7.4 in /usr/local/lib/python3.12/dist-packages (from langchain-core<2.0.0,>=0.3.77->langchain_openai) (2.11.9)\n",
            "Requirement already satisfied: anyio<5,>=3.5.0 in /usr/local/lib/python3.12/dist-packages (from openai<3.0.0,>=1.104.2->langchain_openai) (4.11.0)\n",
            "Requirement already satisfied: distro<2,>=1.7.0 in /usr/local/lib/python3.12/dist-packages (from openai<3.0.0,>=1.104.2->langchain_openai) (1.9.0)\n",
            "Requirement already satisfied: httpx<1,>=0.23.0 in /usr/local/lib/python3.12/dist-packages (from openai<3.0.0,>=1.104.2->langchain_openai) (0.28.1)\n",
            "Requirement already satisfied: jiter<1,>=0.4.0 in /usr/local/lib/python3.12/dist-packages (from openai<3.0.0,>=1.104.2->langchain_openai) (0.11.0)\n",
            "Requirement already satisfied: sniffio in /usr/local/lib/python3.12/dist-packages (from openai<3.0.0,>=1.104.2->langchain_openai) (1.3.1)\n",
            "Requirement already satisfied: tqdm>4 in /usr/local/lib/python3.12/dist-packages (from openai<3.0.0,>=1.104.2->langchain_openai) (4.67.1)\n",
            "Requirement already satisfied: regex>=2022.1.18 in /usr/local/lib/python3.12/dist-packages (from tiktoken<1.0.0,>=0.7.0->langchain_openai) (2024.11.6)\n",
            "Requirement already satisfied: requests>=2.26.0 in /usr/local/lib/python3.12/dist-packages (from tiktoken<1.0.0,>=0.7.0->langchain_openai) (2.32.4)\n",
            "Requirement already satisfied: idna>=2.8 in /usr/local/lib/python3.12/dist-packages (from anyio<5,>=3.5.0->openai<3.0.0,>=1.104.2->langchain_openai) (3.10)\n",
            "Requirement already satisfied: certifi in /usr/local/lib/python3.12/dist-packages (from httpx<1,>=0.23.0->openai<3.0.0,>=1.104.2->langchain_openai) (2025.8.3)\n",
            "Requirement already satisfied: httpcore==1.* in /usr/local/lib/python3.12/dist-packages (from httpx<1,>=0.23.0->openai<3.0.0,>=1.104.2->langchain_openai) (1.0.9)\n",
            "Requirement already satisfied: h11>=0.16 in /usr/local/lib/python3.12/dist-packages (from httpcore==1.*->httpx<1,>=0.23.0->openai<3.0.0,>=1.104.2->langchain_openai) (0.16.0)\n",
            "Requirement already satisfied: jsonpointer>=1.9 in /usr/local/lib/python3.12/dist-packages (from jsonpatch<2.0.0,>=1.33.0->langchain-core<2.0.0,>=0.3.77->langchain_openai) (3.0.0)\n",
            "Requirement already satisfied: orjson>=3.9.14 in /usr/local/lib/python3.12/dist-packages (from langsmith<1.0.0,>=0.3.45->langchain-core<2.0.0,>=0.3.77->langchain_openai) (3.11.3)\n",
            "Requirement already satisfied: requests-toolbelt>=1.0.0 in /usr/local/lib/python3.12/dist-packages (from langsmith<1.0.0,>=0.3.45->langchain-core<2.0.0,>=0.3.77->langchain_openai) (1.0.0)\n",
            "Requirement already satisfied: zstandard>=0.23.0 in /usr/local/lib/python3.12/dist-packages (from langsmith<1.0.0,>=0.3.45->langchain-core<2.0.0,>=0.3.77->langchain_openai) (0.25.0)\n",
            "Requirement already satisfied: annotated-types>=0.6.0 in /usr/local/lib/python3.12/dist-packages (from pydantic<3.0.0,>=2.7.4->langchain-core<2.0.0,>=0.3.77->langchain_openai) (0.7.0)\n",
            "Requirement already satisfied: pydantic-core==2.33.2 in /usr/local/lib/python3.12/dist-packages (from pydantic<3.0.0,>=2.7.4->langchain-core<2.0.0,>=0.3.77->langchain_openai) (2.33.2)\n",
            "Requirement already satisfied: typing-inspection>=0.4.0 in /usr/local/lib/python3.12/dist-packages (from pydantic<3.0.0,>=2.7.4->langchain-core<2.0.0,>=0.3.77->langchain_openai) (0.4.2)\n",
            "Requirement already satisfied: charset_normalizer<4,>=2 in /usr/local/lib/python3.12/dist-packages (from requests>=2.26.0->tiktoken<1.0.0,>=0.7.0->langchain_openai) (3.4.3)\n",
            "Requirement already satisfied: urllib3<3,>=1.21.1 in /usr/local/lib/python3.12/dist-packages (from requests>=2.26.0->tiktoken<1.0.0,>=0.7.0->langchain_openai) (2.5.0)\n",
            "Downloading langchain_openai-0.3.34-py3-none-any.whl (75 kB)\n",
            "\u001b[2K   \u001b[90m━━━━━━━━━━━━━━━━━━━━━━━━━━━━━━━━━━━━━━━━\u001b[0m \u001b[32m75.6/75.6 kB\u001b[0m \u001b[31m4.1 MB/s\u001b[0m eta \u001b[36m0:00:00\u001b[0m\n",
            "\u001b[?25hInstalling collected packages: langchain_openai\n",
            "Successfully installed langchain_openai-0.3.34\n"
          ]
        }
      ]
    },
    {
      "cell_type": "code",
      "source": [
        "len(tab)"
      ],
      "metadata": {
        "colab": {
          "base_uri": "https://localhost:8080/"
        },
        "id": "V5f6LEkWeh_e",
        "outputId": "e7a64fb3-6b11-43df-f3c0-62ba9d265441"
      },
      "execution_count": 37,
      "outputs": [
        {
          "output_type": "execute_result",
          "data": {
            "text/plain": [
              "5"
            ]
          },
          "metadata": {},
          "execution_count": 37
        }
      ]
    },
    {
      "cell_type": "code",
      "source": [
        "tab[0]"
      ],
      "metadata": {
        "colab": {
          "base_uri": "https://localhost:8080/",
          "height": 87
        },
        "id": "0xbJ4cytfpsN",
        "outputId": "59ce1e81-9a4b-4aa2-aab7-28aac6adc874"
      },
      "execution_count": 38,
      "outputs": [
        {
          "output_type": "execute_result",
          "data": {
            "text/plain": [
              "'Closed Book T5-11B [52] 34.5 T5-11B+SSM[52] 36.6 - - /50.1 37.4 /60.5 44.7 - - Model B-1 QB-1 R-L B-1 Label Acc. Open REALM [20] 40.4 - / - 40.7 46.8 SotA - - 49.8* 49.9* 76.8 Book DPR [26] 41.5 57.9/ - 41.1 50.6 BART 15.1 19.7 38.2 41.6 64.0 81.1 RAG-Token RAG-Seq. 44.1 55.2/66.1 45.5 50.0 44.5 56.8/68.0 45.2 52.2 RAG-Tok. 17.3 22.2 RAG-Seq. 14.7 21.4 40.1 40.8 41.5 44.2 72.5 89.5'"
            ],
            "application/vnd.google.colaboratory.intrinsic+json": {
              "type": "string"
            }
          },
          "metadata": {},
          "execution_count": 38
        }
      ]
    },
    {
      "cell_type": "code",
      "source": [
        "len(img)"
      ],
      "metadata": {
        "colab": {
          "base_uri": "https://localhost:8080/"
        },
        "id": "CXMVS1PWezj3",
        "outputId": "0f2441f5-6e36-4356-f1ae-e1bb4d2b0831"
      },
      "execution_count": 39,
      "outputs": [
        {
          "output_type": "execute_result",
          "data": {
            "text/plain": [
              "4"
            ]
          },
          "metadata": {},
          "execution_count": 39
        }
      ]
    },
    {
      "cell_type": "code",
      "source": [
        "from langchain_core.output_parsers import StrOutputParser\n",
        "from langchain_core.prompts import ChatPromptTemplate\n",
        "from langchain_openai import ChatOpenAI"
      ],
      "metadata": {
        "id": "kpjw423Ye0ju"
      },
      "execution_count": 40,
      "outputs": []
    },
    {
      "cell_type": "code",
      "source": [
        "# Prompt\n",
        "prompt_text = \"\"\"You are an assistant tasked with summarizing tables for retrieval. \\\n",
        "    These summaries will be embedded and used to retrieve the raw table elements. \\\n",
        "    Give a concise summary of the table that is well optimized for retrieval. Table {element} \"\"\""
      ],
      "metadata": {
        "id": "_bbRvggrfFUG"
      },
      "execution_count": 41,
      "outputs": []
    },
    {
      "cell_type": "code",
      "source": [
        "prompt = ChatPromptTemplate.from_template(prompt_text)"
      ],
      "metadata": {
        "id": "JM-4CppSfJnd"
      },
      "execution_count": 42,
      "outputs": []
    },
    {
      "cell_type": "code",
      "source": [
        "import os\n",
        "from google.colab import userdata\n",
        "OPENAI_API_TOKEN=userdata.get('OPENAI_API_KEY')\n",
        "os.environ[\"OPENAI_API_KEY\"] = OPENAI_API_TOKEN"
      ],
      "metadata": {
        "id": "kEAfJG7_fXDu"
      },
      "execution_count": 43,
      "outputs": []
    },
    {
      "cell_type": "code",
      "source": [
        "# Text summary chain\n",
        "model = ChatOpenAI(temperature=0, model=\"gpt-4o\")"
      ],
      "metadata": {
        "id": "1mHzuhFAfdUn"
      },
      "execution_count": 44,
      "outputs": []
    },
    {
      "cell_type": "code",
      "source": [
        "summarize_chain = {\"element\": lambda x: x} | prompt | model | StrOutputParser()"
      ],
      "metadata": {
        "id": "Vi5h9tpPftEu"
      },
      "execution_count": 45,
      "outputs": []
    },
    {
      "cell_type": "code",
      "source": [
        "table_summaries = []"
      ],
      "metadata": {
        "id": "2nqNsUzyf03Q"
      },
      "execution_count": 46,
      "outputs": []
    },
    {
      "cell_type": "code",
      "source": [
        "table_summaries=summarize_chain.batch(tab,{\"max_concurrency\": 5})"
      ],
      "metadata": {
        "id": "ybpy889Hf4GI"
      },
      "execution_count": 47,
      "outputs": []
    },
    {
      "cell_type": "code",
      "source": [
        "tab[0]"
      ],
      "metadata": {
        "colab": {
          "base_uri": "https://localhost:8080/",
          "height": 87
        },
        "id": "t114EKUfgLKF",
        "outputId": "6fd0a417-f501-4f17-b123-64b300f21325"
      },
      "execution_count": 48,
      "outputs": [
        {
          "output_type": "execute_result",
          "data": {
            "text/plain": [
              "'Closed Book T5-11B [52] 34.5 T5-11B+SSM[52] 36.6 - - /50.1 37.4 /60.5 44.7 - - Model B-1 QB-1 R-L B-1 Label Acc. Open REALM [20] 40.4 - / - 40.7 46.8 SotA - - 49.8* 49.9* 76.8 Book DPR [26] 41.5 57.9/ - 41.1 50.6 BART 15.1 19.7 38.2 41.6 64.0 81.1 RAG-Token RAG-Seq. 44.1 55.2/66.1 45.5 50.0 44.5 56.8/68.0 45.2 52.2 RAG-Tok. 17.3 22.2 RAG-Seq. 14.7 21.4 40.1 40.8 41.5 44.2 72.5 89.5'"
            ],
            "application/vnd.google.colaboratory.intrinsic+json": {
              "type": "string"
            }
          },
          "metadata": {},
          "execution_count": 48
        }
      ]
    },
    {
      "cell_type": "code",
      "source": [
        "table_summaries[0]"
      ],
      "metadata": {
        "colab": {
          "base_uri": "https://localhost:8080/",
          "height": 122
        },
        "id": "aAslSPlZgOAu",
        "outputId": "e050d841-e4b0-4a38-dd73-2f1a2fe18773"
      },
      "execution_count": 49,
      "outputs": [
        {
          "output_type": "execute_result",
          "data": {
            "text/plain": [
              "'The table compares various models on performance metrics such as B-1, QB-1, R-L, and Label Accuracy. Models include Closed Book T5-11B, T5-11B+SSM, Open REALM, Book DPR, BART, RAG-Token, and RAG-Sequence. Key performance scores are highlighted, such as T5-11B+SSM achieving 36.6, Open REALM with 40.4, and Book DPR with 41.5 in B-1. RAG-Token and RAG-Sequence show scores in the range of 44.1 to 56.8 for B-1 and QB-1. The table also notes state-of-the-art (SotA) performance with scores like 49.8* and 49.9* in certain metrics. The table provides a comprehensive comparison of model performance across different tasks and metrics.'"
            ],
            "application/vnd.google.colaboratory.intrinsic+json": {
              "type": "string"
            }
          },
          "metadata": {},
          "execution_count": 49
        }
      ]
    },
    {
      "cell_type": "code",
      "source": [
        "NarrativeText"
      ],
      "metadata": {
        "colab": {
          "base_uri": "https://localhost:8080/"
        },
        "id": "eQKPOhEUwiW6",
        "outputId": "e3255219-e230-439d-abc5-156b33592e17"
      },
      "execution_count": 72,
      "outputs": [
        {
          "output_type": "execute_result",
          "data": {
            "text/plain": [
              "[\"Patrick Lewis't, Ethan Perez*,\",\n",
              " 'Aleksandra Piktus†, Fabio Petroni†, Vladimir Karpukhin†, Naman Goyal†, Heinrich Küttler†,',\n",
              " 'Mike Lewis†, Wen-tau Yih†, Tim Rocktäschel†‡, Sebastian Riedel†‡, Douwe Kiela†',\n",
              " '+Racebook AI Research; *University College London; *New York University;',\n",
              " 'plewis@fb.com',\n",
              " 'Large pre-trained language models have been shown to store factual knowledge in their parameters, and achieve state-of-the-art results when ﬁne-tuned on down- stream NLP tasks. However, their ability to access and precisely manipulate knowl- edge is still limited, and hence on knowledge-intensive tasks, their performance lags behind task-speciﬁc architectures. Additionally, providing provenance for their decisions and updating their world knowledge remain open research problems. Pre- trained models with a differentiable access mechanism to explicit non-parametric memory have so far been only investigated for extractive downstream tasks. We explore a general-purpose ﬁne-tuning recipe for retrieval-augmented generation (RAG) — models which combine pre-trained parametric and non-parametric mem- ory for language generation. We introduce RAG models where the parametric memory is a pre-trained seq2seq model and the non-parametric memory is a dense vector index of Wikipedia, accessed with a pre-trained neural retriever. We com- pare two RAG formulations, one which conditions on the same retrieved passages across the whole generated sequence, and another which can use different passages per token. We ﬁne-tune and evaluate our models on a wide range of knowledge- intensive NLP tasks and set the state of the art on three open domain QA tasks, outperforming parametric seq2seq models and task-speciﬁc retrieve-and-extract architectures. For language generation tasks, we ﬁnd that RAG models generate more speciﬁc, diverse and factual language than a state-of-the-art parametric-only seq2seq baseline.',\n",
              " 'Pre-trained neural language models have been shown to learn a substantial amount of in-depth knowl- edge from data [47]. They can do so without any access to an external memory, as a parameterized implicit knowledge base [51, 52]. While this development is exciting, such models do have down- sides: They cannot easily expand or revise their memory, can’t straightforwardly provide insight into their predictions, and may produce “hallucinations” [38]. Hybrid models that combine parametric memory with non-parametric (i.e., retrieval-based) memories [20, 26, 48] can address some of these issues because knowledge can be directly revised and expanded, and accessed knowledge can be inspected and interpreted. REALM [20] and ORQA [31], two recently introduced models that combine masked language models [8] with a differentiable retriever, have shown promising results,',\n",
              " 'Figure 1: Overview of our approach. We combine a pre-trained retriever (Query Encoder + Document Index) with a pre-trained seq2seq model (Generator) and ﬁne-tune end-to-end. For query x, we use Maximum Inner Product Search (MIPS) to ﬁnd the top-K documents zi. For ﬁnal prediction y, we treat z as a latent variable and marginalize over seq2seq predictions given different documents.',\n",
              " 'but have only explored open-domain extractive question answering. Here, we bring hybrid parametric and non-parametric memory to the “workhorse of NLP,” i.e. sequence-to-sequence (seq2seq) models.',\n",
              " 'We endow pre-trained, parametric-memory generation models with a non-parametric memory through a general-purpose ﬁne-tuning approach which we refer to as retrieval-augmented generation (RAG). We build RAG models where the parametric memory is a pre-trained seq2seq transformer, and the non-parametric memory is a dense vector index of Wikipedia, accessed with a pre-trained neural retriever. We combine these components in a probabilistic model trained end-to-end (Fig. 1). The retriever (Dense Passage Retriever [26], henceforth DPR) provides latent documents conditioned on the input, and the seq2seq model (BART [32]) then conditions on these latent documents together with the input to generate the output. We marginalize the latent documents with a top-K approximation, either on a per-output basis (assuming the same document is responsible for all tokens) or a per-token basis (where different documents are responsible for different tokens). Like T5 [51] or BART, RAG can be ﬁne-tuned on any seq2seq task, whereby both the generator and retriever are jointly learned.',\n",
              " 'There has been extensive previous work proposing architectures to enrich systems with non-parametric memory which are trained from scratch for speciﬁc tasks, e.g. memory networks [64, 55], stack- augmented networks [25] and memory layers [30]. In contrast, we explore a setting where both parametric and non-parametric memory components are pre-trained and pre-loaded with extensive knowledge. Crucially, by using pre-trained access mechanisms, the ability to access knowledge is present without additional training.',\n",
              " 'Our results highlight the beneﬁts of combining parametric and non-parametric memory with genera- tion for knowledge-intensive tasks—tasks that humans could not reasonably be expected to perform without access to an external knowledge source. Our RAG models achieve state-of-the-art results on open Natural Questions [29], WebQuestions [3] and CuratedTrec [2] and strongly outperform recent approaches that use specialised pre-training objectives on TriviaQA [24]. Despite these being extractive tasks, we ﬁnd that unconstrained generation outperforms previous extractive approaches. For knowledge-intensive generation, we experiment with MS-MARCO [1] and Jeopardy question generation, and we ﬁnd that our models generate responses that are more factual, speciﬁc, and diverse than a BART baseline. For FEVER [56] fact veriﬁcation, we achieve results within 4.3% of state-of-the-art pipeline models which use strong retrieval supervision. Finally, we demonstrate that the non-parametric memory can be replaced to update the models’ knowledge as the world changes.1',\n",
              " 'We explore RAG models, which use the input sequence x to retrieve text documents z and use them as additional context when generating the target sequence y. As shown in Figure 1, our models leverage two components: (i) a retriever pη(z|x) with parameters η that returns (top-K truncated) distributions over text passages given a query x and (ii) a generator pθ(yi|x,z,y1:i−1) parametrized',\n",
              " '1Code to run experiments with RAG has been open-sourced as part of the HuggingFace Transform- ers Library [66] and can be found at https://github.com/huggingface/transformers/blob/master/ examples/rag/. An interactive demo of RAG models can be found at https://huggingface.co/rag/',\n",
              " 'by θ that generates a current token based on a context of the previous i − 1 tokens y1:i−1, the original input x and a retrieved passage z.',\n",
              " 'To train the retriever and generator end-to-end, we treat the retrieved document as a latent variable. We propose two models that marginalize over the latent documents in different ways to produce a distribution over generated text. In one approach, RAG-Sequence, the model uses the same document to predict each target token. The second approach, RAG-Token, can predict each target token based on a different document. In the following, we formally introduce both models and then describe the pη and pθ components, as well as the training and decoding procedure.',\n",
              " 'RAG-Sequence Model The RAG-Sequence model uses the same retrieved document to generate the complete sequence. Technically, it treats the retrieved document as a single latent variable that is marginalized to get the seq2seq probability p(y|x) via a top-K approximation. Concretely, the top K documents are retrieved using the retriever, and the generator produces the output sequence probability for each document, which are then marginalized,',\n",
              " 'RAG-Token Model In the RAG-Token model we can draw a different latent document for each target token and marginalize accordingly. This allows the generator to choose content from several documents when producing an answer. Concretely, the top K documents are retrieved using the retriever, and then the generator produces a distribution for the next output token for each document, before marginalizing, and repeating the process with the following output token, Formally, we deﬁne:',\n",
              " 'Finally, we note that RAG can be used for sequence classiﬁcation tasks by considering the target class as a target sequence of length one, in which case RAG-Sequence and RAG-Token are equivalent.',\n",
              " 'The retrieval component pη(z|x) is based on DPR [26]. DPR follows a bi-encoder architecture:',\n",
              " 'where d(z) is a dense representation of a document produced by a BERTBASE document encoder [8], and q(x) a query representation produced by a query encoder, also based on BERTBASE. Calculating top-k(pη(·|x)), the list of k documents z with highest prior probability pη(z|x), is a Maximum Inner Product Search (MIPS) problem, which can be approximately solved in sub-linear time [23]. We use a pre-trained bi-encoder from DPR to initialize our retriever and to build the document index. This retriever was trained to retrieve documents which contain answers to TriviaQA [24] questions and Natural Questions [29]. We refer to the document index as the non-parametric memory.',\n",
              " 'The generator component pθ(yi|x,z,y1:i−1) could be modelled using any encoder-decoder. We use BART-large [32], a pre-trained seq2seq transformer [58] with 400M parameters. To combine the input x with the retrieved content z when generating from BART, we simply concatenate them. BART was pre-trained using a denoising objective and a variety of different noising functions. It has obtained state-of-the-art results on a diverse set of generation tasks and outperforms comparably-sized T5 models [32]. We refer to the BART generator parameters θ as the parametric memory henceforth.',\n",
              " 'We jointly train the retriever and generator components without any direct supervision on what document should be retrieved. Given a ﬁne-tuning training corpus of input/output pairs (xj,yj), we',\n",
              " 'j −logp(yj|xj) using stochastic gradient descent with Adam [28]. Updating the document encoder BERTd during training is costly as it requires the document index to be periodically updated as REALM does during pre-training [20]. We do not ﬁnd this step necessary for strong performance, and keep the document encoder (and index) ﬁxed, only ﬁne-tuning the query encoder BERTq and the BART generator.',\n",
              " 'RAG-Token The RAG-Token model can be seen as a standard, autoregressive seq2seq genera- tor with transition probability: pj (yi|z, yii—1) = zetop-k(p(-|2)) Pn (zil@)po(yil@, Zi, Y1e—1) To decode, we can plug Po(yi |x, y1i—1) into a standard beam decoder.',\n",
              " 'RAG-Sequence For RAG-Sequence, the likelihood p(y|x) does not break into a conventional per- token likelihood, hence we cannot solve it with a single beam search. Instead, we run beam search for each document z, scoring each hypothesis using pθ(yi|x,z,y1:i−1). This yields a set of hypotheses Y , some of which may not have appeared in the beams of all documents. To estimate the probability of an hypothesis y we run an additional forward pass for each document z for which y does not appear in the beam, multiply generator probability with pη(z|x) and then sum the probabilities across beams for the marginals. We refer to this decoding procedure as “Thorough Decoding.” For longer output sequences, |Y | can become large, requiring many forward passes. For more efﬁcient decoding, we can make a further approximation that pθ(y|x,zi) ≈ 0 where y was not generated during beam search from x,zi. This avoids the need to run additional forward passes once the candidate set Y has been generated. We refer to this decoding procedure as “Fast Decoding.”',\n",
              " 'We experiment with RAG in a wide range of knowledge-intensive tasks. For all experiments, we use a single Wikipedia dump for our non-parametric knowledge source. Following Lee et al. [31] and Karpukhin et al. [26], we use the December 2018 dump. Each Wikipedia article is split into disjoint 100-word chunks, to make a total of 21M documents. We use the document encoder to compute an embedding for each document, and build a single MIPS index using FAISS [23] with a Hierarchical Navigable Small World approximation for fast retrieval [37]. During training, we retrieve the top k documents for each query. We consider k ∈ {5,10} for training and set k for test time using dev data. We now discuss experimental details for each task.',\n",
              " 'Open-domain question answering (QA) is an important real-world application and common testbed for knowledge-intensive tasks [20]. We treat questions and answers as input-output text pairs (x,y) and train RAG by directly minimizing the negative log-likelihood of answers. We compare RAG to the popular extractive QA paradigm [5, 7, 31, 26], where answers are extracted spans from retrieved documents, relying primarily on non-parametric knowledge. We also compare to “Closed-Book QA” approaches [52], which, like RAG, generate answers, but which do not exploit retrieval, instead relying purely on parametric knowledge. We consider four popular open-domain QA datasets: Natural Questions (NQ) [29], TriviaQA (TQA) [24]. WebQuestions (WQ) [3] and CuratedTrec (CT) [2]. As CT and WQ are small, we follow DPR [26] by initializing CT and WQ models with our NQ RAG model. We use the same train/dev/test splits as prior work [31, 26] and report Exact Match (EM) scores. For TQA, to compare with T5 [52], we also evaluate on the TQA Wiki test set.',\n",
              " 'RAG models can go beyond simple extractive QA and answer questions with free-form, abstractive text generation. To test RAG’s natural language generation (NLG) in a knowledge-intensive setting, we use the MSMARCO NLG task v2.1 [43]. The task consists of questions, ten gold passages retrieved from a search engine for each question, and a full sentence answer annotated from the retrieved passages. We do not use the supplied passages, only the questions and answers, to treat',\n",
              " 'MSMARCO as an open-domain abstractive QA task. MSMARCO has some questions that cannot be answered in a way that matches the reference answer without access to the gold passages, such as “What is the weather in Volcano, CA?” so performance will be lower without using gold passages. We also note that some MSMARCO questions cannot be answered using Wikipedia alone. Here, RAG can rely on parametric knowledge to generate reasonable responses.',\n",
              " 'To evaluate RAG’s generation abilities in a non-QA setting, we study open-domain question gen- eration. Rather than use questions from standard open-domain QA tasks, which typically consist of short, simple questions, we propose the more demanding task of generating Jeopardy questions. Jeopardy is an unusual format that consists of trying to guess an entity from a fact about that entity. For example, “The World Cup” is the answer to the question “In 1986 Mexico scored as the ﬁrst country to host this international sports competition twice.” As Jeopardy questions are precise, factual statements, generating Jeopardy questions conditioned on their answer entities constitutes a challenging knowledge-intensive generation task.',\n",
              " 'We use the splits from SearchQA [10], with 100K train, 14K dev, and 27K test examples. As this is a new task, we train a BART model for comparison. Following [67], we evaluate using the SQuAD-tuned Q-BLEU-1 metric [42]. Q-BLEU is a variant of BLEU with a higher weight for matching entities and has higher correlation with human judgment for question generation than standard metrics. We also perform two human evaluations, one to assess generation factuality, and one for speciﬁcity. We deﬁne factuality as whether a statement can be corroborated by trusted external sources, and speciﬁcity as high mutual dependence between the input and output [33]. We follow best practice and use pairwise comparative evaluation [34]. Evaluators are shown an answer and two generated questions, one from BART and one from RAG. They are then asked to pick one of four options—quuestion A is better, question B is better, both are good, or neither is good.',\n",
              " 'FEVER [56] requires classifying whether a natural language claim is supported or refuted by Wikipedia, or whether there is not enough information to decide. The task requires retrieving evidence from Wikipedia relating to the claim and then reasoning over this evidence to classify whether the claim is true, false, or unveriﬁable from Wikipedia alone. FEVER is a retrieval problem coupled with an challenging entailment reasoning task. It also provides an appropriate testbed for exploring the RAG models’ ability to handle classiﬁcation rather than generation. We map FEVER class labels (supports, refutes, or not enough info) to single output tokens and directly train with claim-class pairs. Crucially, unlike most other approaches to FEVER, we do not use supervision on retrieved evidence. In many real-world applications, retrieval supervision signals aren’t available, and models that do not require such supervision will be applicable to a wider range of tasks. We explore two variants: the standard 3-way classiﬁcation task (supports/refutes/not enough info) and the 2-way (supports/refutes) task studied in Thorne and Vlachos [57]. In both cases we report label accuracy.',\n",
              " 'Table 1 shows results for RAG along with state-of-the-art models. On all four open-domain QA tasks, RAG sets a new state of the art (only on the T5-comparable split for TQA). RAG combines the generation ﬂexibility of the “closed-book” (parametric only) approaches and the performance of \"open-book\" retrieval-based approaches. Unlike REALM and T5+SSM, RAG enjoys strong results without expensive, specialized “salient span masking” pre-training [20]. It is worth noting that RAG’s retriever is initialized using DPR’s retriever, which uses retrieval supervision on Natural Questions and TriviaQA. RAG compares favourably to the DPR QA system, which uses a BERT-based “cross- encoder” to re-rank documents, along with an extractive reader. RAG demonstrates that neither a re-ranker nor extractive reader is necessary for state-of-the-art performance.',\n",
              " 'There are several advantages to generating answers even when it is possible to extract them. Docu- ments with clues about the answer but do not contain the answer verbatim can still contribute towards a correct answer being generated, which is not possible with standard extractive approaches, leading',\n",
              " 'to more effective marginalization over documents. Furthermore, RAG can generate correct answers even when the correct answer is not in any retrieved document, achieving 11.8% accuracy in such cases for NQ, where an extractive model would score 0%.',\n",
              " 'As shown in Table 2, RAG-Sequence outperforms BART on Open MS-MARCO NLG by 2.6 Bleu points and 2.6 Rouge-L points. RAG approaches state-of-the-art model performance, which is impressive given that (i) those models access gold passages with speciﬁc information required to generate the reference answer , (ii) many questions are unanswerable without the gold passages, and (iii) not all questions are answerable from Wikipedia alone. Table 3 shows some generated answers from our models. Qualitatively, we ﬁnd that RAG models hallucinate less and generate factually correct text more often than BART. Later, we also show that RAG generations are more diverse than BART generations (see §4.5).',\n",
              " 'Table 2 shows that RAG-Token performs better than RAG-Sequence on Jeopardy question generation, with both models outperforming BART on Q-BLEU-1. 4 shows human evaluation results, over 452 pairs of generations from BART and RAG-Token. Evaluators indicated that BART was more factual than RAG in only 7.1% of cases, while RAG was more factual in 42.7% of cases, and both RAG and BART were factual in a further 17% of cases, clearly demonstrating the effectiveness of RAG on the task over a state-of-the-art generation model. Evaluators also ﬁnd RAG generations to be more speciﬁc by a large margin. Table 3 shows typical generations from each model.',\n",
              " 'Jeopardy questions often contain two separate pieces of information, and RAG-Token may perform best because it can generate responses that combine content from several documents. Figure 2 shows an example. When generating “Sun”, the posterior is high for document 2 which mentions “The Sun Also Rises”. Similarly, document 1 dominates the posterior when “A Farewell to Arms” is generated. Intriguingly, after the ﬁrst token of each book is generated, the document posterior ﬂattens. This observation suggests that the generator can complete the titles without depending on speciﬁc documents. In other words, the model’s parametric knowledge is sufﬁcient to complete the titles. We ﬁnd evidence for this hypothesis by feeding the BART-only baseline with the partial decoding \"The Sun. BART completes the generation \"The Sun Also Rises\" is a novel by this author of \"The Sun Also Rises\" indicating the title \"The Sun Also Rises\" is stored in BART’s parameters. Similarly, BART will complete the partial decoding \"The Sun Also Rises\" is a novel by this author of \"A with \"The Sun Also Rises\" is a novel by this author of \"A Farewell to Arms\". This example shows how parametric and non-parametric memories work together—the non-parametric component helps to guide the generation, drawing out speciﬁc knowledge stored in the parametric memory.',\n",
              " 'Table 2 shows our results on FEVER. For 3-way classiﬁcation, RAG scores are within 4.3% of state-of-the-art models, which are complex pipeline systems with domain-speciﬁc architectures and substantial engineering, trained using intermediate retrieval supervision, which RAG does not require.',\n",
              " 'Figure 2: RAG-Token document posterior p(zi|x,yi,y−i) for each generated token for input “Hem- ingway\" for Jeopardy generation with 5 retrieved documents. The posterior for document 1 is high when generating “A Farewell to Arms\" and for document 2 when generating “The Sun Also Rises\".',\n",
              " 'Table 3: Examples from generation tasks. RAG models generate more speciﬁc and factually accurate responses. ‘?’ indicates factually incorrect responses, * indicates partially correct responses.',\n",
              " 'For 2-way classiﬁcation, we compare against Thorne and Vlachos [57], who train RoBERTa [35] to classify the claim as true or false given the gold evidence sentence. RAG achieves an accuracy within 2.7% of this model, despite being supplied with only the claim and retrieving its own evidence. We also analyze whether documents retrieved by RAG correspond to documents annotated as gold evidence in FEVER. We calculate the overlap in article titles between the top k documents retrieved by RAG and gold evidence annotations. We ﬁnd that the top retrieved document is from a gold article in 71% of cases, and a gold article is present in the top 10 retrieved articles in 90% of cases.',\n",
              " 'Generation Diversity Section 4.3 shows that RAG models are more factual and speciﬁc than BART for Jeopardy question generation. Following recent work on diversity-promoting decoding [33, 59, 39], we also investigate generation diversity by calculating the ratio of distinct ngrams to total ngrams generated by different models. Table 5 shows that RAG-Sequence’s generations are more diverse than RAG-Token’s, and both are signiﬁcantly more diverse than BART without needing any diversity-promoting decoding.',\n",
              " 'Retrieval Ablations A key feature of RAG is learning to retrieve relevant information for the task. To assess the effectiveness of the retrieval mechanism, we run ablations where we freeze the retriever during training. As shown in Table 6, learned retrieval improves results for all tasks.',\n",
              " 'We compare RAG’s dense retriever to a word overlap-based BM25 retriever [53]. Here, we replace RAG’s retriever with a ﬁxed BM25 system, and use BM25 retrieval scores as logits when calculating p(z|x). Table 6 shows the results. For FEVER, BM25 performs best, perhaps since FEVER claims are heavily entity-centric and thus well-suited for word overlap-based retrieval. Differentiable retrieval improves results on all other tasks, especially for Open-Domain QA, where it is crucial.',\n",
              " 'Index hot-swapping An advantage of non-parametric memory models like RAG is that knowledge can be easily updated at test time. Parametric-only models like T5 or BART need further training to update their behavior as the world changes. To demonstrate, we build an index using the DrQA [5] Wikipedia dump from December 2016 and compare outputs from RAG using this index to the newer index from our main results (December 2018). We prepare a list of 82 world leaders who had changed',\n",
              " 'Table 4: Human assessments for the Jeopardy Question Generation Task.',\n",
              " 'between these dates and use a template “Who is {position}?” (e.g. “Who is the President of Peru?”) to query our NQ RAG model with each index. RAG answers 70% correctly using the 2016 index for 2016 world leaders and 68% using the 2018 index for 2018 world leaders. Accuracy with mismatched indices is low (12% with the 2018 index and 2016 leaders, 4% with the 2016 index and 2018 leaders). This shows we can update RAG’s world knowledge by simply replacing its non-parametric memory.',\n",
              " 'Effect of Retrieving more documents Models are trained with either 5 or 10 retrieved latent documents, and we do not observe signiﬁcant differences in performance between them. We have the ﬂexibility to adjust the number of retrieved documents at test time, which can affect performance and runtime. Figure 3 (left) shows that retrieving more documents at test time monotonically improves Open-domain QA results for RAG-Sequence, but performance peaks for RAG-Token at 10 retrieved documents. Figure 3 (right) shows that retrieving more documents leads to higher Rouge-L for RAG-Token at the expense of Bleu-1, but the effect is less pronounced for RAG-Sequence.',\n",
              " 'Single-Task Retrieval Prior work has shown that retrieval improves performance across a variety of NLP tasks when considered in isolation. Such tasks include open-domain question answering [5, 29], fact checking [56], fact completion [48], long-form question answering [12], Wikipedia article generation [36], dialogue [41, 65, 9, 13], translation [17], and language modeling [19, 27]. Our work uniﬁes previous successes in incorporating retrieval into individual tasks, showing that a single retrieval-based architecture is capable of achieving strong performance across several tasks.',\n",
              " 'General-Purpose Architectures for NLP Prior work on general-purpose architectures for NLP tasks has shown great success without the use of retrieval. A single, pre-trained language model has been shown to achieve strong performance on various classiﬁcation tasks in the GLUE bench- marks [60, 61] after ﬁne-tuning [49, 8]. GPT-2 [50] later showed that a single, left-to-right, pre-trained language model could achieve strong performance across both discriminative and generative tasks. For further improvement, BART [32] and T5 [51, 52] propose a single, pre-trained encoder-decoder model that leverages bi-directional attention to achieve stronger performance on discriminative and generative tasks. Our work aims to expand the space of possible tasks with a single, uniﬁed architecture, by learning a retrieval module to augment pre-trained, generative language models.',\n",
              " 'Learned Retrieval There is signiﬁcant work on learning to retrieve documents in information retrieval, more recently with pre-trained, neural language models [44, 26] similar to ours. Some work optimizes the retrieval module to aid in a speciﬁc, downstream task such as question answering, using search [46], reinforcement learning [6, 63, 62], or a latent variable approach [31, 20] as in our work. These successes leverage different retrieval-based architectures and optimization techniques to achieve strong performance on a single task, while we show that a single retrieval-based architecture can be ﬁne-tuned for strong performance on a variety of tasks.',\n",
              " 'Memory-based Architectures Our document index can be seen as a large external memory for neural networks to attend to, analogous to memory networks [64, 55]. Concurrent work [14] learns to retrieve a trained embedding for each entity in the input, rather than to retrieve raw text as in our work. Other work improves the ability of dialog models to generate factual text by attending over fact embeddings [15, 13]. A key feature of our memory is that it is comprised of raw text rather distributed representations, which makes the memory both (i) human-readable, lending a form of interpretability to our model, and (ii) human-writable, enabling us to dynamically update the model’s memory by editing the document index. This approach has also been used in knowledge-intensive dialog, where generators have been conditioned on retrieved text directly, albeit obtained via TF-IDF rather than end-to-end learnt retrieval [9].',\n",
              " 'Retrieve-and-Edit approaches Our method shares some similarities with retrieve-and-edit style approaches, where a similar training input-output pair is retrieved for a given input, and then edited to provide a ﬁnal output. These approaches have proved successful in a number of domains including Machine Translation [18, 22] and Semantic Parsing [21]. Our approach does have several differences, including less of emphasis on lightly editing a retrieved item, but on aggregating content from several pieces of retrieved content, as well as learning latent retrieval, and retrieving evidence documents rather than related training pairs. This said, RAG techniques may work well in these settings, and could represent promising future work.',\n",
              " 'In this work, we presented hybrid generation models with access to parametric and non-parametric memory. We showed that our RAG models obtain state of the art results on open-domain QA. We found that people prefer RAG’s generation over purely parametric BART, ﬁnding RAG more factual and speciﬁc. We conducted an thorough investigation of the learned retrieval component, validating its effectiveness, and we illustrated how the retrieval index can be hot-swapped to update the model without requiring any retraining. In future work, it may be fruitful to investigate if the two components can be jointly pre-trained from scratch, either with a denoising objective similar to BART or some another objective. Our work opens up new research directions on how parametric and non-parametric memories interact and how to most effectively combine them, showing promise in being applied to a wide variety of NLP tasks.',\n",
              " 'This work offers several positive societal beneﬁts over previous work: the fact that it is more strongly grounded in real factual knowledge (in this case Wikipedia) makes it “hallucinate” less with generations that are more factual, and offers more control and interpretability. RAG could be employed in a wide variety of scenarios with direct beneﬁt to society, for example by endowing it with a medical index and asking it open-domain questions on that topic, or by helping people be more effective at their jobs.',\n",
              " 'With these advantages also come potential downsides: Wikipedia, or any potential external knowledge source, will probably never be entirely factual and completely devoid of bias. Since RAG can be employed as a language model, similar concerns as for GPT-2 [50] are valid here, although arguably to a lesser extent, including that it might be used to generate abuse, faked or misleading content in the news or on social media; to impersonate others; or to automate the production of spam/phishing content [54]. Advanced language models may also lead to the automation of various jobs in the coming decades [16]. In order to mitigate these risks, AI systems could be employed to ﬁght against misleading content and automated spam/phishing.',\n",
              " 'The authors would like to thank the reviewers for their thoughtful and constructive feedback on this paper, as well as HuggingFace for their help in open-sourcing code to run RAG models. The authors would also like to thank Kyunghyun Cho and Sewon Min for productive discussions and advice. EP thanks supports from the NSF Graduate Research Fellowship. PL is supported by the FAIR PhD program.',\n",
              " 'for Computational Linguistics, pages 6086–6096, Florence, Italy, July 2019. Association for Computational Linguistics. doi: 10.18653/v1/P19-1612. URL https://www.aclweb.org/ anthology/P19-1612.',\n",
              " 'approaches 2016 co-located with the 30th Annual Conference on Neural Information Processing Systems (NIPS 2016), Barcelona, Spain, December 9, 2016, volume 1773 of CEUR Workshop Proceedings. CEUR-WS.org, 2016. URL http://ceur-ws.org/Vol-1773/CoCoNIPS_ 2016_paper9.pdf.',\n",
              " 'For Open-domain QA we report test numbers using 15 retrieved documents for RAG-Token models. For RAG-Sequence models, we report test results using 50 retrieved documents, and we use the Thorough Decoding approach since answers are generally short. We use greedy decoding for QA as we did not ﬁnd beam search improved results. For Open-MSMarco and Jeopardy question generation, we report test numbers using ten retrieved documents for both RAG-Token and RAG-Sequence, and we also train a BART-large model as a baseline. We use a beam size of four, and use the Fast Decoding approach for RAG-Sequence models, as Thorough Decoding did not improve performance.',\n",
              " 'Figure 4: Annotation interface for human evaluation of factuality. A pop-out for detailed instructions and a worked example appear when clicking \"view tool guide\".',\n",
              " 'Figure 4 shows the user interface for human evaluation. To avoid any biases for screen position, which model corresponded to sentence A and sentence B was randomly selected for each example. Annotators were encouraged to research the topic using the internet, and were given detailed instruc- tions and worked examples in a full instructions tab. We included some gold sentences in order to assess the accuracy of the annotators. Two annotators did not perform well on these examples and their annotations were removed from the results.',\n",
              " 'We train all RAG models and BART baselines using Fairseq [45].2 We train with mixed precision ﬂoating point arithmetic [40], distributing training across 8, 32GB NVIDIA V100 GPUs, though training and inference can be run on one GPU. We ﬁnd that doing Maximum Inner Product Search with FAISS is sufﬁciently fast on CPU, so we store document index vectors on CPU, requiring ∼ 100 GB of CPU memory for all of Wikipedia. After submission, We have ported our code to HuggingFace Transformers [66]3, which achieves equivalent performance to the previous version but is a cleaner and easier to use implementation. This version is also open-sourced. We also compress the document index using FAISS’s compression tools, reducing the CPU memory requirement to 36GB. Scripts to run experiments with RAG can be found at https://github.com/huggingface/transformers/ blob/master/examples/rag/README.md and an interactive demo of a RAG model can be found at https://huggingface.co/rag/',\n",
              " '2https://github.com/pytorch/fairseq 3https://github.com/huggingface/transformers',\n",
              " 'For open-domain QA, multiple answer annotations are often available for a given question. These answer annotations are exploited by extractive models during training as typically all the answer annotations are used to ﬁnd matches within documents when preparing training data. For RAG, we also make use of multiple annotation examples for Natural Questions and WebQuestions by training the model with each (q,a) pair separately, leading to a small increase in accuracy. For TriviaQA, there are often many valid answers to a given question, some of which are not suitable training targets, such as emoji or spelling variants. For TriviaQA, we ﬁlter out answer candidates if they do not occur in top 1000 documents for the query.',\n",
              " 'CuratedTrec preprocessing The answers for CuratedTrec are given in the form of regular expres- sions, which has been suggested as a reason why it is unsuitable for answer-generation models [20]. To overcome this, we use a pre-processing step where we ﬁrst retrieve the top 1000 documents for each query, and use the answer that most frequently matches the regex pattern as the supervision target. If no matches are found, we resort to a simple heuristic: generate all possible permutations for each regex, replacing non-deterministic symbols in the regex nested tree structure with a whitespace.',\n",
              " 'TriviaQA Evaluation setups The open-domain QA community customarily uses public develop- ment datasets as test datasets, as test data for QA datasets is often restricted and dedicated to reading compehension purposes. We report our results using the datasets splits used in DPR [26], which are consistent with common practice in Open-domain QA. For TriviaQA, this test dataset is the public TriviaQA Web Development split. Roberts et al. [52] used the TriviaQA ofﬁcial Wikipedia test set instead. Févry et al. [14] follow this convention in order to compare with Roberts et al. [52] (See appendix of [14]). We report results on both test sets to enable fair comparison to both approaches. We ﬁnd that our performance is much higher using the ofﬁcial Wiki test set, rather than the more conventional open-domain test set, which we attribute to the ofﬁcial Wiki test set questions being simpler to answer from Wikipedia.',\n",
              " 'For FEVER classiﬁcation, we follow the practice from [32], and ﬁrst re-generate the claim, and then classify using the representation of the ﬁnal hidden state, before ﬁnally marginalizing across documents to obtain the class probabilities. The FEVER task traditionally has two sub-tasks. The ﬁrst is to classify the claim as either \"Supported\", \"Refuted\" or \"Not Enough Info\", which is the task we explore in the main paper. FEVER’s other sub-task involves extracting sentences from Wikipedia as evidence supporting the classiﬁcation prediction. As FEVER uses a different Wikipedia dump to us, directly tackling this task is not straightforward. We hope to address this in future work.',\n",
              " 'We experimented with adding \"Null document\" mechanism to RAG, similar to REALM [20] in order to model cases where no useful information could be retrieved for a given input. Here, if k documents were retrieved, we would additionally \"retrieve\" an empty document and predict a logit for the null document, before marginalizing over k + 1 predictions. We explored modelling this null document logit by learning (i) a document embedding for the null document, (ii) a static learnt bias term, or (iii) a neural network to predict the logit. We did not ﬁnd that these improved performance, so in the interests of simplicity, we omit them. For Open MS-MARCO, where useful retrieved documents cannot always be retrieved, we observe that the model learns to always retrieve a particular set of documents for questions that are less likely to beneﬁt from retrieval, suggesting that null document mechanisms may not be necessary for RAG.',\n",
              " 'Our RAG models contain the trainable parameters for the BERT-base query and document encoder of DPR, with 110M parameters each (although we do not train the document encoder ourselves) and 406M trainable parameters from BART-large, 406M parameters, making a total of 626M trainable',\n",
              " 'parameters. The best performing \"closed-book\" (parametric only) open-domain QA model is T5-11B with 11 Billion trainable parameters. The T5 model with the closest number of parameters to our models is T5-large (770M parameters), which achieves a score of 28.9 EM on Natural Questions [52], substantially below the 44.5 that RAG-Sequence achieves, indicating that hybrid parametric/non- parametric models require far fewer trainable parameters for strong open-domain QA performance. The non-parametric memory index does not consist of trainable parameters, but does consists of 21M 728 dimensional vectors, consisting of 15.3B values. These can be easily be stored at 8-bit ﬂoating point precision to manage memory and disk footprints.',\n",
              " 'In preliminary experiments, we observed that for some tasks such as story generation [11], the retrieval component would “collapse” and learn to retrieve the same documents regardless of the input. In these cases, once retrieval had collapsed, the generator would learn to ignore the documents, and the RAG model would perform equivalently to BART. The collapse could be due to a less-explicit requirement for factual knowledge in some tasks, or the longer target sequences, which could result in less informative gradients for the retriever. Perez et al. [46] also found spurious retrieval results when optimizing a retrieval component in order to improve performance on downstream tasks.',\n",
              " 'The number of training, development and test datapoints in each of our datasets is shown in Table 7.']"
            ]
          },
          "metadata": {},
          "execution_count": 72
        }
      ]
    },
    {
      "cell_type": "code",
      "source": [
        "# Prompt\n",
        "prompt_text = \"\"\"You are an assistant tasked with summarizing text for retrieval. \\\n",
        "    These summaries will be embedded and used to retrieve the raw text elements. \\\n",
        "    Give a concise summary of the table or text that is well optimized for retrieval.text: {element} \"\"\"\n",
        "\n",
        "\n",
        "prompt = ChatPromptTemplate.from_template(prompt_text)\n",
        "# Text summary chain\n",
        "model = ChatOpenAI(temperature=0, model=\"gpt-4o\")\n",
        "summarize_chain = {\"element\": lambda x: x} | prompt | model | StrOutputParser()\n",
        "\n",
        "text_summaries = []\n",
        "\n",
        "text_summaries = summarize_chain.batch(NarrativeText, {\"max_concurrency\": 5})"
      ],
      "metadata": {
        "id": "KV6xGcVXwZc2"
      },
      "execution_count": 73,
      "outputs": []
    },
    {
      "cell_type": "code",
      "source": [
        "text_summaries"
      ],
      "metadata": {
        "colab": {
          "base_uri": "https://localhost:8080/"
        },
        "id": "8A562jRZw9YZ",
        "outputId": "7be4212e-c7ed-4273-80d1-265a1be0c9b9"
      },
      "execution_count": 74,
      "outputs": [
        {
          "output_type": "execute_result",
          "data": {
            "text/plain": [
              "['This text mentions two individuals, Patrick Lewis and Ethan Perez, possibly indicating a collaboration or co-authorship.',\n",
              " 'Authors: Aleksandra Piktus, Fabio Petroni, Vladimir Karpukhin, Naman Goyal, Heinrich Küttler.',\n",
              " 'Authors: Mike Lewis, Wen-tau Yih, Tim Rocktäschel, Sebastian Riedel, Douwe Kiela.',\n",
              " 'Affiliations: Racebook AI Research, University College London, New York University.',\n",
              " 'Email address: plewis@fb.com',\n",
              " 'This text discusses the limitations of large pre-trained language models in accessing and manipulating knowledge, particularly in knowledge-intensive tasks. It introduces Retrieval-Augmented Generation (RAG) models, which combine pre-trained parametric memory with non-parametric memory, using a seq2seq model and a dense vector index of Wikipedia accessed by a neural retriever. Two RAG formulations are compared: one using the same retrieved passages for the entire sequence and another using different passages per token. RAG models are fine-tuned and evaluated on various NLP tasks, achieving state-of-the-art results in open domain QA tasks and outperforming parametric seq2seq models. RAG models also generate more specific, diverse, and factual language than parametric-only seq2seq baselines.',\n",
              " 'Pre-trained neural language models learn extensive knowledge from data without external memory, acting as implicit knowledge bases. However, they struggle with memory expansion, prediction transparency, and may produce inaccuracies. Hybrid models, combining parametric and non-parametric memories, address these issues by allowing knowledge revision, expansion, and interpretability. Models like REALM and ORQA, which integrate masked language models with differentiable retrievers, have demonstrated promising outcomes.',\n",
              " 'The approach integrates a pre-trained retriever (Query Encoder + Document Index) with a pre-trained seq2seq model (Generator) and fine-tunes them end-to-end. It uses Maximum Inner Product Search (MIPS) to identify the top-K documents for a query. The final prediction is made by treating the documents as latent variables and marginalizing over seq2seq predictions based on these documents.',\n",
              " 'This text discusses the integration of hybrid parametric and non-parametric memory into sequence-to-sequence (seq2seq) models, expanding beyond their traditional use in open-domain extractive question answering.',\n",
              " 'The text describes Retrieval-Augmented Generation (RAG), a method that enhances pre-trained seq2seq transformer models with non-parametric memory using a dense vector index of Wikipedia. This approach integrates a pre-trained neural retriever (Dense Passage Retriever, DPR) to provide latent documents based on input, which are then used by the seq2seq model (BART) to generate output. The model is trained end-to-end using a probabilistic framework, marginalizing latent documents with a top-K approximation. RAG can be fine-tuned for any seq2seq task, allowing joint learning of both the generator and retriever.',\n",
              " 'This text discusses the exploration of systems combining parametric and non-parametric memory components that are pre-trained and pre-loaded with knowledge, contrasting with previous work that trained such systems from scratch for specific tasks. The focus is on using pre-trained access mechanisms to enable knowledge retrieval without additional training.',\n",
              " 'The study demonstrates the advantages of integrating parametric and non-parametric memory with generation for knowledge-intensive tasks, achieving state-of-the-art results on datasets like Natural Questions, WebQuestions, and CuratedTrec. The RAG models outperform recent methods on TriviaQA and show that unconstrained generation surpasses extractive approaches. In knowledge-intensive generation tasks like MS-MARCO and Jeopardy, the models produce more factual, specific, and diverse responses than a BART baseline. For FEVER fact verification, results are close to state-of-the-art models. The non-parametric memory can be updated to reflect changes in world knowledge.',\n",
              " 'RAG models utilize an input sequence x to retrieve text documents z, which serve as additional context for generating a target sequence y. The models consist of two components: (i) a retriever pη(z|x) with parameters η that provides top-K distributions over text passages based on a query x, and (ii) a generator pθ(yi|x,z,y1:i−1) that is parametrized to generate the target sequence.',\n",
              " 'Open-source code for running experiments with RAG is available in the HuggingFace Transformers Library at the provided GitHub link. An interactive demo of RAG models is accessible on the HuggingFace website.',\n",
              " 'A model parameterized by θ generates a current token using the context of the previous i−1 tokens (y1:i−1), the original input (x), and a retrieved passage (z).',\n",
              " 'The text discusses training a retriever and generator end-to-end by treating retrieved documents as latent variables. It introduces two models: RAG-Sequence, which uses the same document for predicting each target token, and RAG-Token, which allows different documents for each token prediction. The text outlines the formal introduction of these models, their components (pη and pθ), and the training and decoding procedures.',\n",
              " 'The RAG-Sequence model generates sequences by treating retrieved documents as latent variables, using a top-K approximation to marginalize and compute the seq2seq probability p(y|x). It retrieves the top K documents and calculates output sequence probabilities for each, which are then marginalized.',\n",
              " 'The RAG-Token model allows for drawing different latent documents for each target token, enabling the generator to select content from multiple documents when generating an answer. The process involves retrieving the top K documents, generating a distribution for the next output token for each document, marginalizing, and repeating for subsequent tokens.',\n",
              " 'RAG can be applied to sequence classification tasks by treating the target class as a single-length target sequence, making RAG-Sequence and RAG-Token equivalent in this context.',\n",
              " 'The retrieval component \\\\( p_{\\\\eta}(z|x) \\\\) is based on DPR, which utilizes a bi-encoder architecture.',\n",
              " 'The text describes a document retrieval system using dense representations from BERTBASE encoders for both documents and queries. It involves solving a Maximum Inner Product Search (MIPS) problem to find the top-k documents with the highest prior probability. A pre-trained bi-encoder from DPR, trained on TriviaQA and Natural Questions, is used to initialize the retriever and build the document index, referred to as non-parametric memory.',\n",
              " 'The generator component \\\\( p_{\\\\theta}(y_i|x,z,y_{1:i-1}) \\\\) is modeled using BART-large, a pre-trained seq2seq transformer with 400M parameters. Input \\\\( x \\\\) is concatenated with retrieved content \\\\( z \\\\) for generation. BART, pre-trained with a denoising objective, achieves state-of-the-art results on various generation tasks, outperforming similar-sized T5 models. The BART generator parameters \\\\( \\\\theta \\\\) are referred to as the parametric memory.',\n",
              " 'Joint training of retriever and generator components is conducted without direct supervision on document retrieval. The process uses a fine-tuning training corpus consisting of input/output pairs (xj, yj).',\n",
              " \"The text discusses an approach using stochastic gradient descent with Adam for optimization. It highlights the high cost of updating the document encoder BERTd during training, as it requires periodic updates to the document index, similar to REALM's pre-training process. The authors found that keeping the document encoder and index fixed while only fine-tuning the query encoder BERTq and the BART generator yields strong performance.\",\n",
              " 'The RAG-Token model is an autoregressive sequence-to-sequence generator with a specific transition probability formula. It integrates a top-k probability mechanism and can be decoded using a standard beam decoder by incorporating Po(yi |x, y1i—1).',\n",
              " 'RAG-Sequence involves a unique decoding process where the likelihood p(y|x) cannot be solved with a single beam search. Instead, beam search is conducted for each document z, scoring hypotheses with pθ(yi|x,z,y1:i−1). This results in a set of hypotheses Y, which may not appear in all document beams. To estimate the probability of a hypothesis y, an additional forward pass is run for documents where y is absent, combining generator probability with pη(z|x) and summing probabilities across beams. This is termed \"Thorough Decoding.\" For efficiency, \"Fast Decoding\" approximates pθ(y|x,zi) ≈ 0 for y not generated during beam search, reducing the need for extra forward passes once Y is generated.',\n",
              " 'The study explores the use of Retrieval-Augmented Generation (RAG) across various knowledge-intensive tasks, utilizing a December 2018 Wikipedia dump as the non-parametric knowledge source. The Wikipedia articles are divided into 100-word chunks, resulting in 21 million documents. A document encoder generates embeddings for these documents, and a MIPS index is created using FAISS with a Hierarchical Navigable Small World approximation for efficient retrieval. During training, the top k documents are retrieved for each query, with k values of 5 or 10 considered, and the optimal k for testing is determined using development data. Experimental details for each task are provided.',\n",
              " 'The text discusses open-domain question answering (QA) as a key application for knowledge-intensive tasks, focusing on the RAG model, which minimizes the negative log-likelihood of answers. RAG is compared to extractive QA, which extracts answers from documents using non-parametric knowledge, and Closed-Book QA, which generates answers without retrieval, relying on parametric knowledge. The study evaluates RAG on four datasets: Natural Questions (NQ), TriviaQA (TQA), WebQuestions (WQ), and CuratedTrec (CT), using established train/dev/test splits and reporting Exact Match (EM) scores. For smaller datasets CT and WQ, models are initialized with the NQ RAG model. TQA is also evaluated against the TQA Wiki test set for comparison with T5.',\n",
              " \"RAG models are capable of generating free-form, abstractive answers beyond extractive QA. To evaluate RAG's natural language generation in knowledge-intensive contexts, the MSMARCO NLG task v2.1 is used. This task involves questions, ten gold passages retrieved per question, and full sentence answers annotated from these passages. The evaluation focuses on using only the questions and answers, excluding the supplied passages.\",\n",
              " \"MSMARCO is an open-domain abstractive QA task where some questions require gold passages for accurate answers, like specific weather queries. Performance may drop without these passages, and some questions can't be answered using only Wikipedia. RAG can use parametric knowledge to generate reasonable responses.\",\n",
              " \"The text evaluates RAG's generation abilities in open-domain question generation by focusing on the challenging task of creating Jeopardy-style questions. Unlike standard QA tasks with simple questions, Jeopardy questions require generating precise, factual statements based on answer entities, making it a demanding knowledge-intensive task.\",\n",
              " 'The study uses SearchQA splits with 100K training, 14K development, and 27K test examples to train a BART model for a new task. Evaluation is conducted using the SQuAD-tuned Q-BLEU-1 metric, which prioritizes entity matching and aligns better with human judgment for question generation. Two human evaluations assess generation factuality and specificity, defined as corroboration by trusted sources and mutual dependence between input and output, respectively. A pairwise comparative evaluation is used, where evaluators compare questions generated by BART and RAG, choosing which is better or if both/neither are good.',\n",
              " \"FEVER is a task that involves classifying natural language claims as supported, refuted, or unverifiable based on evidence retrieved from Wikipedia. It combines retrieval with entailment reasoning and serves as a testbed for evaluating RAG models' classification capabilities. Unlike most approaches, this method does not use supervision on retrieved evidence, making it applicable to tasks lacking retrieval supervision signals. The study explores both 3-way (supports/refutes/not enough info) and 2-way (supports/refutes) classification tasks, reporting label accuracy for each.\",\n",
              " 'RAG achieves state-of-the-art results on four open-domain QA tasks, outperforming other models like REALM and T5+SSM without requiring specialized pre-training. It combines the flexibility of \"closed-book\" approaches with the performance of \"open-book\" retrieval-based methods. RAG\\'s retriever is initialized using DPR\\'s retriever, benefiting from retrieval supervision on Natural Questions and TriviaQA. Unlike DPR, RAG does not need a re-ranker or extractive reader to achieve top performance.',\n",
              " 'Generating answers allows for the use of documents that provide clues but do not contain the exact answer, enabling the creation of correct responses that standard extractive methods cannot achieve.',\n",
              " 'RAG can generate correct answers even when the correct answer is not present in any retrieved document, achieving 11.8% accuracy for NQ, compared to 0% for extractive models.',\n",
              " 'RAG-Sequence surpasses BART on Open MS-MARCO NLG by 2.6 Bleu and 2.6 Rouge-L points, approaching state-of-the-art performance despite not accessing gold passages. RAG models hallucinate less and produce more factually correct and diverse text compared to BART.',\n",
              " \"RAG-Token outperforms RAG-Sequence and BART in Jeopardy question generation, excelling in Q-BLEU-1 scores. Human evaluations of 452 generation pairs reveal RAG's superior factual accuracy, with RAG being more factual than BART in 42.7% of cases, compared to BART's 7.1%. Both models were factual in 17% of cases. RAG generations are also noted for their specificity.\",\n",
              " 'The text discusses how RAG-Token effectively generates responses by combining content from multiple documents, particularly in Jeopardy questions that contain dual information. It highlights that while generating titles like \"The Sun Also Rises\" and \"A Farewell to Arms,\" the model initially relies on specific documents but can complete titles using its parametric knowledge. This is demonstrated by BART\\'s ability to finish partial decodings, indicating that such titles are stored in its parameters. The example illustrates the interplay between parametric and non-parametric memories, where the latter guides generation by accessing specific knowledge in the former.',\n",
              " \"Table 2 presents FEVER results, highlighting that RAG's 3-way classification scores are within 4.3% of state-of-the-art models. Unlike these complex pipeline systems with domain-specific architectures and intermediate retrieval supervision, RAG achieves competitive performance without such requirements.\",\n",
              " 'The text describes Figure 2, which illustrates the RAG-Token document posterior probabilities for each generated token in response to the input \"Hemingway\" during a Jeopardy generation task with 5 retrieved documents. Document 1 shows a high posterior when generating \"A Farewell to Arms,\" while document 2 shows a high posterior for \"The Sun Also Rises.\"',\n",
              " \"Table 3 showcases examples from generation tasks, highlighting that RAG models produce more specific and factually accurate responses compared to others. '?' denotes factually incorrect responses, while '*' signifies partially correct responses.\",\n",
              " \"The text compares RAG's performance in 2-way classification against a model by Thorne and Vlachos, which uses RoBERTa with gold evidence. RAG achieves similar accuracy, within 2.7%, despite retrieving its own evidence. An analysis shows that RAG's top retrieved document matches a gold article 71% of the time, and a gold article is among the top 10 retrieved documents in 90% of cases, indicating effective evidence retrieval.\",\n",
              " 'Section 4.3 highlights that RAG models produce more factual and specific Jeopardy questions compared to BART. The study examines generation diversity by measuring the ratio of distinct ngrams to total ngrams. Table 5 reveals that RAG-Sequence generates more diverse outputs than RAG-Token, and both outperform BART in diversity without requiring diversity-promoting decoding techniques.',\n",
              " 'The text discusses the importance of the retrieval mechanism in RAG (Retrieval-Augmented Generation). Ablation studies were conducted by freezing the retriever during training, and results in Table 6 indicate that learned retrieval enhances performance across all tasks.',\n",
              " \"The text compares RAG's dense retriever with a BM25 word overlap-based retriever. BM25 is used as a fixed system with its retrieval scores as logits for p(z|x). Results in Table 6 indicate BM25 performs best for FEVER due to its entity-centric nature, while differentiable retrieval enhances performance on other tasks, notably Open-Domain QA.\",\n",
              " 'Non-parametric memory models like RAG allow for easy knowledge updates at test time, unlike parametric-only models such as T5 or BART, which require further training. An experiment was conducted using an index built from the December 2016 DrQA Wikipedia dump, comparing RAG outputs with a newer December 2018 index. A list of 82 world leaders who had changed was prepared for this demonstration.',\n",
              " 'Summary of Table 4: Human assessments for the Jeopardy Question Generation Task, detailing evaluation metrics and performance outcomes.',\n",
              " 'The text discusses the use of a template query \"Who is {position}?\" to test the accuracy of a Retrieval-Augmented Generation (RAG) model in identifying world leaders from different years. The model achieves 70% accuracy with the 2016 index for 2016 leaders and 68% with the 2018 index for 2018 leaders. However, accuracy drops significantly with mismatched indices, showing 12% with the 2018 index for 2016 leaders and 4% with the 2016 index for 2018 leaders. This indicates that RAG\\'s world knowledge can be updated by replacing its non-parametric memory.',\n",
              " 'The study examines the impact of retrieving different numbers of latent documents on model performance. Training with 5 or 10 documents shows no significant performance difference. At test time, increasing retrieved documents improves Open-domain QA results for RAG-Sequence, with optimal performance for RAG-Token at 10 documents. More documents enhance Rouge-L scores for RAG-Token but reduce Bleu-1, with a less pronounced effect on RAG-Sequence.',\n",
              " 'This text discusses the benefits of retrieval in enhancing performance across various NLP tasks when considered individually. These tasks include open-domain question answering, fact checking, fact completion, long-form question answering, Wikipedia article generation, dialogue, translation, and language modeling. The work highlights the unification of previous successes by demonstrating that a single retrieval-based architecture can achieve strong performance across multiple tasks.',\n",
              " 'This text discusses the success of general-purpose architectures in NLP, highlighting that pre-trained language models like GPT-2, BART, and T5 achieve strong performance on various tasks without retrieval. These models, particularly BART and T5, use bi-directional attention to excel in both discriminative and generative tasks. The work aims to enhance these models by integrating a retrieval module to expand their task capabilities.',\n",
              " 'The text discusses advancements in learned retrieval using pre-trained neural language models, focusing on optimizing retrieval modules for specific tasks like question answering. It highlights various approaches, including search, reinforcement learning, and latent variable methods, to enhance task performance. The key contribution is demonstrating that a single retrieval-based architecture can be fine-tuned for strong performance across multiple tasks, unlike previous work that focused on optimizing for a single task.',\n",
              " 'The document discusses memory-based architectures for neural networks, highlighting a document index as an external memory that stores raw text, unlike other models that use trained embeddings. This approach enhances interpretability and allows dynamic updates by editing the index. It contrasts with methods that use fact embeddings or TF-IDF for retrieval. The focus is on using raw text for retrieval in knowledge-intensive dialog models, providing a human-readable and writable memory system.',\n",
              " 'The text discusses a method similar to retrieve-and-edit approaches, which involve retrieving a similar input-output pair and editing it for the final output. While successful in domains like Machine Translation and Semantic Parsing, the described method differs by focusing on aggregating content from multiple retrieved sources, learning latent retrieval, and retrieving evidence documents instead of related training pairs. It suggests that RAG techniques could be promising for future work in these areas.',\n",
              " 'This work introduces hybrid generation models utilizing both parametric and non-parametric memory, achieving state-of-the-art results in open-domain QA with RAG models. RAG is preferred over BART for its factual and specific generation. The study validates the effectiveness of the learned retrieval component and demonstrates the ability to update the retrieval index without retraining. Future research may explore joint pre-training of components and further investigate the interaction between parametric and non-parametric memories, with potential applications across various NLP tasks.',\n",
              " 'This work improves societal benefits by reducing hallucinations and enhancing factual accuracy through grounding in Wikipedia. It offers greater control and interpretability, making it suitable for diverse applications like medical indexing and job efficiency enhancement.',\n",
              " 'Wikipedia and other external knowledge sources may never be completely factual or unbiased. RAG, like GPT-2, can generate misleading or abusive content, impersonate others, or automate spam/phishing. Advanced language models might automate jobs in the future. AI systems could help mitigate these risks by combating misleading content and spam.',\n",
              " 'Acknowledgments include gratitude to reviewers for feedback, HuggingFace for open-sourcing RAG model code, and Kyunghyun Cho and Sewon Min for discussions. EP is supported by the NSF Graduate Research Fellowship, and PL by the FAIR PhD program.',\n",
              " 'Summary: This document is a publication from the Association for Computational Linguistics, presented at a conference in Florence, Italy, in July 2019. It spans pages 6086 to 6096 and is accessible via the DOI 10.18653/v1/P19-1612 or through the URL https://www.aclweb.org/anthology/P19-1612.',\n",
              " 'Summary: Proceedings from the CoCoNIPS 2016 workshop, co-located with the 30th Annual Conference on Neural Information Processing Systems (NIPS 2016) in Barcelona, Spain, on December 9, 2016. Published in volume 1773 of CEUR Workshop Proceedings. Available at CEUR-WS.org.',\n",
              " 'The text discusses testing methodologies for Open-domain QA and question generation using RAG-Token and RAG-Sequence models. For Open-domain QA, 15 documents are retrieved for RAG-Token and 50 for RAG-Sequence, using Thorough Decoding and greedy decoding. For Open-MSMarco and Jeopardy question generation, 10 documents are retrieved for both models, with a BART-large model as a baseline. A beam size of four and Fast Decoding are used for RAG-Sequence, as Thorough Decoding was ineffective.',\n",
              " 'Figure 4 describes an annotation interface designed for human evaluation of factuality, featuring a \"view tool guide\" option that provides detailed instructions and a worked example.',\n",
              " 'The user interface for human evaluation randomly assigned models to sentences A and B to prevent screen position bias. Annotators were encouraged to research topics online and were provided with detailed instructions and examples. Gold sentences were included to assess annotator accuracy, and annotations from two underperforming annotators were removed.',\n",
              " \"The text describes the training of RAG models and BART baselines using Fairseq, utilizing mixed precision arithmetic across 8 NVIDIA V100 GPUs, with the option to run on a single GPU. Maximum Inner Product Search with FAISS is used for fast CPU operations, initially requiring ~100 GB of CPU memory for Wikipedia, later reduced to 36 GB using FAISS compression tools. The code has been ported to HuggingFace Transformers for improved usability and open-sourced. Experiment scripts and an interactive demo are available on HuggingFace's GitHub and website, respectively.\",\n",
              " \"The text provides URLs to two GitHub repositories: PyTorch's Fairseq and Hugging Face's Transformers. These repositories are popular resources for machine learning and natural language processing, offering tools and libraries for building and training models.\",\n",
              " \"In open-domain QA, multiple answer annotations are used by extractive models to find document matches during training. RAG models also utilize these annotations by training with each question-answer pair separately, improving accuracy slightly. For TriviaQA, many valid answers exist, but unsuitable ones like emojis or spelling variants are filtered out if they don't appear in the top 1000 documents for the query.\",\n",
              " 'CuratedTrec preprocessing involves handling answers given as regular expressions, which poses challenges for answer-generation models. To address this, the process retrieves the top 1000 documents per query and selects the most frequently matching regex pattern as the target answer. If no matches are found, a heuristic generates all possible permutations by replacing non-deterministic regex symbols with whitespace.',\n",
              " 'The text discusses evaluation setups for TriviaQA in open-domain QA, highlighting the use of public development datasets as test datasets due to restrictions on official test data. It mentions the use of dataset splits from DPR, consistent with common practice, and compares results using the TriviaQA Web Development split and the official Wikipedia test set. The performance is noted to be higher on the official Wiki test set, attributed to the simplicity of questions when answered from Wikipedia. The text references works by Roberts et al. and Févry et al. for comparison purposes.',\n",
              " 'The FEVER classification process involves regenerating the claim, classifying it using the final hidden state representation, and marginalizing across documents to determine class probabilities. The main task is to classify claims as \"Supported,\" \"Refuted,\" or \"Not Enough Info.\" A secondary task involves extracting supporting sentences from Wikipedia, which is challenging due to differences in Wikipedia dumps. Future work aims to address this issue.',\n",
              " 'The study explored adding a \"Null document\" mechanism to RAG, similar to REALM, to handle cases where no useful information is retrieved. This involved retrieving an empty document and predicting a logit for it, then marginalizing over k + 1 predictions. Three methods were tested: learning a document embedding, a static bias term, and a neural network for the logit. None improved performance, so they were omitted for simplicity. In Open MS-MARCO, the model consistently retrieved certain documents for less retrieval-beneficial questions, indicating that null document mechanisms might be unnecessary for RAG.',\n",
              " 'The RAG models consist of trainable parameters from the BERT-base query encoder and the document encoder of DPR, each with 110M parameters, and 406M trainable parameters from BART-large, totaling 626M trainable parameters. The document encoder is not trained by the team.',\n",
              " 'The T5-11B model, with 11 billion parameters, is the best performing \"closed-book\" open-domain QA model. In comparison, the T5-large model, with 770 million parameters, scores 28.9 EM on Natural Questions, significantly lower than the 44.5 EM achieved by the RAG-Sequence model. This suggests that hybrid parametric/non-parametric models like RAG-Sequence require fewer trainable parameters for effective open-domain QA. The non-parametric memory index, which is not trainable, consists of 21 million 728-dimensional vectors (15.3 billion values) and can be stored efficiently using 8-bit floating point precision.',\n",
              " 'In preliminary experiments, the retrieval component in tasks like story generation sometimes \"collapsed,\" retrieving the same documents regardless of input. This led the generator to ignore the documents, making the RAG model perform similarly to BART. The collapse may be due to a lower need for factual knowledge or longer target sequences, resulting in less informative gradients for the retriever. Similar spurious retrieval results were observed by Perez et al. when optimizing retrieval for downstream task performance.',\n",
              " 'Table 7 displays the quantity of training, development, and test datapoints for each dataset.']"
            ]
          },
          "metadata": {},
          "execution_count": 74
        }
      ]
    },
    {
      "cell_type": "code",
      "source": [
        "img[0]"
      ],
      "metadata": {
        "colab": {
          "base_uri": "https://localhost:8080/",
          "height": 122
        },
        "id": "Xdif_KSTgQ9G",
        "outputId": "c04d0647-4e3f-45ef-80c0-308a379dce55"
      },
      "execution_count": 50,
      "outputs": [
        {
          "output_type": "execute_result",
          "data": {
            "text/plain": [
              "'@--- ee ee ee ee ee ee ee ee ee ee eee The middle ear includes End-to-End Backprop through q and pe the tympanic cavity and the three ossicles. (y) Define \"middle ear\" (x) Question Answering: Question Query Retriever py Document Generator pg “fnower Generation Index. (Non-Parametric) (Parametric) d(z) supports (y) Barack Obama was born in Hawaii. (x) q(x) Fact Verification: Fact Query Fact Verification: Label Generation The Divine This 14th century work Comedy (x) is divided into 3 Jeopardy Question Generation: Answer Query sections: \"Inferno\", \"purgatorio\" & \"Paradiso\" @) Question Generation'"
            ],
            "application/vnd.google.colaboratory.intrinsic+json": {
              "type": "string"
            }
          },
          "metadata": {},
          "execution_count": 50
        }
      ]
    },
    {
      "cell_type": "code",
      "source": [
        "import base64\n",
        "import os\n",
        "from langchain_core.messages import HumanMessage"
      ],
      "metadata": {
        "id": "clS9oDdqgcqn"
      },
      "execution_count": 51,
      "outputs": []
    },
    {
      "cell_type": "code",
      "source": [
        "def encode_image(image_path):\n",
        "    \"\"\"Getting the base64 string\"\"\"\n",
        "    with open(image_path, \"rb\") as image_file:\n",
        "        return base64.b64encode(image_file.read()).decode(\"utf-8\")"
      ],
      "metadata": {
        "id": "mKR7JUAEgixP"
      },
      "execution_count": 52,
      "outputs": []
    },
    {
      "cell_type": "code",
      "source": [
        "def image_summarize(img_base64, prompt):\n",
        "    \"\"\"Make image summary\"\"\"\n",
        "\n",
        "\n",
        "    chat = ChatOpenAI(model=\"gpt-4o\", max_tokens=1024)\n",
        "\n",
        "    msg = chat.invoke(\n",
        "        [\n",
        "            HumanMessage(\n",
        "                content=[\n",
        "                    {\"type\": \"text\", \"text\": prompt},\n",
        "\n",
        "                     {\n",
        "                        \"type\": \"image_url\",\n",
        "                        \"image_url\": {\"url\": f\"data:image/jpeg;base64,{img_base64}\"},\n",
        "                    },\n",
        "                ]\n",
        "            )\n",
        "        ]\n",
        "    )\n",
        "    return msg.content"
      ],
      "metadata": {
        "id": "nqWb87Hbgn8g"
      },
      "execution_count": 59,
      "outputs": []
    },
    {
      "cell_type": "code",
      "source": [
        "def generate_img_summaries(path):\n",
        "    \"\"\"\n",
        "    Generate summaries and base64 encoded strings for images\n",
        "    path: Path to list of .jpg files extracted by Unstructured\n",
        "    \"\"\"\n",
        "\n",
        "    # Store base64 encoded images\n",
        "    img_base64_list = []\n",
        "\n",
        "    # Store image summaries\n",
        "    image_summaries = []\n",
        "\n",
        "    # Prompt\n",
        "    prompt = \"\"\"You are an assistant tasked with summarizing images for retrieval. \\\n",
        "    These summaries will be embedded and used to retrieve the raw image. \\\n",
        "    Give a concise summary of the image that is well optimized for retrieval.\"\"\"\n",
        "\n",
        "\n",
        "    base64_image = encode_image(path)\n",
        "    print(base64_image)\n",
        "    img_base64_list.append(base64_image)\n",
        "    image_summaries.append(image_summarize(base64_image, prompt))\n",
        "\n",
        "    return img_base64_list, image_summaries"
      ],
      "metadata": {
        "id": "M2chds0kg16e"
      },
      "execution_count": 60,
      "outputs": []
    },
    {
      "cell_type": "code",
      "source": [
        "fpath=\"/content/extracted_data2/figure-2-1.jpg\""
      ],
      "metadata": {
        "id": "ebVqRi8fhLM4"
      },
      "execution_count": 61,
      "outputs": []
    },
    {
      "cell_type": "code",
      "source": [
        "img_base64_list,image_summaries=generate_img_summaries(fpath)"
      ],
      "metadata": {
        "id": "zQbpbrRbhRhO",
        "colab": {
          "base_uri": "https://localhost:8080/"
        },
        "outputId": "e8d6e792-3fe2-423c-ae16-5fcafbbe80b1"
      },
      "execution_count": 62,
      "outputs": [
        {
          "output_type": "stream",
          "name": "stdout",
          "text": [
            "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\n"
          ]
        }
      ]
    },
    {
      "cell_type": "code",
      "source": [
        "image_summaries[0]"
      ],
      "metadata": {
        "colab": {
          "base_uri": "https://localhost:8080/",
          "height": 105
        },
        "id": "GTtDwQ0chbf-",
        "outputId": "847d45f2-bf73-488f-ded3-c22317e83158"
      },
      "execution_count": 63,
      "outputs": [
        {
          "output_type": "execute_result",
          "data": {
            "text/plain": [
              "'Diagram illustrating an end-to-end system for question answering and fact verification. It includes a query encoder, non-parametric retriever, and parametric generator. Inputs like \"Define \\'middle ear\\'\" and \"Barack Obama was born in Hawaii\" are processed through modules for transforming queries, retrieving documents, and generating responses or labels. The system supports different tasks such as answer generation and label generation through marginalization.'"
            ],
            "application/vnd.google.colaboratory.intrinsic+json": {
              "type": "string"
            }
          },
          "metadata": {},
          "execution_count": 63
        }
      ]
    },
    {
      "cell_type": "markdown",
      "source": [
        "# Creating a MultiVector Retriever"
      ],
      "metadata": {
        "id": "KYQL0EMtt0IN"
      }
    },
    {
      "cell_type": "code",
      "source": [
        "!pip install langchain_community"
      ],
      "metadata": {
        "colab": {
          "base_uri": "https://localhost:8080/",
          "height": 1000
        },
        "id": "EahOxJ-muI-Z",
        "outputId": "53ba2b56-6ad3-4859-e226-80e67dfbdf9b"
      },
      "execution_count": 65,
      "outputs": [
        {
          "output_type": "stream",
          "name": "stdout",
          "text": [
            "Collecting langchain_community\n",
            "  Downloading langchain_community-0.3.30-py3-none-any.whl.metadata (3.0 kB)\n",
            "Requirement already satisfied: langchain-core<2.0.0,>=0.3.75 in /usr/local/lib/python3.12/dist-packages (from langchain_community) (0.3.77)\n",
            "Requirement already satisfied: langchain<2.0.0,>=0.3.27 in /usr/local/lib/python3.12/dist-packages (from langchain_community) (0.3.27)\n",
            "Requirement already satisfied: SQLAlchemy<3.0.0,>=1.4.0 in /usr/local/lib/python3.12/dist-packages (from langchain_community) (2.0.43)\n",
            "Collecting requests<3.0.0,>=2.32.5 (from langchain_community)\n",
            "  Downloading requests-2.32.5-py3-none-any.whl.metadata (4.9 kB)\n",
            "Requirement already satisfied: PyYAML<7.0.0,>=5.3.0 in /usr/local/lib/python3.12/dist-packages (from langchain_community) (6.0.3)\n",
            "Requirement already satisfied: aiohttp<4.0.0,>=3.8.3 in /usr/local/lib/python3.12/dist-packages (from langchain_community) (3.12.15)\n",
            "Requirement already satisfied: tenacity!=8.4.0,<10.0.0,>=8.1.0 in /usr/local/lib/python3.12/dist-packages (from langchain_community) (8.5.0)\n",
            "Requirement already satisfied: dataclasses-json<0.7.0,>=0.6.7 in /usr/local/lib/python3.12/dist-packages (from langchain_community) (0.6.7)\n",
            "Requirement already satisfied: pydantic-settings<3.0.0,>=2.10.1 in /usr/local/lib/python3.12/dist-packages (from langchain_community) (2.11.0)\n",
            "Requirement already satisfied: langsmith<1.0.0,>=0.1.125 in /usr/local/lib/python3.12/dist-packages (from langchain_community) (0.4.31)\n",
            "Requirement already satisfied: httpx-sse<1.0.0,>=0.4.0 in /usr/local/lib/python3.12/dist-packages (from langchain_community) (0.4.1)\n",
            "Requirement already satisfied: numpy>=1.26.2 in /usr/local/lib/python3.12/dist-packages (from langchain_community) (2.0.2)\n",
            "Requirement already satisfied: aiohappyeyeballs>=2.5.0 in /usr/local/lib/python3.12/dist-packages (from aiohttp<4.0.0,>=3.8.3->langchain_community) (2.6.1)\n",
            "Requirement already satisfied: aiosignal>=1.4.0 in /usr/local/lib/python3.12/dist-packages (from aiohttp<4.0.0,>=3.8.3->langchain_community) (1.4.0)\n",
            "Requirement already satisfied: attrs>=17.3.0 in /usr/local/lib/python3.12/dist-packages (from aiohttp<4.0.0,>=3.8.3->langchain_community) (25.3.0)\n",
            "Requirement already satisfied: frozenlist>=1.1.1 in /usr/local/lib/python3.12/dist-packages (from aiohttp<4.0.0,>=3.8.3->langchain_community) (1.7.0)\n",
            "Requirement already satisfied: multidict<7.0,>=4.5 in /usr/local/lib/python3.12/dist-packages (from aiohttp<4.0.0,>=3.8.3->langchain_community) (6.6.4)\n",
            "Requirement already satisfied: propcache>=0.2.0 in /usr/local/lib/python3.12/dist-packages (from aiohttp<4.0.0,>=3.8.3->langchain_community) (0.3.2)\n",
            "Requirement already satisfied: yarl<2.0,>=1.17.0 in /usr/local/lib/python3.12/dist-packages (from aiohttp<4.0.0,>=3.8.3->langchain_community) (1.20.1)\n",
            "Requirement already satisfied: marshmallow<4.0.0,>=3.18.0 in /usr/local/lib/python3.12/dist-packages (from dataclasses-json<0.7.0,>=0.6.7->langchain_community) (3.26.1)\n",
            "Requirement already satisfied: typing-inspect<1,>=0.4.0 in /usr/local/lib/python3.12/dist-packages (from dataclasses-json<0.7.0,>=0.6.7->langchain_community) (0.9.0)\n",
            "Requirement already satisfied: langchain-text-splitters<1.0.0,>=0.3.9 in /usr/local/lib/python3.12/dist-packages (from langchain<2.0.0,>=0.3.27->langchain_community) (0.3.11)\n",
            "Requirement already satisfied: pydantic<3.0.0,>=2.7.4 in /usr/local/lib/python3.12/dist-packages (from langchain<2.0.0,>=0.3.27->langchain_community) (2.11.9)\n",
            "Requirement already satisfied: jsonpatch<2.0.0,>=1.33.0 in /usr/local/lib/python3.12/dist-packages (from langchain-core<2.0.0,>=0.3.75->langchain_community) (1.33)\n",
            "Requirement already satisfied: typing-extensions<5.0.0,>=4.7.0 in /usr/local/lib/python3.12/dist-packages (from langchain-core<2.0.0,>=0.3.75->langchain_community) (4.15.0)\n",
            "Requirement already satisfied: packaging<26.0.0,>=23.2.0 in /usr/local/lib/python3.12/dist-packages (from langchain-core<2.0.0,>=0.3.75->langchain_community) (25.0)\n",
            "Requirement already satisfied: httpx<1,>=0.23.0 in /usr/local/lib/python3.12/dist-packages (from langsmith<1.0.0,>=0.1.125->langchain_community) (0.28.1)\n",
            "Requirement already satisfied: orjson>=3.9.14 in /usr/local/lib/python3.12/dist-packages (from langsmith<1.0.0,>=0.1.125->langchain_community) (3.11.3)\n",
            "Requirement already satisfied: requests-toolbelt>=1.0.0 in /usr/local/lib/python3.12/dist-packages (from langsmith<1.0.0,>=0.1.125->langchain_community) (1.0.0)\n",
            "Requirement already satisfied: zstandard>=0.23.0 in /usr/local/lib/python3.12/dist-packages (from langsmith<1.0.0,>=0.1.125->langchain_community) (0.25.0)\n",
            "Requirement already satisfied: python-dotenv>=0.21.0 in /usr/local/lib/python3.12/dist-packages (from pydantic-settings<3.0.0,>=2.10.1->langchain_community) (1.1.1)\n",
            "Requirement already satisfied: typing-inspection>=0.4.0 in /usr/local/lib/python3.12/dist-packages (from pydantic-settings<3.0.0,>=2.10.1->langchain_community) (0.4.2)\n",
            "Requirement already satisfied: charset_normalizer<4,>=2 in /usr/local/lib/python3.12/dist-packages (from requests<3.0.0,>=2.32.5->langchain_community) (3.4.3)\n",
            "Requirement already satisfied: idna<4,>=2.5 in /usr/local/lib/python3.12/dist-packages (from requests<3.0.0,>=2.32.5->langchain_community) (3.10)\n",
            "Requirement already satisfied: urllib3<3,>=1.21.1 in /usr/local/lib/python3.12/dist-packages (from requests<3.0.0,>=2.32.5->langchain_community) (2.5.0)\n",
            "Requirement already satisfied: certifi>=2017.4.17 in /usr/local/lib/python3.12/dist-packages (from requests<3.0.0,>=2.32.5->langchain_community) (2025.8.3)\n",
            "Requirement already satisfied: greenlet>=1 in /usr/local/lib/python3.12/dist-packages (from SQLAlchemy<3.0.0,>=1.4.0->langchain_community) (3.2.4)\n",
            "Requirement already satisfied: anyio in /usr/local/lib/python3.12/dist-packages (from httpx<1,>=0.23.0->langsmith<1.0.0,>=0.1.125->langchain_community) (4.11.0)\n",
            "Requirement already satisfied: httpcore==1.* in /usr/local/lib/python3.12/dist-packages (from httpx<1,>=0.23.0->langsmith<1.0.0,>=0.1.125->langchain_community) (1.0.9)\n",
            "Requirement already satisfied: h11>=0.16 in /usr/local/lib/python3.12/dist-packages (from httpcore==1.*->httpx<1,>=0.23.0->langsmith<1.0.0,>=0.1.125->langchain_community) (0.16.0)\n",
            "Requirement already satisfied: jsonpointer>=1.9 in /usr/local/lib/python3.12/dist-packages (from jsonpatch<2.0.0,>=1.33.0->langchain-core<2.0.0,>=0.3.75->langchain_community) (3.0.0)\n",
            "Requirement already satisfied: annotated-types>=0.6.0 in /usr/local/lib/python3.12/dist-packages (from pydantic<3.0.0,>=2.7.4->langchain<2.0.0,>=0.3.27->langchain_community) (0.7.0)\n",
            "Requirement already satisfied: pydantic-core==2.33.2 in /usr/local/lib/python3.12/dist-packages (from pydantic<3.0.0,>=2.7.4->langchain<2.0.0,>=0.3.27->langchain_community) (2.33.2)\n",
            "Requirement already satisfied: mypy-extensions>=0.3.0 in /usr/local/lib/python3.12/dist-packages (from typing-inspect<1,>=0.4.0->dataclasses-json<0.7.0,>=0.6.7->langchain_community) (1.1.0)\n",
            "Requirement already satisfied: sniffio>=1.1 in /usr/local/lib/python3.12/dist-packages (from anyio->httpx<1,>=0.23.0->langsmith<1.0.0,>=0.1.125->langchain_community) (1.3.1)\n",
            "Downloading langchain_community-0.3.30-py3-none-any.whl (2.5 MB)\n",
            "\u001b[2K   \u001b[90m━━━━━━━━━━━━━━━━━━━━━━━━━━━━━━━━━━━━━━━━\u001b[0m \u001b[32m2.5/2.5 MB\u001b[0m \u001b[31m43.2 MB/s\u001b[0m eta \u001b[36m0:00:00\u001b[0m\n",
            "\u001b[?25hDownloading requests-2.32.5-py3-none-any.whl (64 kB)\n",
            "\u001b[2K   \u001b[90m━━━━━━━━━━━━━━━━━━━━━━━━━━━━━━━━━━━━━━━━\u001b[0m \u001b[32m64.7/64.7 kB\u001b[0m \u001b[31m5.7 MB/s\u001b[0m eta \u001b[36m0:00:00\u001b[0m\n",
            "\u001b[?25hInstalling collected packages: requests, langchain_community\n",
            "  Attempting uninstall: requests\n",
            "    Found existing installation: requests 2.32.4\n",
            "    Uninstalling requests-2.32.4:\n",
            "      Successfully uninstalled requests-2.32.4\n",
            "\u001b[31mERROR: pip's dependency resolver does not currently take into account all the packages that are installed. This behaviour is the source of the following dependency conflicts.\n",
            "google-colab 1.0.0 requires requests==2.32.4, but you have requests 2.32.5 which is incompatible.\u001b[0m\u001b[31m\n",
            "\u001b[0mSuccessfully installed langchain_community-0.3.30 requests-2.32.5\n"
          ]
        },
        {
          "output_type": "display_data",
          "data": {
            "application/vnd.colab-display-data+json": {
              "pip_warning": {
                "packages": [
                  "requests"
                ]
              },
              "id": "f95f5d08d26046019efa73d91ef018dc"
            }
          },
          "metadata": {}
        }
      ]
    },
    {
      "cell_type": "code",
      "source": [
        "!pip install chromadb"
      ],
      "metadata": {
        "colab": {
          "base_uri": "https://localhost:8080/",
          "height": 1000
        },
        "id": "yJZVPTQRuUuu",
        "outputId": "ec6664ed-e515-43c1-9ddc-701003b142dd"
      },
      "execution_count": 68,
      "outputs": [
        {
          "output_type": "stream",
          "name": "stdout",
          "text": [
            "Collecting chromadb\n",
            "  Downloading chromadb-1.1.0-cp39-abi3-manylinux_2_17_x86_64.manylinux2014_x86_64.whl.metadata (7.2 kB)\n",
            "Requirement already satisfied: build>=1.0.3 in /usr/local/lib/python3.12/dist-packages (from chromadb) (1.3.0)\n",
            "Requirement already satisfied: pydantic>=1.9 in /usr/local/lib/python3.12/dist-packages (from chromadb) (2.11.9)\n",
            "Collecting pybase64>=1.4.1 (from chromadb)\n",
            "  Downloading pybase64-1.4.2-cp312-cp312-manylinux1_x86_64.manylinux2014_x86_64.manylinux_2_17_x86_64.manylinux_2_5_x86_64.whl.metadata (8.7 kB)\n",
            "Requirement already satisfied: uvicorn>=0.18.3 in /usr/local/lib/python3.12/dist-packages (from uvicorn[standard]>=0.18.3->chromadb) (0.37.0)\n",
            "Requirement already satisfied: numpy>=1.22.5 in /usr/local/lib/python3.12/dist-packages (from chromadb) (2.0.2)\n",
            "Collecting posthog<6.0.0,>=2.4.0 (from chromadb)\n",
            "  Downloading posthog-5.4.0-py3-none-any.whl.metadata (5.7 kB)\n",
            "Requirement already satisfied: typing-extensions>=4.5.0 in /usr/local/lib/python3.12/dist-packages (from chromadb) (4.15.0)\n",
            "Requirement already satisfied: onnxruntime>=1.14.1 in /usr/local/lib/python3.12/dist-packages (from chromadb) (1.23.0)\n",
            "Requirement already satisfied: opentelemetry-api>=1.2.0 in /usr/local/lib/python3.12/dist-packages (from chromadb) (1.37.0)\n",
            "Collecting opentelemetry-exporter-otlp-proto-grpc>=1.2.0 (from chromadb)\n",
            "  Downloading opentelemetry_exporter_otlp_proto_grpc-1.37.0-py3-none-any.whl.metadata (2.4 kB)\n",
            "Requirement already satisfied: opentelemetry-sdk>=1.2.0 in /usr/local/lib/python3.12/dist-packages (from chromadb) (1.37.0)\n",
            "Requirement already satisfied: tokenizers>=0.13.2 in /usr/local/lib/python3.12/dist-packages (from chromadb) (0.22.1)\n",
            "Collecting pypika>=0.48.9 (from chromadb)\n",
            "  Downloading PyPika-0.48.9.tar.gz (67 kB)\n",
            "\u001b[2K     \u001b[90m━━━━━━━━━━━━━━━━━━━━━━━━━━━━━━━━━━━━━━━━\u001b[0m \u001b[32m67.3/67.3 kB\u001b[0m \u001b[31m3.6 MB/s\u001b[0m eta \u001b[36m0:00:00\u001b[0m\n",
            "\u001b[?25h  Installing build dependencies ... \u001b[?25l\u001b[?25hdone\n",
            "  Getting requirements to build wheel ... \u001b[?25l\u001b[?25hdone\n",
            "  Preparing metadata (pyproject.toml) ... \u001b[?25l\u001b[?25hdone\n",
            "Requirement already satisfied: tqdm>=4.65.0 in /usr/local/lib/python3.12/dist-packages (from chromadb) (4.67.1)\n",
            "Requirement already satisfied: overrides>=7.3.1 in /usr/local/lib/python3.12/dist-packages (from chromadb) (7.7.0)\n",
            "Requirement already satisfied: importlib-resources in /usr/local/lib/python3.12/dist-packages (from chromadb) (6.5.2)\n",
            "Requirement already satisfied: grpcio>=1.58.0 in /usr/local/lib/python3.12/dist-packages (from chromadb) (1.75.1)\n",
            "Collecting bcrypt>=4.0.1 (from chromadb)\n",
            "  Downloading bcrypt-5.0.0-cp39-abi3-manylinux_2_34_x86_64.whl.metadata (10 kB)\n",
            "Requirement already satisfied: typer>=0.9.0 in /usr/local/lib/python3.12/dist-packages (from chromadb) (0.19.2)\n",
            "Collecting kubernetes>=28.1.0 (from chromadb)\n",
            "  Downloading kubernetes-34.1.0-py2.py3-none-any.whl.metadata (1.7 kB)\n",
            "Requirement already satisfied: tenacity>=8.2.3 in /usr/local/lib/python3.12/dist-packages (from chromadb) (8.5.0)\n",
            "Requirement already satisfied: pyyaml>=6.0.0 in /usr/local/lib/python3.12/dist-packages (from chromadb) (6.0.3)\n",
            "Collecting mmh3>=4.0.1 (from chromadb)\n",
            "  Downloading mmh3-5.2.0-cp312-cp312-manylinux1_x86_64.manylinux_2_28_x86_64.manylinux_2_5_x86_64.whl.metadata (14 kB)\n",
            "Requirement already satisfied: orjson>=3.9.12 in /usr/local/lib/python3.12/dist-packages (from chromadb) (3.11.3)\n",
            "Requirement already satisfied: httpx>=0.27.0 in /usr/local/lib/python3.12/dist-packages (from chromadb) (0.28.1)\n",
            "Requirement already satisfied: rich>=10.11.0 in /usr/local/lib/python3.12/dist-packages (from chromadb) (13.9.4)\n",
            "Requirement already satisfied: jsonschema>=4.19.0 in /usr/local/lib/python3.12/dist-packages (from chromadb) (4.25.1)\n",
            "Requirement already satisfied: packaging>=19.1 in /usr/local/lib/python3.12/dist-packages (from build>=1.0.3->chromadb) (25.0)\n",
            "Requirement already satisfied: pyproject_hooks in /usr/local/lib/python3.12/dist-packages (from build>=1.0.3->chromadb) (1.2.0)\n",
            "Requirement already satisfied: anyio in /usr/local/lib/python3.12/dist-packages (from httpx>=0.27.0->chromadb) (4.11.0)\n",
            "Requirement already satisfied: certifi in /usr/local/lib/python3.12/dist-packages (from httpx>=0.27.0->chromadb) (2025.8.3)\n",
            "Requirement already satisfied: httpcore==1.* in /usr/local/lib/python3.12/dist-packages (from httpx>=0.27.0->chromadb) (1.0.9)\n",
            "Requirement already satisfied: idna in /usr/local/lib/python3.12/dist-packages (from httpx>=0.27.0->chromadb) (3.10)\n",
            "Requirement already satisfied: h11>=0.16 in /usr/local/lib/python3.12/dist-packages (from httpcore==1.*->httpx>=0.27.0->chromadb) (0.16.0)\n",
            "Requirement already satisfied: attrs>=22.2.0 in /usr/local/lib/python3.12/dist-packages (from jsonschema>=4.19.0->chromadb) (25.3.0)\n",
            "Requirement already satisfied: jsonschema-specifications>=2023.03.6 in /usr/local/lib/python3.12/dist-packages (from jsonschema>=4.19.0->chromadb) (2025.9.1)\n",
            "Requirement already satisfied: referencing>=0.28.4 in /usr/local/lib/python3.12/dist-packages (from jsonschema>=4.19.0->chromadb) (0.36.2)\n",
            "Requirement already satisfied: rpds-py>=0.7.1 in /usr/local/lib/python3.12/dist-packages (from jsonschema>=4.19.0->chromadb) (0.27.1)\n",
            "Requirement already satisfied: six>=1.9.0 in /usr/local/lib/python3.12/dist-packages (from kubernetes>=28.1.0->chromadb) (1.17.0)\n",
            "Requirement already satisfied: python-dateutil>=2.5.3 in /usr/local/lib/python3.12/dist-packages (from kubernetes>=28.1.0->chromadb) (2.9.0.post0)\n",
            "Requirement already satisfied: google-auth>=1.0.1 in /usr/local/lib/python3.12/dist-packages (from kubernetes>=28.1.0->chromadb) (2.38.0)\n",
            "Requirement already satisfied: websocket-client!=0.40.0,!=0.41.*,!=0.42.*,>=0.32.0 in /usr/local/lib/python3.12/dist-packages (from kubernetes>=28.1.0->chromadb) (1.8.0)\n",
            "Requirement already satisfied: requests in /usr/local/lib/python3.12/dist-packages (from kubernetes>=28.1.0->chromadb) (2.32.5)\n",
            "Requirement already satisfied: requests-oauthlib in /usr/local/lib/python3.12/dist-packages (from kubernetes>=28.1.0->chromadb) (2.0.0)\n",
            "Collecting urllib3<2.4.0,>=1.24.2 (from kubernetes>=28.1.0->chromadb)\n",
            "  Downloading urllib3-2.3.0-py3-none-any.whl.metadata (6.5 kB)\n",
            "Collecting durationpy>=0.7 (from kubernetes>=28.1.0->chromadb)\n",
            "  Downloading durationpy-0.10-py3-none-any.whl.metadata (340 bytes)\n",
            "Requirement already satisfied: coloredlogs in /usr/local/lib/python3.12/dist-packages (from onnxruntime>=1.14.1->chromadb) (15.0.1)\n",
            "Requirement already satisfied: flatbuffers in /usr/local/lib/python3.12/dist-packages (from onnxruntime>=1.14.1->chromadb) (25.9.23)\n",
            "Requirement already satisfied: protobuf in /usr/local/lib/python3.12/dist-packages (from onnxruntime>=1.14.1->chromadb) (5.29.5)\n",
            "Requirement already satisfied: sympy in /usr/local/lib/python3.12/dist-packages (from onnxruntime>=1.14.1->chromadb) (1.13.3)\n",
            "Requirement already satisfied: importlib-metadata<8.8.0,>=6.0 in /usr/local/lib/python3.12/dist-packages (from opentelemetry-api>=1.2.0->chromadb) (8.7.0)\n",
            "Requirement already satisfied: googleapis-common-protos~=1.57 in /usr/local/lib/python3.12/dist-packages (from opentelemetry-exporter-otlp-proto-grpc>=1.2.0->chromadb) (1.70.0)\n",
            "Requirement already satisfied: opentelemetry-exporter-otlp-proto-common==1.37.0 in /usr/local/lib/python3.12/dist-packages (from opentelemetry-exporter-otlp-proto-grpc>=1.2.0->chromadb) (1.37.0)\n",
            "Requirement already satisfied: opentelemetry-proto==1.37.0 in /usr/local/lib/python3.12/dist-packages (from opentelemetry-exporter-otlp-proto-grpc>=1.2.0->chromadb) (1.37.0)\n",
            "Requirement already satisfied: opentelemetry-semantic-conventions==0.58b0 in /usr/local/lib/python3.12/dist-packages (from opentelemetry-sdk>=1.2.0->chromadb) (0.58b0)\n",
            "Requirement already satisfied: backoff>=1.10.0 in /usr/local/lib/python3.12/dist-packages (from posthog<6.0.0,>=2.4.0->chromadb) (2.2.1)\n",
            "Requirement already satisfied: distro>=1.5.0 in /usr/local/lib/python3.12/dist-packages (from posthog<6.0.0,>=2.4.0->chromadb) (1.9.0)\n",
            "Requirement already satisfied: annotated-types>=0.6.0 in /usr/local/lib/python3.12/dist-packages (from pydantic>=1.9->chromadb) (0.7.0)\n",
            "Requirement already satisfied: pydantic-core==2.33.2 in /usr/local/lib/python3.12/dist-packages (from pydantic>=1.9->chromadb) (2.33.2)\n",
            "Requirement already satisfied: typing-inspection>=0.4.0 in /usr/local/lib/python3.12/dist-packages (from pydantic>=1.9->chromadb) (0.4.2)\n",
            "Requirement already satisfied: markdown-it-py>=2.2.0 in /usr/local/lib/python3.12/dist-packages (from rich>=10.11.0->chromadb) (4.0.0)\n",
            "Requirement already satisfied: pygments<3.0.0,>=2.13.0 in /usr/local/lib/python3.12/dist-packages (from rich>=10.11.0->chromadb) (2.19.2)\n",
            "Requirement already satisfied: huggingface-hub<2.0,>=0.16.4 in /usr/local/lib/python3.12/dist-packages (from tokenizers>=0.13.2->chromadb) (0.35.3)\n",
            "Requirement already satisfied: click>=8.0.0 in /usr/local/lib/python3.12/dist-packages (from typer>=0.9.0->chromadb) (8.3.0)\n",
            "Requirement already satisfied: shellingham>=1.3.0 in /usr/local/lib/python3.12/dist-packages (from typer>=0.9.0->chromadb) (1.5.4)\n",
            "Collecting httptools>=0.6.3 (from uvicorn[standard]>=0.18.3->chromadb)\n",
            "  Downloading httptools-0.6.4-cp312-cp312-manylinux_2_5_x86_64.manylinux1_x86_64.manylinux_2_17_x86_64.manylinux2014_x86_64.whl.metadata (3.6 kB)\n",
            "Requirement already satisfied: python-dotenv>=0.13 in /usr/local/lib/python3.12/dist-packages (from uvicorn[standard]>=0.18.3->chromadb) (1.1.1)\n",
            "Collecting uvloop>=0.15.1 (from uvicorn[standard]>=0.18.3->chromadb)\n",
            "  Downloading uvloop-0.21.0-cp312-cp312-manylinux_2_17_x86_64.manylinux2014_x86_64.whl.metadata (4.9 kB)\n",
            "Collecting watchfiles>=0.13 (from uvicorn[standard]>=0.18.3->chromadb)\n",
            "  Downloading watchfiles-1.1.0-cp312-cp312-manylinux_2_17_x86_64.manylinux2014_x86_64.whl.metadata (4.9 kB)\n",
            "Requirement already satisfied: websockets>=10.4 in /usr/local/lib/python3.12/dist-packages (from uvicorn[standard]>=0.18.3->chromadb) (15.0.1)\n",
            "Requirement already satisfied: cachetools<6.0,>=2.0.0 in /usr/local/lib/python3.12/dist-packages (from google-auth>=1.0.1->kubernetes>=28.1.0->chromadb) (5.5.2)\n",
            "Requirement already satisfied: pyasn1-modules>=0.2.1 in /usr/local/lib/python3.12/dist-packages (from google-auth>=1.0.1->kubernetes>=28.1.0->chromadb) (0.4.2)\n",
            "Requirement already satisfied: rsa<5,>=3.1.4 in /usr/local/lib/python3.12/dist-packages (from google-auth>=1.0.1->kubernetes>=28.1.0->chromadb) (4.9.1)\n",
            "Requirement already satisfied: filelock in /usr/local/lib/python3.12/dist-packages (from huggingface-hub<2.0,>=0.16.4->tokenizers>=0.13.2->chromadb) (3.19.1)\n",
            "Requirement already satisfied: fsspec>=2023.5.0 in /usr/local/lib/python3.12/dist-packages (from huggingface-hub<2.0,>=0.16.4->tokenizers>=0.13.2->chromadb) (2025.3.0)\n",
            "Requirement already satisfied: hf-xet<2.0.0,>=1.1.3 in /usr/local/lib/python3.12/dist-packages (from huggingface-hub<2.0,>=0.16.4->tokenizers>=0.13.2->chromadb) (1.1.10)\n",
            "Requirement already satisfied: zipp>=3.20 in /usr/local/lib/python3.12/dist-packages (from importlib-metadata<8.8.0,>=6.0->opentelemetry-api>=1.2.0->chromadb) (3.23.0)\n",
            "Requirement already satisfied: mdurl~=0.1 in /usr/local/lib/python3.12/dist-packages (from markdown-it-py>=2.2.0->rich>=10.11.0->chromadb) (0.1.2)\n",
            "Requirement already satisfied: charset_normalizer<4,>=2 in /usr/local/lib/python3.12/dist-packages (from requests->kubernetes>=28.1.0->chromadb) (3.4.3)\n",
            "Requirement already satisfied: sniffio>=1.1 in /usr/local/lib/python3.12/dist-packages (from anyio->httpx>=0.27.0->chromadb) (1.3.1)\n",
            "Requirement already satisfied: humanfriendly>=9.1 in /usr/local/lib/python3.12/dist-packages (from coloredlogs->onnxruntime>=1.14.1->chromadb) (10.0)\n",
            "Requirement already satisfied: oauthlib>=3.0.0 in /usr/local/lib/python3.12/dist-packages (from requests-oauthlib->kubernetes>=28.1.0->chromadb) (3.3.1)\n",
            "Requirement already satisfied: mpmath<1.4,>=1.1.0 in /usr/local/lib/python3.12/dist-packages (from sympy->onnxruntime>=1.14.1->chromadb) (1.3.0)\n",
            "Requirement already satisfied: pyasn1<0.7.0,>=0.6.1 in /usr/local/lib/python3.12/dist-packages (from pyasn1-modules>=0.2.1->google-auth>=1.0.1->kubernetes>=28.1.0->chromadb) (0.6.1)\n",
            "Downloading chromadb-1.1.0-cp39-abi3-manylinux_2_17_x86_64.manylinux2014_x86_64.whl (19.8 MB)\n",
            "\u001b[2K   \u001b[90m━━━━━━━━━━━━━━━━━━━━━━━━━━━━━━━━━━━━━━━━\u001b[0m \u001b[32m19.8/19.8 MB\u001b[0m \u001b[31m119.5 MB/s\u001b[0m eta \u001b[36m0:00:00\u001b[0m\n",
            "\u001b[?25hDownloading bcrypt-5.0.0-cp39-abi3-manylinux_2_34_x86_64.whl (278 kB)\n",
            "\u001b[2K   \u001b[90m━━━━━━━━━━━━━━━━━━━━━━━━━━━━━━━━━━━━━━━━\u001b[0m \u001b[32m278.2/278.2 kB\u001b[0m \u001b[31m27.9 MB/s\u001b[0m eta \u001b[36m0:00:00\u001b[0m\n",
            "\u001b[?25hDownloading kubernetes-34.1.0-py2.py3-none-any.whl (2.0 MB)\n",
            "\u001b[2K   \u001b[90m━━━━━━━━━━━━━━━━━━━━━━━━━━━━━━━━━━━━━━━━\u001b[0m \u001b[32m2.0/2.0 MB\u001b[0m \u001b[31m82.7 MB/s\u001b[0m eta \u001b[36m0:00:00\u001b[0m\n",
            "\u001b[?25hDownloading mmh3-5.2.0-cp312-cp312-manylinux1_x86_64.manylinux_2_28_x86_64.manylinux_2_5_x86_64.whl (103 kB)\n",
            "\u001b[2K   \u001b[90m━━━━━━━━━━━━━━━━━━━━━━━━━━━━━━━━━━━━━━━━\u001b[0m \u001b[32m103.3/103.3 kB\u001b[0m \u001b[31m10.2 MB/s\u001b[0m eta \u001b[36m0:00:00\u001b[0m\n",
            "\u001b[?25hDownloading opentelemetry_exporter_otlp_proto_grpc-1.37.0-py3-none-any.whl (19 kB)\n",
            "Downloading posthog-5.4.0-py3-none-any.whl (105 kB)\n",
            "\u001b[2K   \u001b[90m━━━━━━━━━━━━━━━━━━━━━━━━━━━━━━━━━━━━━━━━\u001b[0m \u001b[32m105.4/105.4 kB\u001b[0m \u001b[31m12.0 MB/s\u001b[0m eta \u001b[36m0:00:00\u001b[0m\n",
            "\u001b[?25hDownloading pybase64-1.4.2-cp312-cp312-manylinux1_x86_64.manylinux2014_x86_64.manylinux_2_17_x86_64.manylinux_2_5_x86_64.whl (71 kB)\n",
            "\u001b[2K   \u001b[90m━━━━━━━━━━━━━━━━━━━━━━━━━━━━━━━━━━━━━━━━\u001b[0m \u001b[32m71.6/71.6 kB\u001b[0m \u001b[31m7.0 MB/s\u001b[0m eta \u001b[36m0:00:00\u001b[0m\n",
            "\u001b[?25hDownloading durationpy-0.10-py3-none-any.whl (3.9 kB)\n",
            "Downloading httptools-0.6.4-cp312-cp312-manylinux_2_5_x86_64.manylinux1_x86_64.manylinux_2_17_x86_64.manylinux2014_x86_64.whl (510 kB)\n",
            "\u001b[2K   \u001b[90m━━━━━━━━━━━━━━━━━━━━━━━━━━━━━━━━━━━━━━━━\u001b[0m \u001b[32m510.8/510.8 kB\u001b[0m \u001b[31m44.6 MB/s\u001b[0m eta \u001b[36m0:00:00\u001b[0m\n",
            "\u001b[?25hDownloading urllib3-2.3.0-py3-none-any.whl (128 kB)\n",
            "\u001b[2K   \u001b[90m━━━━━━━━━━━━━━━━━━━━━━━━━━━━━━━━━━━━━━━━\u001b[0m \u001b[32m128.4/128.4 kB\u001b[0m \u001b[31m12.6 MB/s\u001b[0m eta \u001b[36m0:00:00\u001b[0m\n",
            "\u001b[?25hDownloading uvloop-0.21.0-cp312-cp312-manylinux_2_17_x86_64.manylinux2014_x86_64.whl (4.7 MB)\n",
            "\u001b[2K   \u001b[90m━━━━━━━━━━━━━━━━━━━━━━━━━━━━━━━━━━━━━━━━\u001b[0m \u001b[32m4.7/4.7 MB\u001b[0m \u001b[31m128.4 MB/s\u001b[0m eta \u001b[36m0:00:00\u001b[0m\n",
            "\u001b[?25hDownloading watchfiles-1.1.0-cp312-cp312-manylinux_2_17_x86_64.manylinux2014_x86_64.whl (452 kB)\n",
            "\u001b[2K   \u001b[90m━━━━━━━━━━━━━━━━━━━━━━━━━━━━━━━━━━━━━━━━\u001b[0m \u001b[32m452.2/452.2 kB\u001b[0m \u001b[31m39.2 MB/s\u001b[0m eta \u001b[36m0:00:00\u001b[0m\n",
            "\u001b[?25hBuilding wheels for collected packages: pypika\n",
            "  Building wheel for pypika (pyproject.toml) ... \u001b[?25l\u001b[?25hdone\n",
            "  Created wheel for pypika: filename=pypika-0.48.9-py2.py3-none-any.whl size=53803 sha256=b3c749c618d8cdbd0e0ef33a5a8242c8cbdb8939ff80a45e2acd5a7a725b1176\n",
            "  Stored in directory: /root/.cache/pip/wheels/d5/3d/69/8d68d249cd3de2584f226e27fd431d6344f7d70fd856ebd01b\n",
            "Successfully built pypika\n",
            "Installing collected packages: pypika, durationpy, uvloop, urllib3, pybase64, mmh3, httptools, bcrypt, watchfiles, posthog, kubernetes, opentelemetry-exporter-otlp-proto-grpc, chromadb\n",
            "  Attempting uninstall: urllib3\n",
            "    Found existing installation: urllib3 2.5.0\n",
            "    Uninstalling urllib3-2.5.0:\n",
            "      Successfully uninstalled urllib3-2.5.0\n",
            "\u001b[31mERROR: pip's dependency resolver does not currently take into account all the packages that are installed. This behaviour is the source of the following dependency conflicts.\n",
            "google-colab 1.0.0 requires requests==2.32.4, but you have requests 2.32.5 which is incompatible.\u001b[0m\u001b[31m\n",
            "\u001b[0mSuccessfully installed bcrypt-5.0.0 chromadb-1.1.0 durationpy-0.10 httptools-0.6.4 kubernetes-34.1.0 mmh3-5.2.0 opentelemetry-exporter-otlp-proto-grpc-1.37.0 posthog-5.4.0 pybase64-1.4.2 pypika-0.48.9 urllib3-2.3.0 uvloop-0.21.0 watchfiles-1.1.0\n"
          ]
        },
        {
          "output_type": "display_data",
          "data": {
            "application/vnd.colab-display-data+json": {
              "pip_warning": {
                "packages": [
                  "opentelemetry",
                  "urllib3"
                ]
              },
              "id": "71576ecfc0a64d148363de71b51d77b4"
            }
          },
          "metadata": {}
        }
      ]
    },
    {
      "cell_type": "code",
      "source": [
        "import uuid\n",
        "\n",
        "from langchain.retrievers.multi_vector import MultiVectorRetriever\n",
        "from langchain.storage import InMemoryStore\n",
        "from langchain_community.vectorstores import Chroma\n",
        "from langchain_core.documents import Document\n",
        "from langchain_openai import OpenAIEmbeddings"
      ],
      "metadata": {
        "id": "HA5izJnzhgB3"
      },
      "execution_count": 66,
      "outputs": []
    },
    {
      "cell_type": "code",
      "source": [
        "def create_multi_vector_retriever(vectorstore, text_summaries, texts, table_summaries, tables, image_summaries, images):\n",
        "    \"\"\"\n",
        "    Create retriever that indexes summaries, but returns raw images or texts\n",
        "    \"\"\"\n",
        "\n",
        "    # Initialize the storage layer\n",
        "    store = InMemoryStore()\n",
        "    id_key = \"doc_id\"\n",
        "\n",
        "    # Create the multi-vector retriever\n",
        "    retriever = MultiVectorRetriever(\n",
        "        vectorstore=vectorstore,\n",
        "        docstore=store,\n",
        "        id_key=id_key,\n",
        "    )\n",
        "\n",
        "\n",
        "    # Helper function to add documents to the vectorstore and docstore\n",
        "    def add_documents(retriever, doc_summaries, doc_contents):\n",
        "\n",
        "      doc_ids = [str(uuid.uuid4()) for _ in doc_contents]\n",
        "\n",
        "      summary_docs = [\n",
        "              Document(page_content=s, metadata={id_key: doc_ids[i]})\n",
        "              for i, s in enumerate(doc_summaries)\n",
        "          ]\n",
        "\n",
        "      retriever.vectorstore.add_documents(summary_docs)\n",
        "      retriever.docstore.mset(list(zip(doc_ids, doc_contents)))\n",
        "\n",
        "    # Add texts, tables, and images\n",
        "    # Check that text_summaries is not empty before adding\n",
        "    if text_summaries:\n",
        "        add_documents(retriever, text_summaries, texts)\n",
        "    # Check that table_summaries is not empty before adding\n",
        "    if table_summaries:\n",
        "        add_documents(retriever, table_summaries, tab)\n",
        "    # Check that image_summaries is not empty before adding\n",
        "    if image_summaries:\n",
        "        add_documents(retriever, image_summaries, img)\n",
        "\n",
        "    return retriever\n",
        "\n",
        "vectorstore = Chroma(\n",
        "    collection_name=\"mm_rag\", embedding_function=OpenAIEmbeddings()\n",
        ")\n",
        "\n",
        "# Create retriever\n",
        "retriever_multi_vector_img = create_multi_vector_retriever(\n",
        "    vectorstore,\n",
        "    text_summaries,\n",
        "    NarrativeText,\n",
        "    table_summaries,\n",
        "    tab,\n",
        "    image_summaries,\n",
        "    img_base64_list,\n",
        ")"
      ],
      "metadata": {
        "id": "3Q-oFXkVt_XN"
      },
      "execution_count": 133,
      "outputs": []
    },
    {
      "cell_type": "code",
      "source": [
        "retriever_multi_vector_img"
      ],
      "metadata": {
        "colab": {
          "base_uri": "https://localhost:8080/"
        },
        "id": "YX-P1JkPuRow",
        "outputId": "2710a100-f9a7-4a33-b133-4388267ad086"
      },
      "execution_count": 134,
      "outputs": [
        {
          "output_type": "execute_result",
          "data": {
            "text/plain": [
              "MultiVectorRetriever(vectorstore=<langchain_community.vectorstores.chroma.Chroma object at 0x7a0b78d3e360>, docstore=<langchain_core.stores.InMemoryStore object at 0x7a0b78d7f470>, search_kwargs={})"
            ]
          },
          "metadata": {},
          "execution_count": 134
        }
      ]
    },
    {
      "cell_type": "code",
      "source": [
        "import io\n",
        "import re\n",
        "\n",
        "from IPython.display import HTML, display\n",
        "from PIL import Image"
      ],
      "metadata": {
        "id": "GWLYAv1GxURJ"
      },
      "execution_count": 135,
      "outputs": []
    },
    {
      "cell_type": "code",
      "source": [
        "def plt_img_base64(img_base64):\n",
        "    \"\"\"Disply base64 encoded string as image\"\"\"\n",
        "    # Create an HTML img tag with the base64 string as the source\n",
        "    image_html = f'<img src=\"data:image/jpeg;base64,{img_base64}\" />'\n",
        "    # Display the image by rendering the HTML\n",
        "    display(HTML(image_html))\n"
      ],
      "metadata": {
        "id": "GAd4GAWqxWF5"
      },
      "execution_count": 136,
      "outputs": []
    },
    {
      "cell_type": "code",
      "source": [
        "plt_img_base64(img_base64_list[0])"
      ],
      "metadata": {
        "colab": {
          "base_uri": "https://localhost:8080/",
          "height": 358
        },
        "id": "BOb6tmOZxXJy",
        "outputId": "f3cac587-5541-4c2f-a83e-fa3b6a30a619"
      },
      "execution_count": 80,
      "outputs": [
        {
          "output_type": "display_data",
          "data": {
            "text/plain": [
              "<IPython.core.display.HTML object>"
            ],
            "text/html": [
              "<img src=\"data:image/jpeg;base64,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\" />"
            ]
          },
          "metadata": {}
        }
      ]
    },
    {
      "cell_type": "code",
      "source": [
        "image_summaries[0]"
      ],
      "metadata": {
        "colab": {
          "base_uri": "https://localhost:8080/",
          "height": 105
        },
        "id": "TRoQKZxTxYXh",
        "outputId": "2b076e28-129c-4d26-e0a8-402cb2a71c59"
      },
      "execution_count": 81,
      "outputs": [
        {
          "output_type": "execute_result",
          "data": {
            "text/plain": [
              "'Diagram illustrating an end-to-end system for question answering and fact verification. It includes a query encoder, non-parametric retriever, and parametric generator. Inputs like \"Define \\'middle ear\\'\" and \"Barack Obama was born in Hawaii\" are processed through modules for transforming queries, retrieving documents, and generating responses or labels. The system supports different tasks such as answer generation and label generation through marginalization.'"
            ],
            "application/vnd.google.colaboratory.intrinsic+json": {
              "type": "string"
            }
          },
          "metadata": {},
          "execution_count": 81
        }
      ]
    },
    {
      "cell_type": "code",
      "source": [
        "def looks_like_base64(sb):\n",
        "    \"\"\"Check if the string looks like base64\"\"\"\n",
        "    return re.match(\"^[A-Za-z0-9+/]+[=]{0,2}$\", sb) is not None\n"
      ],
      "metadata": {
        "id": "2y-lM9IOxgMO"
      },
      "execution_count": 82,
      "outputs": []
    },
    {
      "cell_type": "code",
      "source": [
        "def is_image_data(b64data):\n",
        "    \"\"\"\n",
        "    Check if the base64 data is an image by looking at the start of the data\n",
        "    \"\"\"\n",
        "    image_signatures = {\n",
        "        b\"\\xFF\\xD8\\xFF\": \"jpg\",\n",
        "        b\"\\x89\\x50\\x4E\\x47\\x0D\\x0A\\x1A\\x0A\": \"png\",\n",
        "        b\"\\x47\\x49\\x46\\x38\": \"gif\",\n",
        "        b\"\\x52\\x49\\x46\\x46\": \"webp\",\n",
        "    }\n",
        "    try:\n",
        "        header = base64.b64decode(b64data)[:8]  # Decode and get the first 8 bytes\n",
        "        for sig, format in image_signatures.items():\n",
        "            if header.startswith(sig):\n",
        "                return True\n",
        "        return False\n",
        "    except Exception:\n",
        "        return False"
      ],
      "metadata": {
        "id": "-cte6Px3xiSV"
      },
      "execution_count": 83,
      "outputs": []
    },
    {
      "cell_type": "code",
      "source": [
        "def resize_base64_image(base64_string, size=(128, 128)):\n",
        "    \"\"\"\n",
        "    Resize an image encoded as a Base64 string\n",
        "    \"\"\"\n",
        "    # Decode the Base64 string\n",
        "    img_data = base64.b64decode(base64_string)\n",
        "    img = Image.open(io.BytesIO(img_data))\n",
        "\n",
        "    # Resize the image\n",
        "    resized_img = img.resize(size, Image.LANCZOS)\n",
        "\n",
        "    # Save the resized image to a bytes buffer\n",
        "    buffered = io.BytesIO()\n",
        "    resized_img.save(buffered, format=img.format)\n",
        "\n",
        "    # Encode the resized image to Base64\n",
        "    return base64.b64encode(buffered.getvalue()).decode(\"utf-8\")"
      ],
      "metadata": {
        "id": "Pfs-p9Txxm-2"
      },
      "execution_count": 84,
      "outputs": []
    },
    {
      "cell_type": "code",
      "source": [
        "def split_image_text_types(docs):\n",
        "    \"\"\"\n",
        "    Split base64-encoded images and texts\n",
        "    \"\"\"\n",
        "    b64_images = []\n",
        "    texts = []\n",
        "\n",
        "    for doc in docs:\n",
        "        # Check if the document is of type Document and extract page_content if so\n",
        "        if isinstance(doc, Document):\n",
        "            doc = doc.page_content\n",
        "        if looks_like_base64(doc) and is_image_data(doc):\n",
        "            doc = resize_base64_image(doc, size=(1300, 600))\n",
        "            b64_images.append(doc)\n",
        "        else:\n",
        "            texts.append(doc)\n",
        "\n",
        "    return {\"images\": b64_images, \"texts\": texts}"
      ],
      "metadata": {
        "id": "J-UQQqsVxuES"
      },
      "execution_count": 85,
      "outputs": []
    },
    {
      "cell_type": "code",
      "source": [
        "def img_prompt_func(data_dict):\n",
        "    \"\"\"\n",
        "    Join the context into a single string\n",
        "    \"\"\"\n",
        "\n",
        "    formatted_texts = \"\\n\".join(data_dict[\"context\"][\"texts\"])\n",
        "    messages = []\n",
        "\n",
        "    # Adding image(s) to the messages if present\n",
        "    if data_dict[\"context\"][\"images\"]:\n",
        "        for image in data_dict[\"context\"][\"images\"]:\n",
        "            image_message = {\n",
        "                \"type\": \"image_url\",\n",
        "                \"image_url\": {\"url\": f\"data:image/jpeg;base64,{image}\"},\n",
        "            }\n",
        "            messages.append(image_message)\n",
        "\n",
        "    # Adding the text for analysis\n",
        "    text_message = {\n",
        "        \"type\": \"text\",\n",
        "        \"text\": (\n",
        "            \"You are a helpful assistant.\\n\"\n",
        "            \"You will be given a mixed info(s) .\\n\"\n",
        "            \"Use this information to provide relevant information to the user question. \\n\"\n",
        "            f\"User-provided question: {data_dict['question']}\\n\\n\"\n",
        "            \"Text and / or tables:\\n\"\n",
        "            f\"{formatted_texts}\"\n",
        "        ),\n",
        "    }\n",
        "    messages.append(text_message)\n",
        "\n",
        "    return [HumanMessage(content=messages)]"
      ],
      "metadata": {
        "id": "b1CPaCLUx9fE"
      },
      "execution_count": 144,
      "outputs": []
    },
    {
      "cell_type": "code",
      "source": [
        "from langchain_core.runnables import RunnableLambda, RunnablePassthrough"
      ],
      "metadata": {
        "id": "6sEElEFpyD7A"
      },
      "execution_count": 145,
      "outputs": []
    },
    {
      "cell_type": "code",
      "source": [
        "def multi_modal_rag_chain(retriever):\n",
        "    \"\"\"\n",
        "    Multi-modal RAG chain\n",
        "    \"\"\"\n",
        "\n",
        "    # Multi-modal LLM\n",
        "    model = ChatOpenAI(temperature=0, model=\"gpt-4o\", max_tokens=1024)\n",
        "\n",
        "\n",
        "    # RAG pipeline\n",
        "    chain = (\n",
        "        {\n",
        "            \"context\": retriever_multi_vector_img | RunnableLambda(split_image_text_types),\n",
        "            \"question\": RunnablePassthrough(),\n",
        "        }\n",
        "        | RunnableLambda(img_prompt_func)\n",
        "        | model\n",
        "        | StrOutputParser()\n",
        "    )\n",
        "\n",
        "    return chain"
      ],
      "metadata": {
        "id": "DaVxvEdWyFiP"
      },
      "execution_count": 146,
      "outputs": []
    },
    {
      "cell_type": "code",
      "source": [
        "# Create RAG chain\n",
        "chain_multimodal_rag = multi_modal_rag_chain(retriever_multi_vector_img)"
      ],
      "metadata": {
        "id": "DwX8eRMPyG9C"
      },
      "execution_count": 147,
      "outputs": []
    },
    {
      "cell_type": "code",
      "source": [
        "chain_multimodal_rag"
      ],
      "metadata": {
        "colab": {
          "base_uri": "https://localhost:8080/"
        },
        "id": "54yzdasLyRsP",
        "outputId": "16ae6198-e10a-42b3-c46f-efc5203eec94"
      },
      "execution_count": 148,
      "outputs": [
        {
          "output_type": "execute_result",
          "data": {
            "text/plain": [
              "{\n",
              "  context: MultiVectorRetriever(vectorstore=<langchain_community.vectorstores.chroma.Chroma object at 0x7a0b78d3e360>, docstore=<langchain_core.stores.InMemoryStore object at 0x7a0b78d7f470>, search_kwargs={})\n",
              "           | RunnableLambda(split_image_text_types),\n",
              "  question: RunnablePassthrough()\n",
              "}\n",
              "| RunnableLambda(img_prompt_func)\n",
              "| ChatOpenAI(client=<openai.resources.chat.completions.completions.Completions object at 0x7a0b7ccc7d10>, async_client=<openai.resources.chat.completions.completions.AsyncCompletions object at 0x7a0b78d7ffb0>, root_client=<openai.OpenAI object at 0x7a0b7ccc7a10>, root_async_client=<openai.AsyncOpenAI object at 0x7a0b7ccc7740>, model_name='gpt-4o', temperature=0.0, model_kwargs={}, openai_api_key=SecretStr('**********'), max_tokens=1024)\n",
              "| StrOutputParser()"
            ]
          },
          "metadata": {},
          "execution_count": 148
        }
      ]
    },
    {
      "cell_type": "code",
      "source": [
        "query=\"can you explain me this Left: NQ performance as more documents are retrieved. Center: Retrieval recall performance\\\n",
        "in NQ. Right: MS-MARCO Bleu-1 and Rouge-L as more documents are retrieved.\""
      ],
      "metadata": {
        "id": "sMICZd5JyYZN"
      },
      "execution_count": 149,
      "outputs": []
    },
    {
      "cell_type": "code",
      "source": [
        "# Run RAG chain\n",
        "chain_multimodal_rag.invoke(query)"
      ],
      "metadata": {
        "colab": {
          "base_uri": "https://localhost:8080/",
          "height": 174
        },
        "id": "PLhrq2sYyarO",
        "outputId": "73d0896f-65bb-485d-84b0-bd52f3b88bee"
      },
      "execution_count": 150,
      "outputs": [
        {
          "output_type": "execute_result",
          "data": {
            "text/plain": [
              "'The information provided discusses the impact of retrieving more documents on the performance of different models in various tasks, specifically focusing on Open-domain Question Answering (QA) and MS-MARCO, a benchmark dataset for evaluating machine reading comprehension and retrieval tasks.\\n\\n1. **NQ Performance (Left):** \\n   - The left part of the figure mentioned in the text refers to the performance of models on the Natural Questions (NQ) dataset as more documents are retrieved. \\n   - For the RAG-Sequence model, retrieving more documents at test time consistently improves performance. However, for the RAG-Token model, performance peaks when 10 documents are retrieved, suggesting that retrieving more than 10 documents does not lead to further improvements and might even degrade performance.\\n\\n2. **Retrieval Recall Performance in NQ (Center):**\\n   - Although not explicitly detailed in the text, retrieval recall performance generally refers to the ability of the model to retrieve relevant documents from a larger set. \\n   - The text implies that adjusting the number of retrieved documents can affect this recall performance, with more documents potentially leading to better recall but also increased computational costs.\\n\\n3. **MS-MARCO Bleu-1 and Rouge-L (Right):**\\n   - The right part of the figure shows the performance on the MS-MARCO dataset, specifically looking at Bleu-1 and Rouge-L scores as more documents are retrieved.\\n   - For the RAG-Token model, retrieving more documents increases the Rouge-L score, which measures the overlap of longer sequences of words, but this comes at the expense of the Bleu-1 score, which measures the precision of n-grams. \\n   - The RAG-Sequence model shows less pronounced changes in these scores with more documents, indicating a more stable performance across different retrieval settings.\\n\\nOverall, the text highlights the trade-offs and considerations when deciding how many documents to retrieve for different models and tasks. More documents can improve certain performance metrics but may also lead to increased computational demands and potential decreases in other metrics.'"
            ],
            "application/vnd.google.colaboratory.intrinsic+json": {
              "type": "string"
            }
          },
          "metadata": {},
          "execution_count": 150
        }
      ]
    },
    {
      "cell_type": "code",
      "source": [
        "query=\"Explain the overview of the approach taken of Query Encoder + Document Index \""
      ],
      "metadata": {
        "id": "-mql84sVyb4O"
      },
      "execution_count": 151,
      "outputs": []
    },
    {
      "cell_type": "code",
      "source": [
        "# Run RAG chain\n",
        "chain_multimodal_rag.invoke(query)"
      ],
      "metadata": {
        "colab": {
          "base_uri": "https://localhost:8080/",
          "height": 174
        },
        "id": "PAmjURxB0A8t",
        "outputId": "87f8e82a-61d9-45b7-dd76-0080607884d5"
      },
      "execution_count": 152,
      "outputs": [
        {
          "output_type": "execute_result",
          "data": {
            "text/plain": [
              "\"The approach described in the provided text involves a combination of a pre-trained retriever and a pre-trained sequence-to-sequence (seq2seq) model, which are fine-tuned together in an end-to-end manner. Here's an overview of the approach:\\n\\n1. **Components**:\\n   - **Query Encoder + Document Index**: This is the retriever part of the system. The query encoder, based on BERTBASE, generates a representation of the input query. The document index acts as a large external memory, storing dense representations of documents, also produced by a BERTBASE document encoder.\\n   - **Generator**: A pre-trained seq2seq model, such as BART, is used to generate the final output based on the retrieved documents.\\n\\n2. **Retrieval Process**:\\n   - For a given query \\\\( x \\\\), the system uses Maximum Inner Product Search (MIPS) to find the top-K documents \\\\( z_i \\\\) from the document index. MIPS is a technique that efficiently finds documents with the highest inner product with the query representation, which corresponds to the highest prior probability \\\\( p_\\\\eta(z|x) \\\\).\\n\\n3. **Prediction**:\\n   - The final prediction \\\\( y \\\\) is made by treating the retrieved documents \\\\( z \\\\) as latent variables. The system marginalizes over the seq2seq predictions given different documents to produce the output.\\n\\n4. **Training**:\\n   - The document encoder and index are kept fixed during training to avoid the costly process of updating the document index. Only the query encoder and the generator are fine-tuned.\\n   - The training involves minimizing the negative log-likelihood of the correct prediction using stochastic gradient descent with the Adam optimizer.\\n\\n5. **Memory-Based Architecture**:\\n   - The document index serves as a non-parametric memory, which is human-readable and writable. This allows for dynamic updates to the model's memory by editing the document index.\\n   - This approach is similar to memory networks and is used to improve the factual accuracy of generated text by conditioning on retrieved documents.\\n\\n6. **Initialization**:\\n   - The retriever is initialized using a pre-trained bi-encoder from Dense Passage Retrieval (DPR), which was trained to retrieve documents containing answers to specific question-answering datasets like TriviaQA and Natural Questions.\\n\\nOverall, this approach leverages the strengths of both retrieval-based and generation-based models to improve the accuracy and interpretability of the system's predictions.\""
            ],
            "application/vnd.google.colaboratory.intrinsic+json": {
              "type": "string"
            }
          },
          "metadata": {},
          "execution_count": 152
        }
      ]
    },
    {
      "cell_type": "markdown",
      "source": [
        "# CLIP Model"
      ],
      "metadata": {
        "id": "2uSQ6WM95TYF"
      }
    },
    {
      "cell_type": "code",
      "source": [
        "%pip install --upgrade --quiet  langchain-experimental"
      ],
      "metadata": {
        "colab": {
          "base_uri": "https://localhost:8080/"
        },
        "id": "LDRw7GUA0Cm3",
        "outputId": "2dd5a818-cddc-44fd-ff7a-becab4e6110e"
      },
      "execution_count": 153,
      "outputs": [
        {
          "output_type": "stream",
          "name": "stdout",
          "text": [
            "\u001b[?25l   \u001b[90m━━━━━━━━━━━━━━━━━━━━━━━━━━━━━━━━━━━━━━━━\u001b[0m \u001b[32m0.0/209.2 kB\u001b[0m \u001b[31m?\u001b[0m eta \u001b[36m-:--:--\u001b[0m\r\u001b[2K   \u001b[90m━━━━━━━━━━━━━━━━━━━━━━━━━━━━━━━━━━━━━━━━\u001b[0m \u001b[32m209.2/209.2 kB\u001b[0m \u001b[31m6.9 MB/s\u001b[0m eta \u001b[36m0:00:00\u001b[0m\n",
            "\u001b[?25h"
          ]
        }
      ]
    },
    {
      "cell_type": "code",
      "source": [
        "%pip install --upgrade --quiet  pillow open_clip_torch torch matplotlib\n",
        "\n"
      ],
      "metadata": {
        "colab": {
          "base_uri": "https://localhost:8080/"
        },
        "id": "ostEvT4A5VLE",
        "outputId": "d90cba50-2a68-431d-cf05-446e4f0b8269"
      },
      "execution_count": 154,
      "outputs": [
        {
          "output_type": "stream",
          "name": "stdout",
          "text": [
            "\u001b[?25l   \u001b[90m━━━━━━━━━━━━━━━━━━━━━━━━━━━━━━━━━━━━━━━━\u001b[0m \u001b[32m0.0/1.5 MB\u001b[0m \u001b[31m?\u001b[0m eta \u001b[36m-:--:--\u001b[0m\r\u001b[2K   \u001b[91m━━━━━━━━━━━━━━━━━━━━━━━━━━━━━━━━━━━━━━━\u001b[0m\u001b[91m╸\u001b[0m \u001b[32m1.5/1.5 MB\u001b[0m \u001b[31m74.8 MB/s\u001b[0m eta \u001b[36m0:00:01\u001b[0m\r\u001b[2K   \u001b[90m━━━━━━━━━━━━━━━━━━━━━━━━━━━━━━━━━━━━━━━━\u001b[0m \u001b[32m1.5/1.5 MB\u001b[0m \u001b[31m42.3 MB/s\u001b[0m eta \u001b[36m0:00:00\u001b[0m\n",
            "\u001b[?25h\u001b[?25l   \u001b[90m━━━━━━━━━━━━━━━━━━━━━━━━━━━━━━━━━━━━━━━━\u001b[0m \u001b[32m0.0/8.7 MB\u001b[0m \u001b[31m?\u001b[0m eta \u001b[36m-:--:--\u001b[0m\r\u001b[2K   \u001b[91m━━━━━━━━━━━━━━━━━━━━━━━━━\u001b[0m\u001b[91m╸\u001b[0m\u001b[90m━━━━━━━━━━━━━━\u001b[0m \u001b[32m5.6/8.7 MB\u001b[0m \u001b[31m158.1 MB/s\u001b[0m eta \u001b[36m0:00:01\u001b[0m\r\u001b[2K   \u001b[91m━━━━━━━━━━━━━━━━━━━━━━━━━━━━━━━━━━━━━━━\u001b[0m\u001b[91m╸\u001b[0m \u001b[32m8.7/8.7 MB\u001b[0m \u001b[31m153.2 MB/s\u001b[0m eta \u001b[36m0:00:01\u001b[0m\r\u001b[2K   \u001b[90m━━━━━━━━━━━━━━━━━━━━━━━━━━━━━━━━━━━━━━━━\u001b[0m \u001b[32m8.7/8.7 MB\u001b[0m \u001b[31m87.3 MB/s\u001b[0m eta \u001b[36m0:00:00\u001b[0m\n",
            "\u001b[?25h\u001b[?25l   \u001b[90m━━━━━━━━━━━━━━━━━━━━━━━━━━━━━━━━━━━━━━━━\u001b[0m \u001b[32m0.0/44.8 kB\u001b[0m \u001b[31m?\u001b[0m eta \u001b[36m-:--:--\u001b[0m\r\u001b[2K   \u001b[90m━━━━━━━━━━━━━━━━━━━━━━━━━━━━━━━━━━━━━━━━\u001b[0m \u001b[32m44.8/44.8 kB\u001b[0m \u001b[31m2.1 MB/s\u001b[0m eta \u001b[36m0:00:00\u001b[0m\n",
            "\u001b[?25h"
          ]
        }
      ]
    },
    {
      "cell_type": "code",
      "source": [
        "import numpy as np\n",
        "from langchain_experimental.open_clip import OpenCLIPEmbeddings\n",
        "from PIL import Image\n",
        "\n",
        "# Image URIs\n",
        "uri_chart_1 = \"/content/extracted_data2/figure-2-1.jpg\"\n",
        "uri_chart_2 = \"/content/extracted_data2/figure-8-3.jpg\"\n",
        "\n",
        "# Embe images or text\n",
        "clip_embd = OpenCLIPEmbeddings(model_name=\"ViT-B-32\", checkpoint=\"laion2b_s34b_b79k\")\n",
        "img_feat_chart_1 = clip_embd.embed_image([uri_chart_1])\n",
        "img_feat_chart_2 = clip_embd.embed_image([uri_chart_2])\n",
        "text_feat_chart_1 = clip_embd.embed_documents([\"chart_1\"])\n",
        "text_feat_chart_2 = clip_embd.embed_documents([\"chart_2\"])"
      ],
      "metadata": {
        "colab": {
          "base_uri": "https://localhost:8080/",
          "height": 173,
          "referenced_widgets": [
            "d579350492cd47149a1fed2e393d14f2",
            "bff579f0bb5348de9cdef7482ebbb9ca",
            "f51d0a35ede745398958426d1fcbf099",
            "84c8d59a1aee496ca51b29ebf5d0f43e",
            "96cf64a7915f41f986901b1c96454c76",
            "6ce241b8d48241da90173e458cabcb51",
            "c6a8c70e1a384750aceb11cdb0f32b3b",
            "2c8be0eca2e94e26b3ecd197ce8e0f39",
            "85062bffc70c41cfac25bc1b4b838270",
            "1b49bc5f90fe4df58b096926d847d593",
            "1b87a87296284933bdf77625258cb324"
          ]
        },
        "id": "0JGdvj0G5czJ",
        "outputId": "7d89a9ac-cc03-450e-f2ca-8ad4c288e627"
      },
      "execution_count": 1,
      "outputs": [
        {
          "output_type": "stream",
          "name": "stderr",
          "text": [
            "/usr/local/lib/python3.12/dist-packages/huggingface_hub/utils/_auth.py:94: UserWarning: \n",
            "The secret `HF_TOKEN` does not exist in your Colab secrets.\n",
            "To authenticate with the Hugging Face Hub, create a token in your settings tab (https://huggingface.co/settings/tokens), set it as secret in your Google Colab and restart your session.\n",
            "You will be able to reuse this secret in all of your notebooks.\n",
            "Please note that authentication is recommended but still optional to access public models or datasets.\n",
            "  warnings.warn(\n"
          ]
        },
        {
          "output_type": "display_data",
          "data": {
            "text/plain": [
              "open_clip_model.safetensors:   0%|          | 0.00/605M [00:00<?, ?B/s]"
            ],
            "application/vnd.jupyter.widget-view+json": {
              "version_major": 2,
              "version_minor": 0,
              "model_id": "d579350492cd47149a1fed2e393d14f2"
            }
          },
          "metadata": {}
        }
      ]
    },
    {
      "cell_type": "code",
      "source": [
        "text_feat_chart_1"
      ],
      "metadata": {
        "colab": {
          "base_uri": "https://localhost:8080/"
        },
        "id": "EL3hiQor5v2W",
        "outputId": "e30993bd-b93a-418a-b1d9-d88ad0dd0db0"
      },
      "execution_count": 2,
      "outputs": [
        {
          "output_type": "execute_result",
          "data": {
            "text/plain": [
              "[[0.04960158094763756,\n",
              "  -0.02007869817316532,\n",
              "  -0.006002457346767187,\n",
              "  -0.02816661447286606,\n",
              "  -0.028098097071051598,\n",
              "  -0.04519109055399895,\n",
              "  -0.0008946515736170113,\n",
              "  0.023927699774503708,\n",
              "  0.03964629024267197,\n",
              "  -0.005238634534180164,\n",
              "  -0.011629213578999043,\n",
              "  0.024870269000530243,\n",
              "  -0.016809973865747452,\n",
              "  0.015525870956480503,\n",
              "  -0.01661747321486473,\n",
              "  -0.030103588476777077,\n",
              "  -0.16593420505523682,\n",
              "  -0.03919675946235657,\n",
              "  -0.013950211927294731,\n",
              "  -0.020330632105469704,\n",
              "  0.02653373032808304,\n",
              "  0.006540185306221247,\n",
              "  -0.0067333341576159,\n",
              "  -0.0034535338636487722,\n",
              "  -0.026618337258696556,\n",
              "  -0.0148999048396945,\n",
              "  0.061013396829366684,\n",
              "  -0.029094140976667404,\n",
              "  -0.006164803635329008,\n",
              "  0.030285868793725967,\n",
              "  0.004343596752732992,\n",
              "  -0.014835566282272339,\n",
              "  -0.03434322774410248,\n",
              "  -0.012929964810609818,\n",
              "  0.018499257043004036,\n",
              "  -0.016473770141601562,\n",
              "  0.011431402526795864,\n",
              "  0.025147944688796997,\n",
              "  0.006703673861920834,\n",
              "  -0.02307506650686264,\n",
              "  -0.014474629424512386,\n",
              "  -0.04409008100628853,\n",
              "  0.0011630220105871558,\n",
              "  0.04946589097380638,\n",
              "  0.04325930029153824,\n",
              "  0.0447562113404274,\n",
              "  -0.04268180578947067,\n",
              "  0.020363610237836838,\n",
              "  0.061100151389837265,\n",
              "  -0.026801439002156258,\n",
              "  -0.00616074912250042,\n",
              "  -0.007381283678114414,\n",
              "  0.04211602732539177,\n",
              "  0.021054482087492943,\n",
              "  0.019628729671239853,\n",
              "  0.04439705237746239,\n",
              "  0.004294556565582752,\n",
              "  0.012295648455619812,\n",
              "  -0.019595131278038025,\n",
              "  -0.003340053139254451,\n",
              "  -0.010089829564094543,\n",
              "  0.03014402464032173,\n",
              "  -0.013491216115653515,\n",
              "  0.05305022746324539,\n",
              "  0.021267103031277657,\n",
              "  -0.00029248037026263773,\n",
              "  0.03872480243444443,\n",
              "  0.012422419153153896,\n",
              "  0.005714254919439554,\n",
              "  0.019676927477121353,\n",
              "  -0.5333101153373718,\n",
              "  -0.020634643733501434,\n",
              "  0.010222756303846836,\n",
              "  0.006623075809329748,\n",
              "  -0.0032655950635671616,\n",
              "  -0.01151446346193552,\n",
              "  -0.051413644105196,\n",
              "  0.012900788336992264,\n",
              "  -0.035940058529376984,\n",
              "  -0.02440066821873188,\n",
              "  -0.00672985939309001,\n",
              "  0.020884953439235687,\n",
              "  0.03163779154419899,\n",
              "  -0.03583259880542755,\n",
              "  0.011915298178792,\n",
              "  -0.022864993661642075,\n",
              "  -0.008366252295672894,\n",
              "  -0.011199187487363815,\n",
              "  0.014942871406674385,\n",
              "  0.01385573111474514,\n",
              "  0.0162261500954628,\n",
              "  0.046057652682065964,\n",
              "  -0.03219601511955261,\n",
              "  -0.005434076767414808,\n",
              "  -0.023683929815888405,\n",
              "  -0.004084217827767134,\n",
              "  0.021591078490018845,\n",
              "  -0.0033405651338398457,\n",
              "  0.014627802185714245,\n",
              "  -0.005757445935159922,\n",
              "  -0.03899366036057472,\n",
              "  0.0025180866941809654,\n",
              "  -0.03742668032646179,\n",
              "  0.010593616403639317,\n",
              "  0.0009542254265397787,\n",
              "  -0.04362013563513756,\n",
              "  -0.06835643947124481,\n",
              "  -0.014709272421896458,\n",
              "  -0.016455907374620438,\n",
              "  -0.005025516729801893,\n",
              "  0.019929438829421997,\n",
              "  0.044205617159605026,\n",
              "  -0.04297001659870148,\n",
              "  -0.035892289131879807,\n",
              "  0.0258578322827816,\n",
              "  0.003248425666242838,\n",
              "  -0.041405610740184784,\n",
              "  -0.026197688654065132,\n",
              "  -0.014425416477024555,\n",
              "  0.023707209154963493,\n",
              "  0.02454214356839657,\n",
              "  0.009488401934504509,\n",
              "  0.010746100917458534,\n",
              "  0.005629768129438162,\n",
              "  -0.02618524432182312,\n",
              "  0.02188883163034916,\n",
              "  -0.049961384385824203,\n",
              "  -0.03157389536499977,\n",
              "  -0.0024675296153873205,\n",
              "  0.026532288640737534,\n",
              "  -0.016580920666456223,\n",
              "  0.015521200373768806,\n",
              "  0.003086098935455084,\n",
              "  -0.015836773440241814,\n",
              "  0.013607406057417393,\n",
              "  0.04496465623378754,\n",
              "  -0.013118920847773552,\n",
              "  -0.029441380873322487,\n",
              "  0.030828794464468956,\n",
              "  0.0006325747817754745,\n",
              "  -0.03054835833609104,\n",
              "  0.004302273038774729,\n",
              "  -0.0058599249459803104,\n",
              "  -0.007901748642325401,\n",
              "  -0.022997934371232986,\n",
              "  0.0035187324974685907,\n",
              "  -0.010238263756036758,\n",
              "  0.02482740767300129,\n",
              "  0.020061183720827103,\n",
              "  -0.02546730451285839,\n",
              "  -0.021795179694890976,\n",
              "  0.04543536156415939,\n",
              "  0.10791118443012238,\n",
              "  -0.0050808098167181015,\n",
              "  0.03043140284717083,\n",
              "  0.02034628391265869,\n",
              "  0.005840682424604893,\n",
              "  -0.005562752019613981,\n",
              "  0.02948608249425888,\n",
              "  -0.0007500225910916924,\n",
              "  -0.01825905404984951,\n",
              "  0.004740910138934851,\n",
              "  0.00040053072734735906,\n",
              "  -0.0005648802034556866,\n",
              "  0.02932242676615715,\n",
              "  -0.03903115540742874,\n",
              "  0.002412582980468869,\n",
              "  -0.02711467817425728,\n",
              "  -0.017988137900829315,\n",
              "  -0.006870273966342211,\n",
              "  0.004080299753695726,\n",
              "  0.04098227992653847,\n",
              "  -0.018068410456180573,\n",
              "  0.03099718503654003,\n",
              "  0.015821656212210655,\n",
              "  0.03210441395640373,\n",
              "  -0.03930625692009926,\n",
              "  -0.022450348362326622,\n",
              "  0.006700574420392513,\n",
              "  -0.04179832711815834,\n",
              "  0.013088783249258995,\n",
              "  -0.005308518651872873,\n",
              "  -0.006931825075298548,\n",
              "  -0.05019308999180794,\n",
              "  0.013765480369329453,\n",
              "  -0.010331889614462852,\n",
              "  0.0340595617890358,\n",
              "  0.008567781187593937,\n",
              "  0.001477673533372581,\n",
              "  -0.009487616829574108,\n",
              "  -0.05710742250084877,\n",
              "  0.005779728759080172,\n",
              "  0.011154459789395332,\n",
              "  -0.06228582188487053,\n",
              "  -0.0017506683943793178,\n",
              "  0.008362940512597561,\n",
              "  0.006903298199176788,\n",
              "  0.014419320039451122,\n",
              "  -0.018315047025680542,\n",
              "  0.006605274043977261,\n",
              "  0.037567462772130966,\n",
              "  -0.008755187503993511,\n",
              "  -0.04577841982245445,\n",
              "  0.0016671367920935154,\n",
              "  0.003062773495912552,\n",
              "  0.004437137395143509,\n",
              "  -0.006382347084581852,\n",
              "  -0.007307140622287989,\n",
              "  -0.003915825858712196,\n",
              "  -0.033668141812086105,\n",
              "  0.011545736342668533,\n",
              "  -0.03131561726331711,\n",
              "  -0.01694604381918907,\n",
              "  -0.03536873683333397,\n",
              "  0.014918584376573563,\n",
              "  -0.011314581148326397,\n",
              "  0.004270476754754782,\n",
              "  -0.008825602941215038,\n",
              "  0.0014322667848318815,\n",
              "  -0.03971126675605774,\n",
              "  0.03110441006720066,\n",
              "  0.008007051423192024,\n",
              "  -0.016598228365182877,\n",
              "  -0.053507618606090546,\n",
              "  -0.001985541544854641,\n",
              "  -0.0023893830366432667,\n",
              "  -0.008014533668756485,\n",
              "  -0.004865056835114956,\n",
              "  -0.00589072285220027,\n",
              "  0.01248233113437891,\n",
              "  -0.03289953991770744,\n",
              "  -0.02334621362388134,\n",
              "  0.011545778252184391,\n",
              "  -0.0011516166850924492,\n",
              "  0.04148601368069649,\n",
              "  0.03941560536623001,\n",
              "  -0.008957888931035995,\n",
              "  -0.0413186177611351,\n",
              "  0.004529270809143782,\n",
              "  0.018650410696864128,\n",
              "  -0.023121649399399757,\n",
              "  0.07618632167577744,\n",
              "  0.13615316152572632,\n",
              "  -0.003322834149003029,\n",
              "  0.008783681318163872,\n",
              "  -0.019865622743964195,\n",
              "  -0.06503376364707947,\n",
              "  0.11796879768371582,\n",
              "  -0.007924660108983517,\n",
              "  0.03609291836619377,\n",
              "  -0.0076363543048501015,\n",
              "  -0.016217272728681564,\n",
              "  -0.029672566801309586,\n",
              "  -0.5330678820610046,\n",
              "  0.01891777664422989,\n",
              "  -0.03527352213859558,\n",
              "  -0.04521244019269943,\n",
              "  0.014660325832664967,\n",
              "  0.056971754878759384,\n",
              "  0.007541621569544077,\n",
              "  -0.02295566163957119,\n",
              "  0.006533348932862282,\n",
              "  0.008601750247180462,\n",
              "  -0.007869531400501728,\n",
              "  -0.026605764403939247,\n",
              "  0.03966497257351875,\n",
              "  -0.005515963304787874,\n",
              "  -0.028897885233163834,\n",
              "  0.03549981862306595,\n",
              "  -0.02403889037668705,\n",
              "  -0.03587757423520088,\n",
              "  0.012264968827366829,\n",
              "  0.03613439202308655,\n",
              "  0.015364523977041245,\n",
              "  0.009379720315337181,\n",
              "  0.009908754378557205,\n",
              "  0.020417656749486923,\n",
              "  0.015955695882439613,\n",
              "  -0.017552301287651062,\n",
              "  0.0012830188497900963,\n",
              "  -0.03716288506984711,\n",
              "  0.051103170961141586,\n",
              "  0.0061548319645226,\n",
              "  -0.008761302568018436,\n",
              "  -0.025051940232515335,\n",
              "  -0.025069281458854675,\n",
              "  0.0021908271592110395,\n",
              "  -0.03100680001080036,\n",
              "  -0.016024073585867882,\n",
              "  0.017599547281861305,\n",
              "  0.028928333893418312,\n",
              "  0.004311951342970133,\n",
              "  0.01135653629899025,\n",
              "  -0.03905533254146576,\n",
              "  -0.017524853348731995,\n",
              "  0.03160320594906807,\n",
              "  0.053074561059474945,\n",
              "  -0.01022166758775711,\n",
              "  -0.008755776099860668,\n",
              "  -0.021890735253691673,\n",
              "  -0.0027001334819942713,\n",
              "  0.007357274182140827,\n",
              "  -0.010456983000040054,\n",
              "  0.0109711280092597,\n",
              "  -0.1071966364979744,\n",
              "  -0.016023702919483185,\n",
              "  0.07199575006961823,\n",
              "  -0.10790108144283295,\n",
              "  -0.050450440496206284,\n",
              "  0.025353915989398956,\n",
              "  0.0019649325404316187,\n",
              "  0.03561776876449585,\n",
              "  0.05255431309342384,\n",
              "  0.005603346507996321,\n",
              "  0.021013198420405388,\n",
              "  -0.008873753249645233,\n",
              "  -0.013115191832184792,\n",
              "  0.033827126026153564,\n",
              "  0.002023851266130805,\n",
              "  0.03231191635131836,\n",
              "  0.006698440294712782,\n",
              "  -0.02234252728521824,\n",
              "  -0.008114367723464966,\n",
              "  0.015003512613475323,\n",
              "  -0.055582232773303986,\n",
              "  -0.02715510129928589,\n",
              "  -0.02317977324128151,\n",
              "  -0.022189410403370857,\n",
              "  -0.011135201901197433,\n",
              "  -0.007341550197452307,\n",
              "  0.04947712644934654,\n",
              "  7.984325930010527e-05,\n",
              "  0.02278905361890793,\n",
              "  0.015857240185141563,\n",
              "  -0.07460738718509674,\n",
              "  -0.0006244325777515769,\n",
              "  0.030482497066259384,\n",
              "  0.04278095066547394,\n",
              "  0.033495668321847916,\n",
              "  -0.015960952267050743,\n",
              "  -0.023727471008896828,\n",
              "  0.005634863395243883,\n",
              "  0.03352182358503342,\n",
              "  0.002989995526149869,\n",
              "  0.007835113443434238,\n",
              "  0.03389459103345871,\n",
              "  0.01464597973972559,\n",
              "  0.030769798904657364,\n",
              "  -0.02427682653069496,\n",
              "  0.027691524475812912,\n",
              "  -0.028176190331578255,\n",
              "  -0.011433917097747326,\n",
              "  0.01233185175806284,\n",
              "  0.02127828449010849,\n",
              "  0.01892053708434105,\n",
              "  0.026812367141246796,\n",
              "  -0.007505161687731743,\n",
              "  0.011901904828846455,\n",
              "  0.03608177974820137,\n",
              "  0.025223437696695328,\n",
              "  -0.0065632774494588375,\n",
              "  0.0026218974962830544,\n",
              "  -0.029572751373052597,\n",
              "  -0.006103101652115583,\n",
              "  -0.0214890968054533,\n",
              "  0.0024021374993026257,\n",
              "  0.0341673344373703,\n",
              "  -0.02285301312804222,\n",
              "  -0.0041793519631028175,\n",
              "  0.025499433279037476,\n",
              "  -0.02953910268843174,\n",
              "  -0.011805345304310322,\n",
              "  -0.0339183509349823,\n",
              "  -0.002078920602798462,\n",
              "  -0.03317525237798691,\n",
              "  0.04879389703273773,\n",
              "  -0.015125645324587822,\n",
              "  -0.0015404887963086367,\n",
              "  0.006273308768868446,\n",
              "  -0.04046313837170601,\n",
              "  0.028579704463481903,\n",
              "  -0.015585268847644329,\n",
              "  -0.03163198009133339,\n",
              "  -0.013802485540509224,\n",
              "  0.002859339816495776,\n",
              "  -0.013730731792747974,\n",
              "  -0.00431154016405344,\n",
              "  -0.021734440699219704,\n",
              "  0.015455053187906742,\n",
              "  -0.018283817917108536,\n",
              "  -0.02021128684282303,\n",
              "  -0.014956318773329258,\n",
              "  0.01931471936404705,\n",
              "  0.015642687678337097,\n",
              "  -0.037011709064245224,\n",
              "  -0.030632896348834038,\n",
              "  0.03742556273937225,\n",
              "  0.004680783022195101,\n",
              "  0.013912863098084927,\n",
              "  0.03029739111661911,\n",
              "  -0.034075651317834854,\n",
              "  -0.020124142989516258,\n",
              "  -0.005672014784067869,\n",
              "  0.003989355638623238,\n",
              "  0.019492825493216515,\n",
              "  0.02638900838792324,\n",
              "  0.0003763897402677685,\n",
              "  -0.035945113748311996,\n",
              "  0.012005535885691643,\n",
              "  -0.006265179254114628,\n",
              "  -0.01899476908147335,\n",
              "  0.04735671356320381,\n",
              "  0.05458317697048187,\n",
              "  0.014686751179397106,\n",
              "  0.05017513781785965,\n",
              "  -0.025295671075582504,\n",
              "  -0.017286408692598343,\n",
              "  0.020173007622361183,\n",
              "  0.023629946634173393,\n",
              "  0.0010471754940226674,\n",
              "  0.004679905250668526,\n",
              "  0.007465002592653036,\n",
              "  -0.012381216511130333,\n",
              "  -0.002876309445127845,\n",
              "  0.005535222124308348,\n",
              "  -0.032635368406772614,\n",
              "  -0.007736915722489357,\n",
              "  0.04141724854707718,\n",
              "  -0.007804690860211849,\n",
              "  0.013956256210803986,\n",
              "  -0.027389472350478172,\n",
              "  0.012737782672047615,\n",
              "  0.004997480660676956,\n",
              "  0.01313058752566576,\n",
              "  0.0351429246366024,\n",
              "  -0.051707156002521515,\n",
              "  5.727597454097122e-05,\n",
              "  -0.007303826976567507,\n",
              "  -0.03165726363658905,\n",
              "  -0.0035938560031354427,\n",
              "  -0.009301653131842613,\n",
              "  -0.03832107409834862,\n",
              "  -0.0010408086236566305,\n",
              "  0.0007369061931967735,\n",
              "  -5.607596904155798e-05,\n",
              "  -0.008965317159891129,\n",
              "  0.00789471622556448,\n",
              "  0.006360100582242012,\n",
              "  0.01597576029598713,\n",
              "  -0.020581113174557686,\n",
              "  -0.0029589144978672266,\n",
              "  0.01684476062655449,\n",
              "  -0.027216985821723938,\n",
              "  0.012074187397956848,\n",
              "  -0.0387846976518631,\n",
              "  -0.022069673985242844,\n",
              "  -0.07009904831647873,\n",
              "  0.03080807439982891,\n",
              "  0.027752917259931564,\n",
              "  0.0017981992568820715,\n",
              "  -0.04570796713232994,\n",
              "  0.029169395565986633,\n",
              "  -0.013394704088568687,\n",
              "  0.005596657283604145,\n",
              "  0.016404641792178154,\n",
              "  -0.008693271316587925,\n",
              "  0.05884219706058502,\n",
              "  -0.03060532920062542,\n",
              "  -0.009242532774806023,\n",
              "  -0.010186986066401005,\n",
              "  -0.014356313273310661,\n",
              "  -0.005310081411153078,\n",
              "  0.036147020757198334,\n",
              "  0.021694263443350792,\n",
              "  0.008723083883523941,\n",
              "  0.06831417232751846,\n",
              "  0.007102712988853455,\n",
              "  0.015609831549227238,\n",
              "  -0.05164158344268799,\n",
              "  0.015632497146725655,\n",
              "  0.006443970371037722,\n",
              "  -0.0036976649425923824,\n",
              "  0.007197572384029627,\n",
              "  -0.010907210409641266,\n",
              "  -0.028286777436733246,\n",
              "  0.00785714853554964,\n",
              "  -0.03209048509597778,\n",
              "  0.0010957287158817053,\n",
              "  -0.03905950486660004,\n",
              "  -0.03593454882502556,\n",
              "  0.029235832393169403,\n",
              "  0.004735959693789482,\n",
              "  -0.04721546918153763,\n",
              "  0.03592485189437866,\n",
              "  0.019361410290002823,\n",
              "  -0.0486769862473011,\n",
              "  -0.005035429261624813,\n",
              "  -0.026112765073776245,\n",
              "  0.040321774780750275,\n",
              "  0.0042721424251794815,\n",
              "  0.009904597885906696,\n",
              "  -0.005559492390602827,\n",
              "  0.044374775141477585,\n",
              "  -0.061943236738443375,\n",
              "  -0.0014450259041041136,\n",
              "  0.011281088925898075,\n",
              "  -0.02961566112935543,\n",
              "  -0.01019683200865984,\n",
              "  -0.020012108609080315,\n",
              "  0.01276793610304594,\n",
              "  0.002814265200868249,\n",
              "  0.016168246045708656]]"
            ]
          },
          "metadata": {},
          "execution_count": 2
        }
      ]
    },
    {
      "cell_type": "code",
      "source": [
        "import chromadb\n",
        "from chromadb.utils.embedding_functions import OpenCLIPEmbeddingFunction\n",
        "from chromadb.utils.data_loaders import ImageLoader\n",
        "from matplotlib import pyplot as plt\n",
        "\n",
        "# Initialize ChromaDB client\n",
        "chroma_client = chromadb.PersistentClient(path=\"my_vectordb\")\n",
        "\n",
        "# Initialize ImageLoader and EmbeddingFunction\n",
        "image_loader = ImageLoader()\n",
        "multimodal_ef = OpenCLIPEmbeddingFunction()"
      ],
      "metadata": {
        "id": "EJRA70aO7wsC"
      },
      "execution_count": 3,
      "outputs": []
    },
    {
      "cell_type": "code",
      "source": [
        "multimodal_db = chroma_client.get_or_create_collection(\n",
        "    name=\"multimodal_db\",\n",
        "    embedding_function=multimodal_ef,\n",
        "    data_loader=image_loader\n",
        ")\n",
        "\n",
        "# Add images to the database\n",
        "multimodal_db.add(\n",
        "#ensure each image has an unique id.\n",
        "    ids=['0', '1'],\n",
        "    uris=[\n",
        "        '/content/extracted_data2/figure-2-1.jpg', '/content/extracted_data2/figure-8-3.jpg'\n",
        "    ],\n",
        "#the metadatas below contains imagecategory only , we can add more variables.\n",
        "    metadatas=[\n",
        "        {'img_category': 'charts'}, {'img_category': 'charts'}\n",
        "    ]\n",
        ")"
      ],
      "metadata": {
        "id": "8zLzt25IB7PH"
      },
      "execution_count": 4,
      "outputs": []
    },
    {
      "cell_type": "code",
      "source": [
        "query_texts = ['Query Encoder + Document Index']\n",
        "\n",
        "query_results = multimodal_db.query(\n",
        "    query_texts = query_texts,\n",
        "    n_results=1,\n",
        "    include=['documents', 'distances', 'metadatas', 'data', 'uris'],\n",
        "    where={'img_category':'charts'}\n",
        ")"
      ],
      "metadata": {
        "id": "0BywAoRYChQG"
      },
      "execution_count": 9,
      "outputs": []
    },
    {
      "cell_type": "code",
      "source": [
        "query_results"
      ],
      "metadata": {
        "colab": {
          "base_uri": "https://localhost:8080/"
        },
        "id": "CF76tQtdCwxw",
        "outputId": "89558030-5dc0-4a6c-a2ad-90deacd4c146"
      },
      "execution_count": 10,
      "outputs": [
        {
          "output_type": "execute_result",
          "data": {
            "text/plain": [
              "{'ids': [['0']],\n",
              " 'embeddings': None,\n",
              " 'documents': [[None]],\n",
              " 'uris': [['/content/extracted_data2/figure-2-1.jpg']],\n",
              " 'included': ['documents', 'distances', 'metadatas', 'data', 'uris'],\n",
              " 'data': [[array([[[255, 253, 255],\n",
              "           [255, 253, 255],\n",
              "           [255, 253, 255],\n",
              "           ...,\n",
              "           [255, 253, 255],\n",
              "           [255, 253, 255],\n",
              "           [255, 253, 255]],\n",
              "   \n",
              "          [[255, 253, 255],\n",
              "           [255, 253, 255],\n",
              "           [255, 253, 255],\n",
              "           ...,\n",
              "           [255, 253, 255],\n",
              "           [255, 253, 255],\n",
              "           [255, 253, 255]],\n",
              "   \n",
              "          [[255, 254, 255],\n",
              "           [255, 254, 255],\n",
              "           [255, 254, 255],\n",
              "           ...,\n",
              "           [255, 254, 255],\n",
              "           [255, 254, 255],\n",
              "           [255, 254, 255]],\n",
              "   \n",
              "          ...,\n",
              "   \n",
              "          [[255, 255, 255],\n",
              "           [255, 255, 255],\n",
              "           [255, 255, 255],\n",
              "           ...,\n",
              "           [255, 255, 255],\n",
              "           [255, 255, 255],\n",
              "           [255, 255, 255]],\n",
              "   \n",
              "          [[255, 255, 255],\n",
              "           [255, 255, 255],\n",
              "           [255, 255, 255],\n",
              "           ...,\n",
              "           [255, 255, 255],\n",
              "           [255, 255, 255],\n",
              "           [255, 255, 255]],\n",
              "   \n",
              "          [[255, 255, 255],\n",
              "           [255, 255, 255],\n",
              "           [255, 255, 255],\n",
              "           ...,\n",
              "           [255, 255, 255],\n",
              "           [255, 255, 255],\n",
              "           [255, 255, 255]]], dtype=uint8)]],\n",
              " 'metadatas': [[{'img_category': 'charts'}]],\n",
              " 'distances': [[0.7222166061401367]]}"
            ]
          },
          "metadata": {},
          "execution_count": 10
        }
      ]
    },
    {
      "cell_type": "code",
      "source": [
        "def print_query_results(query_list: list, query_results: dict) -> None:\n",
        "    result_count = len(query_results['ids'][0])\n",
        "\n",
        "    for i in range(len(query_list)):\n",
        "        print(f'Results for query: {query_list[i]}')\n",
        "\n",
        "        for j in range(result_count):\n",
        "            id = query_results[\"ids\"][i][j]\n",
        "            distance = query_results['distances'][i][j]\n",
        "            data = query_results['data'][i][j]\n",
        "            metadata = query_results['metadatas'][i][j]\n",
        "            document = query_results['documents'][i][j]\n",
        "            uri = query_results['uris'][i][j]\n",
        "\n",
        "            print(f'id: {id}, distance: {distance}, document: {document}')\n",
        "            print(f'data: {uri}')\n",
        "            plt.imshow(data)\n",
        "            plt.axis(\"off\")\n",
        "            plt.show()\n",
        "\n"
      ],
      "metadata": {
        "id": "yJbKp6wDCQvu"
      },
      "execution_count": 11,
      "outputs": []
    },
    {
      "cell_type": "code",
      "source": [
        "print_query_results(query_texts, query_results)"
      ],
      "metadata": {
        "colab": {
          "base_uri": "https://localhost:8080/",
          "height": 235
        },
        "id": "rRi1JVHuC1hB",
        "outputId": "0675e9ba-776b-4c0c-b43e-2230c9b07fc1"
      },
      "execution_count": 12,
      "outputs": [
        {
          "output_type": "stream",
          "name": "stdout",
          "text": [
            "Results for query: Query Encoder + Document Index\n",
            "id: 0, distance: 0.7222166061401367, document: None\n",
            "data: /content/extracted_data2/figure-2-1.jpg\n"
          ]
        },
        {
          "output_type": "display_data",
          "data": {
            "text/plain": [
              "<Figure size 640x480 with 1 Axes>"
            ],
            "image/png": "[encoded data removed]"
          },
          "metadata": {}
        }
      ]
    },
    {
      "cell_type": "code",
      "source": [],
      "metadata": {
        "id": "vGF44GwHDIdA"
      },
      "execution_count": null,
      "outputs": []
    },
    {
      "cell_type": "code",
      "source": [
        "query_texts = ['What is the effect of retrieving more documents on recall and L Score']\n",
        "\n",
        "query_results = multimodal_db.query(\n",
        "    query_texts = query_texts,\n",
        "    n_results=1,\n",
        "    include=['documents', 'distances', 'metadatas', 'data', 'uris'],\n",
        "    where={'img_category':'charts'}\n",
        ")"
      ],
      "metadata": {
        "id": "5SSIY18UC2Mn"
      },
      "execution_count": 15,
      "outputs": []
    },
    {
      "cell_type": "code",
      "source": [
        "print_query_results(query_texts, query_results)"
      ],
      "metadata": {
        "colab": {
          "base_uri": "https://localhost:8080/",
          "height": 195
        },
        "id": "2ysv_PVNDL5h",
        "outputId": "ccb63a33-0b61-43bb-90d6-fc1cbc6430c8"
      },
      "execution_count": 16,
      "outputs": [
        {
          "output_type": "stream",
          "name": "stdout",
          "text": [
            "Results for query: What is the effect of retrieving more documents on recall and L Score\n",
            "id: 1, distance: 0.7787424921989441, document: None\n",
            "data: /content/extracted_data2/figure-8-3.jpg\n"
          ]
        },
        {
          "output_type": "display_data",
          "data": {
            "text/plain": [
              "<Figure size 640x480 with 1 Axes>"
            ],
            "image/png": "[encoded data removed]"
          },
          "metadata": {}
        }
      ]
    },
    {
      "cell_type": "code",
      "source": [],
      "metadata": {
        "id": "olrcno70DNOz"
      },
      "execution_count": null,
      "outputs": []
    }
  ]
}